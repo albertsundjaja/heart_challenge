{
 "cells": [
  {
   "cell_type": "code",
   "execution_count": 335,
   "metadata": {
    "collapsed": true
   },
   "outputs": [],
   "source": [
    "import pandas as pd\n",
    "import numpy as np\n",
    "import torch as th\n",
    "from torch.utils.data import TensorDataset, DataLoader\n",
    "from sklearn.model_selection import train_test_split"
   ]
  },
  {
   "cell_type": "code",
   "execution_count": 393,
   "metadata": {
    "collapsed": true
   },
   "outputs": [],
   "source": [
    "df = pd.read_csv('train_values.csv')\n",
    "df_label = pd.read_csv('train_labels.csv')\n",
    "df_test = pd.read_csv('test_values.csv')"
   ]
  },
  {
   "cell_type": "code",
   "execution_count": null,
   "metadata": {
    "collapsed": true
   },
   "outputs": [],
   "source": [
    "df_test = pd.concat([df_test.drop(['thal'],axis=1), pd.get_dummies(df_test['thal'], prefix='thal')], axis=1)\n",
    "df_test = pd.concat([df_test.drop(['chest_pain_type'],axis=1), pd.get_dummies(df_test['chest_pain_type'], prefix='chest')], axis=1)\n",
    "df_test = pd.concat([df_test.drop(['sex'],axis=1), pd.get_dummies(df_test['sex'], prefix='sex')], axis=1)\n",
    "df_test = pd.concat([df_test.drop(['exercise_induced_angina'],axis=1), pd.get_dummies(df_test['exercise_induced_angina'], prefix='exercise')], axis=1)\n",
    "df_test = pd.concat([df_test.drop(['fasting_blood_sugar_gt_120_mg_per_dl'],axis=1), pd.get_dummies(df_test['fasting_blood_sugar_gt_120_mg_per_dl'], prefix='blood')], axis=1)\n",
    "df_test = pd.concat([df_test.drop(['slope_of_peak_exercise_st_segment'],axis=1), pd.get_dummies(df_test['slope_of_peak_exercise_st_segment'], prefix='slope')], axis=1)"
   ]
  },
  {
   "cell_type": "code",
   "execution_count": 337,
   "metadata": {
    "collapsed": true
   },
   "outputs": [],
   "source": [
    "df['patient_id'] = df['patient_id'].astype(str)\n",
    "df_label['patient_id'] = df_label['patient_id'].astype(str)"
   ]
  },
  {
   "cell_type": "code",
   "execution_count": 338,
   "metadata": {
    "collapsed": false
   },
   "outputs": [
    {
     "name": "stdout",
     "output_type": "stream",
     "text": [
      "<class 'pandas.core.frame.DataFrame'>\n",
      "RangeIndex: 180 entries, 0 to 179\n",
      "Data columns (total 2 columns):\n",
      "patient_id               180 non-null object\n",
      "heart_disease_present    180 non-null int64\n",
      "dtypes: int64(1), object(1)\n",
      "memory usage: 2.9+ KB\n"
     ]
    }
   ],
   "source": [
    "df_label.info()"
   ]
  },
  {
   "cell_type": "code",
   "execution_count": 339,
   "metadata": {
    "collapsed": false
   },
   "outputs": [
    {
     "data": {
      "text/plain": [
       "Index(['patient_id', 'resting_blood_pressure', 'num_major_vessels',\n",
       "       'resting_ekg_results', 'serum_cholesterol_mg_per_dl',\n",
       "       'oldpeak_eq_st_depression', 'age', 'max_heart_rate_achieved',\n",
       "       'heart_disease_present', 'thal_fixed_defect', 'thal_normal',\n",
       "       'thal_reversible_defect', 'chest_1', 'chest_2', 'chest_3', 'chest_4',\n",
       "       'sex_0', 'sex_1', 'exercise_0', 'exercise_1', 'blood_0', 'blood_1',\n",
       "       'slope_1', 'slope_2', 'slope_3'],\n",
       "      dtype='object')"
      ]
     },
     "execution_count": 339,
     "metadata": {},
     "output_type": "execute_result"
    }
   ],
   "source": [
    "df_join.columns"
   ]
  },
  {
   "cell_type": "code",
   "execution_count": 340,
   "metadata": {
    "collapsed": true
   },
   "outputs": [],
   "source": [
    "df_join = pd.merge(df,df_label, on='patient_id')"
   ]
  },
  {
   "cell_type": "code",
   "execution_count": 70,
   "metadata": {
    "collapsed": false
   },
   "outputs": [
    {
     "data": {
      "text/plain": [
       "Index(['patient_id', 'resting_blood_pressure', 'num_major_vessels',\n",
       "       'resting_ekg_results', 'serum_cholesterol_mg_per_dl',\n",
       "       'oldpeak_eq_st_depression', 'age', 'max_heart_rate_achieved',\n",
       "       'heart_disease_present', 'thal_fixed_defect', 'thal_normal',\n",
       "       'thal_reversible_defect', 'chest_1', 'chest_2', 'chest_3', 'chest_4',\n",
       "       'sex_0', 'sex_1', 'exercise_0', 'exercise_1', 'blood_0', 'blood_1',\n",
       "       'slope_1', 'slope_2', 'slope_3'],\n",
       "      dtype='object')"
      ]
     },
     "execution_count": 70,
     "metadata": {},
     "output_type": "execute_result"
    }
   ],
   "source": [
    "df_join.columns"
   ]
  },
  {
   "cell_type": "code",
   "execution_count": 341,
   "metadata": {
    "collapsed": true
   },
   "outputs": [],
   "source": [
    "df_join = pd.concat([df_join.drop(['thal'],axis=1), pd.get_dummies(df_join['thal'], prefix='thal')], axis=1)\n",
    "df_join = pd.concat([df_join.drop(['chest_pain_type'],axis=1), pd.get_dummies(df_join['chest_pain_type'], prefix='chest')], axis=1)\n",
    "df_join = pd.concat([df_join.drop(['sex'],axis=1), pd.get_dummies(df_join['sex'], prefix='sex')], axis=1)\n",
    "df_join = pd.concat([df_join.drop(['exercise_induced_angina'],axis=1), pd.get_dummies(df_join['exercise_induced_angina'], prefix='exercise')], axis=1)\n",
    "df_join = pd.concat([df_join.drop(['fasting_blood_sugar_gt_120_mg_per_dl'],axis=1), pd.get_dummies(df_join['fasting_blood_sugar_gt_120_mg_per_dl'], prefix='blood')], axis=1)\n",
    "df_join = pd.concat([df_join.drop(['slope_of_peak_exercise_st_segment'],axis=1), pd.get_dummies(df_join['slope_of_peak_exercise_st_segment'], prefix='slope')], axis=1)"
   ]
  },
  {
   "cell_type": "code",
   "execution_count": 426,
   "metadata": {
    "collapsed": true
   },
   "outputs": [],
   "source": [
    "X = df_join.drop(['patient_id','heart_disease_present'],axis=1)\n",
    "y = df_join['heart_disease_present']"
   ]
  },
  {
   "cell_type": "code",
   "execution_count": 633,
   "metadata": {
    "collapsed": true
   },
   "outputs": [],
   "source": [
    "X_train, X_test, y_train, y_test = train_test_split(X,y, test_size = 0.2, random_state=42, stratify=y)"
   ]
  },
  {
   "cell_type": "code",
   "execution_count": 634,
   "metadata": {
    "collapsed": true
   },
   "outputs": [],
   "source": [
    "from sklearn.preprocessing import MinMaxScaler\n",
    "\n",
    "scaler = MinMaxScaler()\n",
    "scaler.fit(X)\n",
    "X_train = scaler.transform(X_train)\n",
    "X_test = scaler.transform(X_test)"
   ]
  },
  {
   "cell_type": "code",
   "execution_count": null,
   "metadata": {
    "collapsed": true
   },
   "outputs": [],
   "source": []
  },
  {
   "cell_type": "code",
   "execution_count": 635,
   "metadata": {
    "collapsed": true
   },
   "outputs": [],
   "source": [
    "features = th.tensor(X_train)\n",
    "labels = th.tensor(y_train.values)\n",
    "dataset = TensorDataset(features, labels)\n",
    "trainloader = DataLoader(dataset, batch_size=32, shuffle=True)"
   ]
  },
  {
   "cell_type": "code",
   "execution_count": 636,
   "metadata": {
    "collapsed": true
   },
   "outputs": [],
   "source": [
    "features_test = th.tensor(X_test)\n",
    "labels_test = th.tensor(y_test.values)\n",
    "dataset_test = TensorDataset(features_test, labels_test)\n",
    "testloader = DataLoader(dataset_test)"
   ]
  },
  {
   "cell_type": "code",
   "execution_count": 343,
   "metadata": {
    "collapsed": true
   },
   "outputs": [],
   "source": [
    "features = th.tensor(X.drop(['patient_id'], axis=1).values)\n",
    "labels = th.tensor(y.values)\n",
    "dataset = TensorDataset(features, labels)\n",
    "trainloader = DataLoader(dataset, batch_size=32, shuffle=True)"
   ]
  },
  {
   "cell_type": "code",
   "execution_count": 699,
   "metadata": {
    "collapsed": true
   },
   "outputs": [],
   "source": [
    "from torch import nn, optim\n",
    "import torch.nn.functional as F\n",
    "\n",
    "def MinMax(x):\n",
    "    scaler = MinMaxScaler()\n",
    "    scaled_x = scaler.fit_transform(x.detach().numpy())\n",
    "    return th.tensor(x)\n",
    "    \n",
    "\n",
    "class Classifier(nn.Module):\n",
    "    def __init__(self):\n",
    "        super().__init__()\n",
    "        self.fc1 = nn.Linear(23, 512)\n",
    "        self.fc2 = nn.Linear(512, 64)\n",
    "        self.fc3 = nn.Linear(64, 1)\n",
    "        self.dropout1 = nn.Dropout(p=0.5)\n",
    "        self.dropout2 = nn.Dropout(p=0.25)\n",
    "    \n",
    "    def forward(self, x):\n",
    "        x = x.float()\n",
    "        x = self.fc1(x)\n",
    "        x = F.leaky_relu(x)\n",
    "        x = self.dropout1(x)\n",
    "        x = self.fc2(x)\n",
    "        x = F.leaky_relu(x)\n",
    "        x = self.dropout2(x)\n",
    "        x = self.fc3(x)\n",
    "        x = th.sigmoid(x)\n",
    "        return x"
   ]
  },
  {
   "cell_type": "code",
   "execution_count": 700,
   "metadata": {
    "collapsed": true
   },
   "outputs": [],
   "source": [
    "model = Classifier()"
   ]
  },
  {
   "cell_type": "code",
   "execution_count": 701,
   "metadata": {
    "collapsed": true
   },
   "outputs": [],
   "source": [
    "criterion = nn.BCELoss()\n",
    "optimizer = optim.Adam(model.parameters(), lr=0.005)"
   ]
  },
  {
   "cell_type": "code",
   "execution_count": 702,
   "metadata": {
    "collapsed": true
   },
   "outputs": [],
   "source": [
    "import warnings\n",
    "warnings.filterwarnings(\"ignore\")"
   ]
  },
  {
   "cell_type": "code",
   "execution_count": 703,
   "metadata": {
    "collapsed": false
   },
   "outputs": [
    {
     "name": "stdout",
     "output_type": "stream",
     "text": [
      "Training loss: 0.5973690390586853\n",
      "Validation loss: 0.38778427243232727\n",
      "Accuracy: 0.8888888955116272\n",
      "Training loss: 0.45341333746910095\n",
      "Validation loss: 0.3275359570980072\n",
      "Accuracy: 0.8333333134651184\n",
      "Training loss: 0.38610807061195374\n",
      "Validation loss: 0.31084132194519043\n",
      "Accuracy: 0.8611111044883728\n",
      "Training loss: 0.3759234338998795\n",
      "Validation loss: 0.3644234240055084\n",
      "Accuracy: 0.8333333134651184\n",
      "Training loss: 0.373495489358902\n",
      "Validation loss: 0.3436714708805084\n",
      "Accuracy: 0.8611111044883728\n",
      "Training loss: 0.3899455785751343\n",
      "Validation loss: 0.45251432061195374\n",
      "Accuracy: 0.7777777910232544\n",
      "Training loss: 0.3044384211301804\n",
      "Validation loss: 0.3349950611591339\n",
      "Accuracy: 0.8611111044883728\n",
      "Training loss: 0.321978497505188\n",
      "Validation loss: 0.37746962904930115\n",
      "Accuracy: 0.8333333134651184\n",
      "Training loss: 0.31181941032409666\n",
      "Validation loss: 0.34159979224205017\n",
      "Accuracy: 0.8611111044883728\n",
      "Training loss: 0.2791659295558929\n",
      "Validation loss: 0.4511624872684479\n",
      "Accuracy: 0.8055555820465088\n",
      "Training loss: 0.27836254239082336\n",
      "Validation loss: 0.4016822874546051\n",
      "Accuracy: 0.8055555820465088\n",
      "Training loss: 0.2871267944574356\n",
      "Validation loss: 0.3315110504627228\n",
      "Accuracy: 0.8055555820465088\n",
      "Training loss: 0.2383561834692955\n",
      "Validation loss: 0.3494263291358948\n",
      "Accuracy: 0.8333333134651184\n",
      "Training loss: 0.24824028164148332\n",
      "Validation loss: 0.5136224031448364\n",
      "Accuracy: 0.7777777910232544\n",
      "Training loss: 0.30565532445907595\n",
      "Validation loss: 0.39629802107810974\n",
      "Accuracy: 0.8055555820465088\n",
      "Training loss: 0.2968195974826813\n",
      "Validation loss: 0.3555028736591339\n",
      "Accuracy: 0.8888888955116272\n",
      "Training loss: 0.24382277876138686\n",
      "Validation loss: 0.4132062494754791\n",
      "Accuracy: 0.8611111044883728\n",
      "Training loss: 0.2562865406274796\n",
      "Validation loss: 0.4411190450191498\n",
      "Accuracy: 0.8055555820465088\n",
      "Training loss: 0.27224921584129336\n",
      "Validation loss: 0.4068710505962372\n",
      "Accuracy: 0.8055555820465088\n",
      "Training loss: 0.2016974776983261\n",
      "Validation loss: 0.35757702589035034\n",
      "Accuracy: 0.8611111044883728\n",
      "Training loss: 0.20215035676956178\n",
      "Validation loss: 0.4692753255367279\n",
      "Accuracy: 0.8333333134651184\n",
      "Training loss: 0.22852019667625428\n",
      "Validation loss: 0.5042812824249268\n",
      "Accuracy: 0.7777777910232544\n",
      "Training loss: 0.18887118846178055\n",
      "Validation loss: 0.4208139479160309\n",
      "Accuracy: 0.8611111044883728\n",
      "Training loss: 0.19495096504688264\n",
      "Validation loss: 0.546484649181366\n",
      "Accuracy: 0.7777777910232544\n",
      "Training loss: 0.17041491195559502\n",
      "Validation loss: 0.497304230928421\n",
      "Accuracy: 0.8055555820465088\n",
      "Training loss: 0.15736492574214936\n",
      "Validation loss: 0.5177521705627441\n",
      "Accuracy: 0.75\n",
      "Training loss: 0.13606142103672028\n",
      "Validation loss: 0.6408815979957581\n",
      "Accuracy: 0.75\n",
      "Training loss: 0.210167396068573\n",
      "Validation loss: 0.389361172914505\n",
      "Accuracy: 0.8888888955116272\n",
      "Training loss: 0.23268930613994598\n",
      "Validation loss: 0.47945860028266907\n",
      "Accuracy: 0.8055555820465088\n",
      "Training loss: 0.17557457238435745\n",
      "Validation loss: 0.4653867483139038\n",
      "Accuracy: 0.8055555820465088\n",
      "Training loss: 0.18662387132644653\n",
      "Validation loss: 0.3937843441963196\n",
      "Accuracy: 0.8055555820465088\n",
      "Training loss: 0.17126546204090118\n",
      "Validation loss: 0.33832964301109314\n",
      "Accuracy: 0.8333333134651184\n",
      "Training loss: 0.1509706936776638\n",
      "Validation loss: 0.5993531942367554\n",
      "Accuracy: 0.8333333134651184\n",
      "Training loss: 0.13698863387107849\n",
      "Validation loss: 0.4934881627559662\n",
      "Accuracy: 0.7777777910232544\n",
      "Training loss: 0.17567993253469466\n",
      "Validation loss: 0.4370666444301605\n",
      "Accuracy: 0.7777777910232544\n",
      "Training loss: 0.12915047854185105\n",
      "Validation loss: 0.8459351658821106\n",
      "Accuracy: 0.6944444179534912\n",
      "Training loss: 0.1401817873120308\n",
      "Validation loss: 0.5485079288482666\n",
      "Accuracy: 0.8055555820465088\n",
      "Training loss: 0.14132588654756545\n",
      "Validation loss: 0.64395672082901\n",
      "Accuracy: 0.7777777910232544\n",
      "Training loss: 0.14361642450094222\n",
      "Validation loss: 0.7462590932846069\n",
      "Accuracy: 0.7777777910232544\n",
      "Training loss: 0.16455106437206268\n",
      "Validation loss: 0.7315585613250732\n",
      "Accuracy: 0.8055555820465088\n",
      "Training loss: 0.1026862345635891\n",
      "Validation loss: 0.6022233963012695\n",
      "Accuracy: 0.7777777910232544\n",
      "Training loss: 0.10967930033802986\n",
      "Validation loss: 0.4838566184043884\n",
      "Accuracy: 0.8333333134651184\n",
      "Training loss: 0.12358761057257653\n",
      "Validation loss: 0.5996193289756775\n",
      "Accuracy: 0.8333333134651184\n",
      "Training loss: 0.14841992408037186\n",
      "Validation loss: 1.0160101652145386\n",
      "Accuracy: 0.8055555820465088\n",
      "Training loss: 0.10245725177228451\n",
      "Validation loss: 0.9294880628585815\n",
      "Accuracy: 0.7777777910232544\n",
      "Training loss: 0.11567557752132415\n",
      "Validation loss: 0.5042700171470642\n",
      "Accuracy: 0.8333333134651184\n",
      "Training loss: 0.13324782140553\n",
      "Validation loss: 0.6040748953819275\n",
      "Accuracy: 0.8333333134651184\n",
      "Training loss: 0.16883062571287155\n",
      "Validation loss: 0.9271584749221802\n",
      "Accuracy: 0.7777777910232544\n",
      "Training loss: 0.1366834219545126\n",
      "Validation loss: 0.7840177416801453\n",
      "Accuracy: 0.8055555820465088\n",
      "Training loss: 0.13765618130564689\n",
      "Validation loss: 0.8675692081451416\n",
      "Accuracy: 0.8333333134651184\n",
      "Training loss: 0.09628764428198337\n",
      "Validation loss: 0.9550842642784119\n",
      "Accuracy: 0.7222222089767456\n",
      "Training loss: 0.09941464141011239\n",
      "Validation loss: 0.7087936401367188\n",
      "Accuracy: 0.75\n",
      "Training loss: 0.1252759262919426\n",
      "Validation loss: 0.6372272372245789\n",
      "Accuracy: 0.8333333134651184\n",
      "Training loss: 0.09672977812588215\n",
      "Validation loss: 0.8526861667633057\n",
      "Accuracy: 0.7777777910232544\n",
      "Training loss: 0.07710242867469788\n",
      "Validation loss: 0.7621579766273499\n",
      "Accuracy: 0.7777777910232544\n",
      "Training loss: 0.11285154968500137\n",
      "Validation loss: 0.6469922661781311\n",
      "Accuracy: 0.8055555820465088\n",
      "Training loss: 0.06412524729967117\n",
      "Validation loss: 0.48190557956695557\n",
      "Accuracy: 0.8333333134651184\n",
      "Training loss: 0.09085814654827118\n",
      "Validation loss: 0.8542177081108093\n",
      "Accuracy: 0.75\n",
      "Training loss: 0.08531029745936394\n",
      "Validation loss: 0.732059121131897\n",
      "Accuracy: 0.75\n",
      "Training loss: 0.09330202583223582\n",
      "Validation loss: 0.7771027684211731\n",
      "Accuracy: 0.7777777910232544\n",
      "Training loss: 0.10710222870111466\n",
      "Validation loss: 1.0474685430526733\n",
      "Accuracy: 0.8055555820465088\n",
      "Training loss: 0.0744170643389225\n",
      "Validation loss: 1.6902871131896973\n",
      "Accuracy: 0.6944444179534912\n",
      "Training loss: 0.09439676124602556\n",
      "Validation loss: 0.8700085878372192\n",
      "Accuracy: 0.8611111044883728\n",
      "Training loss: 0.04944947548210621\n",
      "Validation loss: 0.569631040096283\n",
      "Accuracy: 0.8333333134651184\n",
      "Training loss: 0.07124504968523979\n",
      "Validation loss: 1.216597080230713\n",
      "Accuracy: 0.8055555820465088\n",
      "Training loss: 0.0818109542131424\n",
      "Validation loss: 0.942708432674408\n",
      "Accuracy: 0.8055555820465088\n",
      "Training loss: 0.07474009543657303\n",
      "Validation loss: 0.7264609932899475\n",
      "Accuracy: 0.8611111044883728\n",
      "Training loss: 0.08609075527638196\n",
      "Validation loss: 1.941590428352356\n",
      "Accuracy: 0.75\n",
      "Training loss: 0.11967580914497375\n",
      "Validation loss: 0.9961614608764648\n",
      "Accuracy: 0.8055555820465088\n",
      "Training loss: 0.09805582314729691\n",
      "Validation loss: 0.531723141670227\n",
      "Accuracy: 0.8888888955116272\n",
      "Training loss: 0.11171599887311459\n",
      "Validation loss: 0.6915890574455261\n",
      "Accuracy: 0.8611111044883728\n",
      "Training loss: 0.051574937999248505\n",
      "Validation loss: 0.7503445148468018\n",
      "Accuracy: 0.7777777910232544\n",
      "Training loss: 0.07967561110854149\n",
      "Validation loss: 0.6511561870574951\n",
      "Accuracy: 0.8888888955116272\n",
      "Training loss: 0.052689479663968086\n",
      "Validation loss: 0.6138641834259033\n",
      "Accuracy: 0.8611111044883728\n",
      "Training loss: 0.08573587238788605\n",
      "Validation loss: 1.298835277557373\n",
      "Accuracy: 0.8055555820465088\n",
      "Training loss: 0.10197810381650925\n",
      "Validation loss: 1.3371824026107788\n",
      "Accuracy: 0.7777777910232544\n",
      "Training loss: 0.08961318880319595\n",
      "Validation loss: 0.8411253094673157\n",
      "Accuracy: 0.8055555820465088\n",
      "Training loss: 0.09586631506681442\n",
      "Validation loss: 0.8057104349136353\n",
      "Accuracy: 0.8611111044883728\n",
      "Training loss: 0.07238326147198677\n",
      "Validation loss: 0.8854207992553711\n",
      "Accuracy: 0.8055555820465088\n",
      "Training loss: 0.08227178119122983\n",
      "Validation loss: 1.1910561323165894\n",
      "Accuracy: 0.75\n",
      "Training loss: 0.03672702070325613\n",
      "Validation loss: 0.724568247795105\n",
      "Accuracy: 0.7777777910232544\n",
      "Training loss: 0.04904439114034176\n",
      "Validation loss: 0.8748989701271057\n",
      "Accuracy: 0.7777777910232544\n",
      "Training loss: 0.11593998316675425\n",
      "Validation loss: 0.8984686732292175\n",
      "Accuracy: 0.7777777910232544\n",
      "Training loss: 0.05388572476804256\n",
      "Validation loss: 0.8996354341506958\n",
      "Accuracy: 0.8055555820465088\n",
      "Training loss: 0.030844444409012794\n",
      "Validation loss: 1.2073715925216675\n",
      "Accuracy: 0.8055555820465088\n",
      "Training loss: 0.06314476169645786\n",
      "Validation loss: 0.9025196433067322\n",
      "Accuracy: 0.8333333134651184\n",
      "Training loss: 0.07159563377499581\n",
      "Validation loss: 0.971088171005249\n",
      "Accuracy: 0.8333333134651184\n",
      "Training loss: 0.04685552679002285\n",
      "Validation loss: 0.8911221623420715\n",
      "Accuracy: 0.8333333134651184\n",
      "Training loss: 0.05531771518290043\n",
      "Validation loss: 1.3944579362869263\n",
      "Accuracy: 0.75\n",
      "Training loss: 0.08797165416181088\n",
      "Validation loss: 1.503366470336914\n",
      "Accuracy: 0.7777777910232544\n",
      "Training loss: 0.07837560437619687\n",
      "Validation loss: 1.1610404253005981\n",
      "Accuracy: 0.8333333134651184\n",
      "Training loss: 0.029874182492494582\n",
      "Validation loss: 1.608249306678772\n",
      "Accuracy: 0.8333333134651184\n",
      "Training loss: 0.06392389684915542\n",
      "Validation loss: 1.4388651847839355\n",
      "Accuracy: 0.8333333134651184\n",
      "Training loss: 0.060092759504914287\n",
      "Validation loss: 0.9364051818847656\n",
      "Accuracy: 0.8888888955116272\n",
      "Training loss: 0.08625977020710707\n",
      "Validation loss: 1.490596055984497\n",
      "Accuracy: 0.75\n",
      "Training loss: 0.11768817007541657\n",
      "Validation loss: 0.7778492569923401\n",
      "Accuracy: 0.7777777910232544\n",
      "Training loss: 0.07174206860363483\n",
      "Validation loss: 0.7536770105361938\n",
      "Accuracy: 0.8888888955116272\n",
      "Training loss: 0.13604795634746553\n",
      "Validation loss: 0.7198297381401062\n",
      "Accuracy: 0.8333333134651184\n",
      "Training loss: 0.0404840056784451\n",
      "Validation loss: 1.3927180767059326\n",
      "Accuracy: 0.8055555820465088\n",
      "Training loss: 0.12505662366747855\n",
      "Validation loss: 0.5483601093292236\n",
      "Accuracy: 0.8333333134651184\n"
     ]
    }
   ],
   "source": [
    "epochs = 100\n",
    "\n",
    "for e in range(epochs):\n",
    "    running_loss = 0\n",
    "    for features, labels in trainloader:\n",
    "        features = features.float()\n",
    "        labels = labels.float()\n",
    "        output = model.forward(features)\n",
    "        loss = criterion(output, labels)\n",
    "        optimizer.zero_grad()\n",
    "        loss.backward()\n",
    "        optimizer.step()\n",
    "        running_loss += loss.item()\n",
    "    else:\n",
    "        test_loss = 0\n",
    "        accuracy = 0\n",
    "        with th.no_grad():\n",
    "            for features, labels in testloader:\n",
    "                features = features.float()\n",
    "                labels = labels.float()\n",
    "                output = model.forward(features)\n",
    "            \n",
    "                accuracy += th.mean((convertToProb(output.reshape(1)).float() == labels).float())\n",
    "                test_loss += criterion(output, labels)\n",
    "\n",
    "        print(f\"Training loss: {running_loss/len(trainloader)}\")\n",
    "        print(f\"Validation loss: {test_loss/len(testloader)}\")\n",
    "        print(f\"Accuracy: {accuracy/len(testloader)}\")"
   ]
  },
  {
   "cell_type": "code",
   "execution_count": 704,
   "metadata": {
    "collapsed": false
   },
   "outputs": [
    {
     "data": {
      "text/plain": [
       "Classifier(\n",
       "  (fc1): Linear(in_features=23, out_features=512, bias=True)\n",
       "  (fc2): Linear(in_features=512, out_features=64, bias=True)\n",
       "  (fc3): Linear(in_features=64, out_features=1, bias=True)\n",
       "  (dropout1): Dropout(p=0.5)\n",
       "  (dropout2): Dropout(p=0.25)\n",
       ")"
      ]
     },
     "execution_count": 704,
     "metadata": {},
     "output_type": "execute_result"
    }
   ],
   "source": [
    "model.eval()"
   ]
  },
  {
   "cell_type": "code",
   "execution_count": 394,
   "metadata": {
    "collapsed": true
   },
   "outputs": [],
   "source": []
  },
  {
   "cell_type": "code",
   "execution_count": 705,
   "metadata": {
    "collapsed": true
   },
   "outputs": [],
   "source": [
    "preds = []\n",
    "for idx, row in df_test.iterrows():\n",
    "    test_feature = row.drop(['patient_id']).values\n",
    "    test_feature = scaler.transform(test_feature.reshape(1,-1))\n",
    "    test_feature = test_feature.astype(float)\n",
    "    test_tensor = th.tensor(test_feature)\n",
    "    with th.no_grad():\n",
    "        output = model.forward(test_tensor)\n",
    "        preds.append(output)"
   ]
  },
  {
   "cell_type": "code",
   "execution_count": 706,
   "metadata": {
    "collapsed": false
   },
   "outputs": [
    {
     "data": {
      "text/plain": [
       "[tensor([[0.4779]]),\n",
       " tensor([[2.5147e-05]]),\n",
       " tensor([[1.0000]]),\n",
       " tensor([[0.0006]]),\n",
       " tensor([[1.0000]]),\n",
       " tensor([[3.9547e-06]]),\n",
       " tensor([[0.0001]]),\n",
       " tensor([[1.]]),\n",
       " tensor([[0.8109]]),\n",
       " tensor([[0.0221]]),\n",
       " tensor([[0.0024]]),\n",
       " tensor([[0.9974]]),\n",
       " tensor([[0.0961]]),\n",
       " tensor([[1.]]),\n",
       " tensor([[4.6887e-06]]),\n",
       " tensor([[1.3515e-07]]),\n",
       " tensor([[1.8679e-08]]),\n",
       " tensor([[2.2648e-07]]),\n",
       " tensor([[1.0000]]),\n",
       " tensor([[0.1702]]),\n",
       " tensor([[1.]]),\n",
       " tensor([[0.0005]]),\n",
       " tensor([[0.0002]]),\n",
       " tensor([[4.9976e-05]]),\n",
       " tensor([[0.1669]]),\n",
       " tensor([[1.0000]]),\n",
       " tensor([[1.9294e-08]]),\n",
       " tensor([[0.9520]]),\n",
       " tensor([[0.9986]]),\n",
       " tensor([[1.3542e-06]]),\n",
       " tensor([[1.]]),\n",
       " tensor([[0.9668]]),\n",
       " tensor([[0.0016]]),\n",
       " tensor([[0.9364]]),\n",
       " tensor([[0.5422]]),\n",
       " tensor([[0.0017]]),\n",
       " tensor([[0.7506]]),\n",
       " tensor([[0.0020]]),\n",
       " tensor([[0.0009]]),\n",
       " tensor([[7.4486e-06]]),\n",
       " tensor([[1.]]),\n",
       " tensor([[2.4595e-05]]),\n",
       " tensor([[0.9998]]),\n",
       " tensor([[0.0032]]),\n",
       " tensor([[1.0000]]),\n",
       " tensor([[1.6059e-06]]),\n",
       " tensor([[0.1095]]),\n",
       " tensor([[0.0405]]),\n",
       " tensor([[0.0002]]),\n",
       " tensor([[0.9999]]),\n",
       " tensor([[0.9969]]),\n",
       " tensor([[1.0681e-06]]),\n",
       " tensor([[1.]]),\n",
       " tensor([[4.2099e-06]]),\n",
       " tensor([[0.9998]]),\n",
       " tensor([[7.0430e-05]]),\n",
       " tensor([[1.]]),\n",
       " tensor([[7.0038e-05]]),\n",
       " tensor([[4.1226e-09]]),\n",
       " tensor([[0.4320]]),\n",
       " tensor([[0.0002]]),\n",
       " tensor([[1.0000]]),\n",
       " tensor([[0.6656]]),\n",
       " tensor([[1.]]),\n",
       " tensor([[0.0339]]),\n",
       " tensor([[0.9878]]),\n",
       " tensor([[1.0000]]),\n",
       " tensor([[0.0982]]),\n",
       " tensor([[0.9307]]),\n",
       " tensor([[0.1646]]),\n",
       " tensor([[0.0090]]),\n",
       " tensor([[1.]]),\n",
       " tensor([[0.9978]]),\n",
       " tensor([[1.]]),\n",
       " tensor([[1.]]),\n",
       " tensor([[1.]]),\n",
       " tensor([[1.0000]]),\n",
       " tensor([[1.0000]]),\n",
       " tensor([[0.0063]]),\n",
       " tensor([[0.0013]]),\n",
       " tensor([[0.7519]]),\n",
       " tensor([[3.8527e-08]]),\n",
       " tensor([[0.0003]]),\n",
       " tensor([[0.9923]]),\n",
       " tensor([[0.0060]]),\n",
       " tensor([[0.0001]]),\n",
       " tensor([[0.9958]]),\n",
       " tensor([[0.9636]]),\n",
       " tensor([[7.6506e-05]]),\n",
       " tensor([[0.0023]])]"
      ]
     },
     "execution_count": 706,
     "metadata": {},
     "output_type": "execute_result"
    }
   ],
   "source": [
    "preds"
   ]
  },
  {
   "cell_type": "code",
   "execution_count": 558,
   "metadata": {
    "collapsed": true
   },
   "outputs": [],
   "source": [
    "import csv\n",
    "with open('test.csv', 'w') as writeFile:\n",
    "    writer = csv.writer(writeFile)\n",
    "    writer.writerow([\"patient_id\",\"heart_disease_present\"])\n",
    "    for i in range(len(preds)):\n",
    "        patient_id = df_test.loc[i, \"patient_id\"]\n",
    "        pred = preds[i].numpy()[0][0]\n",
    "        writer.writerow([patient_id, pred])"
   ]
  },
  {
   "cell_type": "code",
   "execution_count": 396,
   "metadata": {
    "collapsed": false
   },
   "outputs": [
    {
     "data": {
      "text/plain": [
       "'olalu7'"
      ]
     },
     "execution_count": 396,
     "metadata": {},
     "output_type": "execute_result"
    }
   ],
   "source": [
    "df_test.loc[0, 'patient_id']"
   ]
  },
  {
   "cell_type": "code",
   "execution_count": 584,
   "metadata": {
    "collapsed": true
   },
   "outputs": [],
   "source": [
    "def convertToProb(tensors):\n",
    "    return tensors >= 0.5\n"
   ]
  },
  {
   "cell_type": "code",
   "execution_count": null,
   "metadata": {
    "collapsed": true
   },
   "outputs": [],
   "source": []
  }
 ],
 "metadata": {
  "kernelspec": {
   "display_name": "Python 3",
   "language": "python",
   "name": "python3"
  },
  "language_info": {
   "codemirror_mode": {
    "name": "ipython",
    "version": 3
   },
   "file_extension": ".py",
   "mimetype": "text/x-python",
   "name": "python",
   "nbconvert_exporter": "python",
   "pygments_lexer": "ipython3",
   "version": "3.6.8"
  }
 },
 "nbformat": 4,
 "nbformat_minor": 2
}
