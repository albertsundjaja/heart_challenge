{
 "cells": [
  {
   "cell_type": "code",
   "execution_count": 335,
   "metadata": {},
   "outputs": [],
   "source": [
    "import pandas as pd\n",
    "import numpy as np\n",
    "import torch as th\n",
    "from torch.utils.data import TensorDataset, DataLoader\n",
    "from sklearn.model_selection import train_test_split"
   ]
  },
  {
   "cell_type": "code",
   "execution_count": 393,
   "metadata": {},
   "outputs": [],
   "source": [
    "df = pd.read_csv('train_values.csv')\n",
    "df_label = pd.read_csv('train_labels.csv')\n",
    "df_test = pd.read_csv('test_values.csv')"
   ]
  },
  {
   "cell_type": "code",
   "execution_count": null,
   "metadata": {},
   "outputs": [],
   "source": [
    "df_test = pd.concat([df_test.drop(['thal'],axis=1), pd.get_dummies(df_test['thal'], prefix='thal')], axis=1)\n",
    "df_test = pd.concat([df_test.drop(['chest_pain_type'],axis=1), pd.get_dummies(df_test['chest_pain_type'], prefix='chest')], axis=1)\n",
    "df_test = pd.concat([df_test.drop(['sex'],axis=1), pd.get_dummies(df_test['sex'], prefix='sex')], axis=1)\n",
    "df_test = pd.concat([df_test.drop(['exercise_induced_angina'],axis=1), pd.get_dummies(df_test['exercise_induced_angina'], prefix='exercise')], axis=1)\n",
    "df_test = pd.concat([df_test.drop(['fasting_blood_sugar_gt_120_mg_per_dl'],axis=1), pd.get_dummies(df_test['fasting_blood_sugar_gt_120_mg_per_dl'], prefix='blood')], axis=1)\n",
    "df_test = pd.concat([df_test.drop(['slope_of_peak_exercise_st_segment'],axis=1), pd.get_dummies(df_test['slope_of_peak_exercise_st_segment'], prefix='slope')], axis=1)"
   ]
  },
  {
   "cell_type": "code",
   "execution_count": 337,
   "metadata": {},
   "outputs": [],
   "source": [
    "df['patient_id'] = df['patient_id'].astype(str)\n",
    "df_label['patient_id'] = df_label['patient_id'].astype(str)"
   ]
  },
  {
   "cell_type": "code",
   "execution_count": 338,
   "metadata": {},
   "outputs": [
    {
     "name": "stdout",
     "output_type": "stream",
     "text": [
      "<class 'pandas.core.frame.DataFrame'>\n",
      "RangeIndex: 180 entries, 0 to 179\n",
      "Data columns (total 2 columns):\n",
      "patient_id               180 non-null object\n",
      "heart_disease_present    180 non-null int64\n",
      "dtypes: int64(1), object(1)\n",
      "memory usage: 2.9+ KB\n"
     ]
    }
   ],
   "source": [
    "df_label.info()"
   ]
  },
  {
   "cell_type": "code",
   "execution_count": 339,
   "metadata": {},
   "outputs": [
    {
     "data": {
      "text/plain": [
       "Index(['patient_id', 'resting_blood_pressure', 'num_major_vessels',\n",
       "       'resting_ekg_results', 'serum_cholesterol_mg_per_dl',\n",
       "       'oldpeak_eq_st_depression', 'age', 'max_heart_rate_achieved',\n",
       "       'heart_disease_present', 'thal_fixed_defect', 'thal_normal',\n",
       "       'thal_reversible_defect', 'chest_1', 'chest_2', 'chest_3', 'chest_4',\n",
       "       'sex_0', 'sex_1', 'exercise_0', 'exercise_1', 'blood_0', 'blood_1',\n",
       "       'slope_1', 'slope_2', 'slope_3'],\n",
       "      dtype='object')"
      ]
     },
     "execution_count": 339,
     "metadata": {},
     "output_type": "execute_result"
    }
   ],
   "source": [
    "df_join.columns"
   ]
  },
  {
   "cell_type": "code",
   "execution_count": 340,
   "metadata": {},
   "outputs": [],
   "source": [
    "df_join = pd.merge(df,df_label, on='patient_id')"
   ]
  },
  {
   "cell_type": "code",
   "execution_count": 70,
   "metadata": {},
   "outputs": [
    {
     "data": {
      "text/plain": [
       "Index(['patient_id', 'resting_blood_pressure', 'num_major_vessels',\n",
       "       'resting_ekg_results', 'serum_cholesterol_mg_per_dl',\n",
       "       'oldpeak_eq_st_depression', 'age', 'max_heart_rate_achieved',\n",
       "       'heart_disease_present', 'thal_fixed_defect', 'thal_normal',\n",
       "       'thal_reversible_defect', 'chest_1', 'chest_2', 'chest_3', 'chest_4',\n",
       "       'sex_0', 'sex_1', 'exercise_0', 'exercise_1', 'blood_0', 'blood_1',\n",
       "       'slope_1', 'slope_2', 'slope_3'],\n",
       "      dtype='object')"
      ]
     },
     "execution_count": 70,
     "metadata": {},
     "output_type": "execute_result"
    }
   ],
   "source": [
    "df_join.columns"
   ]
  },
  {
   "cell_type": "code",
   "execution_count": 341,
   "metadata": {},
   "outputs": [],
   "source": [
    "df_join = pd.concat([df_join.drop(['thal'],axis=1), pd.get_dummies(df_join['thal'], prefix='thal')], axis=1)\n",
    "df_join = pd.concat([df_join.drop(['chest_pain_type'],axis=1), pd.get_dummies(df_join['chest_pain_type'], prefix='chest')], axis=1)\n",
    "df_join = pd.concat([df_join.drop(['sex'],axis=1), pd.get_dummies(df_join['sex'], prefix='sex')], axis=1)\n",
    "df_join = pd.concat([df_join.drop(['exercise_induced_angina'],axis=1), pd.get_dummies(df_join['exercise_induced_angina'], prefix='exercise')], axis=1)\n",
    "df_join = pd.concat([df_join.drop(['fasting_blood_sugar_gt_120_mg_per_dl'],axis=1), pd.get_dummies(df_join['fasting_blood_sugar_gt_120_mg_per_dl'], prefix='blood')], axis=1)\n",
    "df_join = pd.concat([df_join.drop(['slope_of_peak_exercise_st_segment'],axis=1), pd.get_dummies(df_join['slope_of_peak_exercise_st_segment'], prefix='slope')], axis=1)"
   ]
  },
  {
   "cell_type": "code",
   "execution_count": 426,
   "metadata": {},
   "outputs": [],
   "source": [
    "X = df_join.drop(['patient_id','heart_disease_present'],axis=1)\n",
    "y = df_join['heart_disease_present']"
   ]
  },
  {
   "cell_type": "code",
   "execution_count": 429,
   "metadata": {},
   "outputs": [],
   "source": [
    "X_train, X_test, y_train, y_test = train_test_split(X,y, test_size = 0.2, random_state=42, stratify=y)"
   ]
  },
  {
   "cell_type": "code",
   "execution_count": 430,
   "metadata": {},
   "outputs": [],
   "source": [
    "from sklearn.preprocessing import MinMaxScaler\n",
    "\n",
    "scaler = MinMaxScaler()\n",
    "scaler.fit(X)\n",
    "X_train = scaler.transform(X_train)\n",
    "X_test = scaler.transform(X_test)"
   ]
  },
  {
   "cell_type": "code",
   "execution_count": 431,
   "metadata": {},
   "outputs": [],
   "source": [
    "features = th.tensor(X_train)\n",
    "labels = th.tensor(y_train.values)\n",
    "dataset = TensorDataset(features, labels)\n",
    "trainloader = DataLoader(dataset, batch_size=32, shuffle=True)"
   ]
  },
  {
   "cell_type": "code",
   "execution_count": 432,
   "metadata": {},
   "outputs": [],
   "source": [
    "features_test = th.tensor(X_test)\n",
    "labels_test = th.tensor(y_test.values)\n",
    "dataset_test = TensorDataset(features_test, labels_test)\n",
    "testloader = DataLoader(dataset_test)"
   ]
  },
  {
   "cell_type": "code",
   "execution_count": 343,
   "metadata": {},
   "outputs": [],
   "source": [
    "features = th.tensor(X.drop(['patient_id'], axis=1).values)\n",
    "labels = th.tensor(y.values)\n",
    "dataset = TensorDataset(features, labels)\n",
    "trainloader = DataLoader(dataset, batch_size=32, shuffle=True)"
   ]
  },
  {
   "cell_type": "code",
   "execution_count": 433,
   "metadata": {},
   "outputs": [],
   "source": [
    "from torch import nn, optim\n",
    "import torch.nn.functional as F\n",
    "\n",
    "class Classifier(nn.Module):\n",
    "    def __init__(self):\n",
    "        super().__init__()\n",
    "        self.fc1 = nn.Linear(23, 128)\n",
    "        self.fc2 = nn.Linear(128, 64)\n",
    "        self.fc3 = nn.Linear(64, 1)\n",
    "        \n",
    "        self.dropout = nn.Dropout(p=0.5)\n",
    "    \n",
    "    def forward(self, x):\n",
    "        x = x.float()\n",
    "        x = self.fc1(x)\n",
    "        x = F.relu(x)\n",
    "        x = self.dropout(x)\n",
    "        x = self.fc2(x)\n",
    "        x = F.relu(x)\n",
    "        x = self.dropout(x)\n",
    "        x = self.fc3(x)\n",
    "        x = F.sigmoid(x)\n",
    "        return x"
   ]
  },
  {
   "cell_type": "code",
   "execution_count": 434,
   "metadata": {},
   "outputs": [],
   "source": [
    "model = Classifier()"
   ]
  },
  {
   "cell_type": "code",
   "execution_count": 435,
   "metadata": {},
   "outputs": [],
   "source": [
    "criterion = nn.BCELoss()\n",
    "optimizer = optim.Adam(model.parameters(), lr=0.001)"
   ]
  },
  {
   "cell_type": "code",
   "execution_count": 443,
   "metadata": {},
   "outputs": [
    {
     "name": "stdout",
     "output_type": "stream",
     "text": [
      "Training loss: 0.25603522211313245\n",
      "Validation loss: 0.375712126493454\n",
      "Training loss: 0.2816776245832443\n",
      "Validation loss: 0.3571205139160156\n",
      "Training loss: 0.27632407248020174\n",
      "Validation loss: 0.3584575951099396\n",
      "Training loss: 0.25206129550933837\n",
      "Validation loss: 0.3498068153858185\n",
      "Training loss: 0.2591300278902054\n",
      "Validation loss: 0.3513992726802826\n",
      "Training loss: 0.24747964441776277\n",
      "Validation loss: 0.37713754177093506\n",
      "Training loss: 0.26832038462162017\n",
      "Validation loss: 0.3629792034626007\n",
      "Training loss: 0.2621258020401001\n",
      "Validation loss: 0.3461168110370636\n",
      "Training loss: 0.25703662931919097\n",
      "Validation loss: 0.36440563201904297\n",
      "Training loss: 0.2446625202894211\n",
      "Validation loss: 0.3767177164554596\n"
     ]
    }
   ],
   "source": [
    "epochs = 10\n",
    "\n",
    "for e in range(epochs):\n",
    "    running_loss = 0\n",
    "    for features, labels in trainloader:\n",
    "        features = features.float()\n",
    "        labels = labels.float()\n",
    "        output = model.forward(features)\n",
    "        loss = criterion(output, labels)\n",
    "        optimizer.zero_grad()\n",
    "        loss.backward()\n",
    "        optimizer.step()\n",
    "        running_loss += loss.item()\n",
    "    else:\n",
    "        test_loss = 0\n",
    "        accuracy = 0\n",
    "        with th.no_grad():\n",
    "            for features, labels in testloader:\n",
    "                features = features.float()\n",
    "                labels = labels.float()\n",
    "                output = model.forward(features)\n",
    "                test_loss += criterion(output, labels)\n",
    "\n",
    "        print(f\"Training loss: {running_loss/len(trainloader)}\")\n",
    "        print(f\"Validation loss: {test_loss/len(testloader)}\")"
   ]
  },
  {
   "cell_type": "code",
   "execution_count": 382,
   "metadata": {},
   "outputs": [
    {
     "name": "stdout",
     "output_type": "stream",
     "text": [
      "Training loss: 0.03188203731551766\n",
      "Training loss: 0.021894883969798683\n",
      "Training loss: 0.019634113740175964\n",
      "Training loss: 0.011348054884001613\n",
      "Training loss: 0.018872466031461956\n",
      "Training loss: 0.0325202694395557\n",
      "Training loss: 0.01824768353253603\n",
      "Training loss: 0.017394400434568524\n",
      "Training loss: 0.01575761497952044\n",
      "Training loss: 0.01570772072300315\n"
     ]
    }
   ],
   "source": [
    "epochs = 10\n",
    "\n",
    "for e in range(epochs):\n",
    "    running_loss = 0\n",
    "    for features, labels in trainloader:\n",
    "        features = features.float()\n",
    "        labels = labels.float()\n",
    "        \n",
    "        output = model.forward(features)\n",
    "        loss = criterion(output, labels)\n",
    "        \n",
    "        optimizer.zero_grad()\n",
    "        loss.backward()\n",
    "        optimizer.step()\n",
    "        running_loss += loss.item()\n",
    "    else:\n",
    "        print(f\"Training loss: {running_loss/len(trainloader)}\")"
   ]
  },
  {
   "cell_type": "code",
   "execution_count": 410,
   "metadata": {},
   "outputs": [
    {
     "data": {
      "text/plain": [
       "Classifier(\n",
       "  (fc1): Linear(in_features=23, out_features=128, bias=True)\n",
       "  (fc2): Linear(in_features=128, out_features=64, bias=True)\n",
       "  (fc3): Linear(in_features=64, out_features=1, bias=True)\n",
       ")"
      ]
     },
     "execution_count": 410,
     "metadata": {},
     "output_type": "execute_result"
    }
   ],
   "source": [
    "model.eval()"
   ]
  },
  {
   "cell_type": "code",
   "execution_count": 394,
   "metadata": {},
   "outputs": [],
   "source": []
  },
  {
   "cell_type": "code",
   "execution_count": 439,
   "metadata": {},
   "outputs": [
    {
     "name": "stderr",
     "output_type": "stream",
     "text": [
      "/Users/grandia/anaconda3/envs/pysyft/lib/python3.7/site-packages/torch/nn/functional.py:1386: UserWarning: nn.functional.sigmoid is deprecated. Use torch.sigmoid instead.\n",
      "  warnings.warn(\"nn.functional.sigmoid is deprecated. Use torch.sigmoid instead.\")\n",
      "/Users/grandia/anaconda3/envs/pysyft/lib/python3.7/site-packages/torch/nn/functional.py:1386: UserWarning: nn.functional.sigmoid is deprecated. Use torch.sigmoid instead.\n",
      "  warnings.warn(\"nn.functional.sigmoid is deprecated. Use torch.sigmoid instead.\")\n",
      "/Users/grandia/anaconda3/envs/pysyft/lib/python3.7/site-packages/torch/nn/functional.py:1386: UserWarning: nn.functional.sigmoid is deprecated. Use torch.sigmoid instead.\n",
      "  warnings.warn(\"nn.functional.sigmoid is deprecated. Use torch.sigmoid instead.\")\n",
      "/Users/grandia/anaconda3/envs/pysyft/lib/python3.7/site-packages/torch/nn/functional.py:1386: UserWarning: nn.functional.sigmoid is deprecated. Use torch.sigmoid instead.\n",
      "  warnings.warn(\"nn.functional.sigmoid is deprecated. Use torch.sigmoid instead.\")\n",
      "/Users/grandia/anaconda3/envs/pysyft/lib/python3.7/site-packages/torch/nn/functional.py:1386: UserWarning: nn.functional.sigmoid is deprecated. Use torch.sigmoid instead.\n",
      "  warnings.warn(\"nn.functional.sigmoid is deprecated. Use torch.sigmoid instead.\")\n",
      "/Users/grandia/anaconda3/envs/pysyft/lib/python3.7/site-packages/torch/nn/functional.py:1386: UserWarning: nn.functional.sigmoid is deprecated. Use torch.sigmoid instead.\n",
      "  warnings.warn(\"nn.functional.sigmoid is deprecated. Use torch.sigmoid instead.\")\n",
      "/Users/grandia/anaconda3/envs/pysyft/lib/python3.7/site-packages/torch/nn/functional.py:1386: UserWarning: nn.functional.sigmoid is deprecated. Use torch.sigmoid instead.\n",
      "  warnings.warn(\"nn.functional.sigmoid is deprecated. Use torch.sigmoid instead.\")\n",
      "/Users/grandia/anaconda3/envs/pysyft/lib/python3.7/site-packages/torch/nn/functional.py:1386: UserWarning: nn.functional.sigmoid is deprecated. Use torch.sigmoid instead.\n",
      "  warnings.warn(\"nn.functional.sigmoid is deprecated. Use torch.sigmoid instead.\")\n",
      "/Users/grandia/anaconda3/envs/pysyft/lib/python3.7/site-packages/torch/nn/functional.py:1386: UserWarning: nn.functional.sigmoid is deprecated. Use torch.sigmoid instead.\n",
      "  warnings.warn(\"nn.functional.sigmoid is deprecated. Use torch.sigmoid instead.\")\n",
      "/Users/grandia/anaconda3/envs/pysyft/lib/python3.7/site-packages/torch/nn/functional.py:1386: UserWarning: nn.functional.sigmoid is deprecated. Use torch.sigmoid instead.\n",
      "  warnings.warn(\"nn.functional.sigmoid is deprecated. Use torch.sigmoid instead.\")\n",
      "/Users/grandia/anaconda3/envs/pysyft/lib/python3.7/site-packages/torch/nn/functional.py:1386: UserWarning: nn.functional.sigmoid is deprecated. Use torch.sigmoid instead.\n",
      "  warnings.warn(\"nn.functional.sigmoid is deprecated. Use torch.sigmoid instead.\")\n",
      "/Users/grandia/anaconda3/envs/pysyft/lib/python3.7/site-packages/torch/nn/functional.py:1386: UserWarning: nn.functional.sigmoid is deprecated. Use torch.sigmoid instead.\n",
      "  warnings.warn(\"nn.functional.sigmoid is deprecated. Use torch.sigmoid instead.\")\n",
      "/Users/grandia/anaconda3/envs/pysyft/lib/python3.7/site-packages/torch/nn/functional.py:1386: UserWarning: nn.functional.sigmoid is deprecated. Use torch.sigmoid instead.\n",
      "  warnings.warn(\"nn.functional.sigmoid is deprecated. Use torch.sigmoid instead.\")\n",
      "/Users/grandia/anaconda3/envs/pysyft/lib/python3.7/site-packages/torch/nn/functional.py:1386: UserWarning: nn.functional.sigmoid is deprecated. Use torch.sigmoid instead.\n",
      "  warnings.warn(\"nn.functional.sigmoid is deprecated. Use torch.sigmoid instead.\")\n",
      "/Users/grandia/anaconda3/envs/pysyft/lib/python3.7/site-packages/torch/nn/functional.py:1386: UserWarning: nn.functional.sigmoid is deprecated. Use torch.sigmoid instead.\n",
      "  warnings.warn(\"nn.functional.sigmoid is deprecated. Use torch.sigmoid instead.\")\n",
      "/Users/grandia/anaconda3/envs/pysyft/lib/python3.7/site-packages/torch/nn/functional.py:1386: UserWarning: nn.functional.sigmoid is deprecated. Use torch.sigmoid instead.\n",
      "  warnings.warn(\"nn.functional.sigmoid is deprecated. Use torch.sigmoid instead.\")\n",
      "/Users/grandia/anaconda3/envs/pysyft/lib/python3.7/site-packages/torch/nn/functional.py:1386: UserWarning: nn.functional.sigmoid is deprecated. Use torch.sigmoid instead.\n",
      "  warnings.warn(\"nn.functional.sigmoid is deprecated. Use torch.sigmoid instead.\")\n",
      "/Users/grandia/anaconda3/envs/pysyft/lib/python3.7/site-packages/torch/nn/functional.py:1386: UserWarning: nn.functional.sigmoid is deprecated. Use torch.sigmoid instead.\n",
      "  warnings.warn(\"nn.functional.sigmoid is deprecated. Use torch.sigmoid instead.\")\n",
      "/Users/grandia/anaconda3/envs/pysyft/lib/python3.7/site-packages/torch/nn/functional.py:1386: UserWarning: nn.functional.sigmoid is deprecated. Use torch.sigmoid instead.\n",
      "  warnings.warn(\"nn.functional.sigmoid is deprecated. Use torch.sigmoid instead.\")\n",
      "/Users/grandia/anaconda3/envs/pysyft/lib/python3.7/site-packages/torch/nn/functional.py:1386: UserWarning: nn.functional.sigmoid is deprecated. Use torch.sigmoid instead.\n",
      "  warnings.warn(\"nn.functional.sigmoid is deprecated. Use torch.sigmoid instead.\")\n",
      "/Users/grandia/anaconda3/envs/pysyft/lib/python3.7/site-packages/torch/nn/functional.py:1386: UserWarning: nn.functional.sigmoid is deprecated. Use torch.sigmoid instead.\n",
      "  warnings.warn(\"nn.functional.sigmoid is deprecated. Use torch.sigmoid instead.\")\n",
      "/Users/grandia/anaconda3/envs/pysyft/lib/python3.7/site-packages/torch/nn/functional.py:1386: UserWarning: nn.functional.sigmoid is deprecated. Use torch.sigmoid instead.\n",
      "  warnings.warn(\"nn.functional.sigmoid is deprecated. Use torch.sigmoid instead.\")\n",
      "/Users/grandia/anaconda3/envs/pysyft/lib/python3.7/site-packages/torch/nn/functional.py:1386: UserWarning: nn.functional.sigmoid is deprecated. Use torch.sigmoid instead.\n",
      "  warnings.warn(\"nn.functional.sigmoid is deprecated. Use torch.sigmoid instead.\")\n",
      "/Users/grandia/anaconda3/envs/pysyft/lib/python3.7/site-packages/torch/nn/functional.py:1386: UserWarning: nn.functional.sigmoid is deprecated. Use torch.sigmoid instead.\n",
      "  warnings.warn(\"nn.functional.sigmoid is deprecated. Use torch.sigmoid instead.\")\n",
      "/Users/grandia/anaconda3/envs/pysyft/lib/python3.7/site-packages/torch/nn/functional.py:1386: UserWarning: nn.functional.sigmoid is deprecated. Use torch.sigmoid instead.\n",
      "  warnings.warn(\"nn.functional.sigmoid is deprecated. Use torch.sigmoid instead.\")\n",
      "/Users/grandia/anaconda3/envs/pysyft/lib/python3.7/site-packages/torch/nn/functional.py:1386: UserWarning: nn.functional.sigmoid is deprecated. Use torch.sigmoid instead.\n",
      "  warnings.warn(\"nn.functional.sigmoid is deprecated. Use torch.sigmoid instead.\")\n",
      "/Users/grandia/anaconda3/envs/pysyft/lib/python3.7/site-packages/torch/nn/functional.py:1386: UserWarning: nn.functional.sigmoid is deprecated. Use torch.sigmoid instead.\n",
      "  warnings.warn(\"nn.functional.sigmoid is deprecated. Use torch.sigmoid instead.\")\n",
      "/Users/grandia/anaconda3/envs/pysyft/lib/python3.7/site-packages/torch/nn/functional.py:1386: UserWarning: nn.functional.sigmoid is deprecated. Use torch.sigmoid instead.\n",
      "  warnings.warn(\"nn.functional.sigmoid is deprecated. Use torch.sigmoid instead.\")\n",
      "/Users/grandia/anaconda3/envs/pysyft/lib/python3.7/site-packages/torch/nn/functional.py:1386: UserWarning: nn.functional.sigmoid is deprecated. Use torch.sigmoid instead.\n",
      "  warnings.warn(\"nn.functional.sigmoid is deprecated. Use torch.sigmoid instead.\")\n",
      "/Users/grandia/anaconda3/envs/pysyft/lib/python3.7/site-packages/torch/nn/functional.py:1386: UserWarning: nn.functional.sigmoid is deprecated. Use torch.sigmoid instead.\n",
      "  warnings.warn(\"nn.functional.sigmoid is deprecated. Use torch.sigmoid instead.\")\n",
      "/Users/grandia/anaconda3/envs/pysyft/lib/python3.7/site-packages/torch/nn/functional.py:1386: UserWarning: nn.functional.sigmoid is deprecated. Use torch.sigmoid instead.\n",
      "  warnings.warn(\"nn.functional.sigmoid is deprecated. Use torch.sigmoid instead.\")\n",
      "/Users/grandia/anaconda3/envs/pysyft/lib/python3.7/site-packages/torch/nn/functional.py:1386: UserWarning: nn.functional.sigmoid is deprecated. Use torch.sigmoid instead.\n",
      "  warnings.warn(\"nn.functional.sigmoid is deprecated. Use torch.sigmoid instead.\")\n",
      "/Users/grandia/anaconda3/envs/pysyft/lib/python3.7/site-packages/torch/nn/functional.py:1386: UserWarning: nn.functional.sigmoid is deprecated. Use torch.sigmoid instead.\n",
      "  warnings.warn(\"nn.functional.sigmoid is deprecated. Use torch.sigmoid instead.\")\n",
      "/Users/grandia/anaconda3/envs/pysyft/lib/python3.7/site-packages/torch/nn/functional.py:1386: UserWarning: nn.functional.sigmoid is deprecated. Use torch.sigmoid instead.\n",
      "  warnings.warn(\"nn.functional.sigmoid is deprecated. Use torch.sigmoid instead.\")\n",
      "/Users/grandia/anaconda3/envs/pysyft/lib/python3.7/site-packages/torch/nn/functional.py:1386: UserWarning: nn.functional.sigmoid is deprecated. Use torch.sigmoid instead.\n",
      "  warnings.warn(\"nn.functional.sigmoid is deprecated. Use torch.sigmoid instead.\")\n",
      "/Users/grandia/anaconda3/envs/pysyft/lib/python3.7/site-packages/torch/nn/functional.py:1386: UserWarning: nn.functional.sigmoid is deprecated. Use torch.sigmoid instead.\n",
      "  warnings.warn(\"nn.functional.sigmoid is deprecated. Use torch.sigmoid instead.\")\n",
      "/Users/grandia/anaconda3/envs/pysyft/lib/python3.7/site-packages/torch/nn/functional.py:1386: UserWarning: nn.functional.sigmoid is deprecated. Use torch.sigmoid instead.\n",
      "  warnings.warn(\"nn.functional.sigmoid is deprecated. Use torch.sigmoid instead.\")\n",
      "/Users/grandia/anaconda3/envs/pysyft/lib/python3.7/site-packages/torch/nn/functional.py:1386: UserWarning: nn.functional.sigmoid is deprecated. Use torch.sigmoid instead.\n",
      "  warnings.warn(\"nn.functional.sigmoid is deprecated. Use torch.sigmoid instead.\")\n",
      "/Users/grandia/anaconda3/envs/pysyft/lib/python3.7/site-packages/torch/nn/functional.py:1386: UserWarning: nn.functional.sigmoid is deprecated. Use torch.sigmoid instead.\n",
      "  warnings.warn(\"nn.functional.sigmoid is deprecated. Use torch.sigmoid instead.\")\n",
      "/Users/grandia/anaconda3/envs/pysyft/lib/python3.7/site-packages/torch/nn/functional.py:1386: UserWarning: nn.functional.sigmoid is deprecated. Use torch.sigmoid instead.\n",
      "  warnings.warn(\"nn.functional.sigmoid is deprecated. Use torch.sigmoid instead.\")\n",
      "/Users/grandia/anaconda3/envs/pysyft/lib/python3.7/site-packages/torch/nn/functional.py:1386: UserWarning: nn.functional.sigmoid is deprecated. Use torch.sigmoid instead.\n",
      "  warnings.warn(\"nn.functional.sigmoid is deprecated. Use torch.sigmoid instead.\")\n",
      "/Users/grandia/anaconda3/envs/pysyft/lib/python3.7/site-packages/torch/nn/functional.py:1386: UserWarning: nn.functional.sigmoid is deprecated. Use torch.sigmoid instead.\n",
      "  warnings.warn(\"nn.functional.sigmoid is deprecated. Use torch.sigmoid instead.\")\n",
      "/Users/grandia/anaconda3/envs/pysyft/lib/python3.7/site-packages/torch/nn/functional.py:1386: UserWarning: nn.functional.sigmoid is deprecated. Use torch.sigmoid instead.\n",
      "  warnings.warn(\"nn.functional.sigmoid is deprecated. Use torch.sigmoid instead.\")\n",
      "/Users/grandia/anaconda3/envs/pysyft/lib/python3.7/site-packages/torch/nn/functional.py:1386: UserWarning: nn.functional.sigmoid is deprecated. Use torch.sigmoid instead.\n",
      "  warnings.warn(\"nn.functional.sigmoid is deprecated. Use torch.sigmoid instead.\")\n",
      "/Users/grandia/anaconda3/envs/pysyft/lib/python3.7/site-packages/torch/nn/functional.py:1386: UserWarning: nn.functional.sigmoid is deprecated. Use torch.sigmoid instead.\n",
      "  warnings.warn(\"nn.functional.sigmoid is deprecated. Use torch.sigmoid instead.\")\n",
      "/Users/grandia/anaconda3/envs/pysyft/lib/python3.7/site-packages/torch/nn/functional.py:1386: UserWarning: nn.functional.sigmoid is deprecated. Use torch.sigmoid instead.\n",
      "  warnings.warn(\"nn.functional.sigmoid is deprecated. Use torch.sigmoid instead.\")\n",
      "/Users/grandia/anaconda3/envs/pysyft/lib/python3.7/site-packages/torch/nn/functional.py:1386: UserWarning: nn.functional.sigmoid is deprecated. Use torch.sigmoid instead.\n",
      "  warnings.warn(\"nn.functional.sigmoid is deprecated. Use torch.sigmoid instead.\")\n",
      "/Users/grandia/anaconda3/envs/pysyft/lib/python3.7/site-packages/torch/nn/functional.py:1386: UserWarning: nn.functional.sigmoid is deprecated. Use torch.sigmoid instead.\n",
      "  warnings.warn(\"nn.functional.sigmoid is deprecated. Use torch.sigmoid instead.\")\n",
      "/Users/grandia/anaconda3/envs/pysyft/lib/python3.7/site-packages/torch/nn/functional.py:1386: UserWarning: nn.functional.sigmoid is deprecated. Use torch.sigmoid instead.\n",
      "  warnings.warn(\"nn.functional.sigmoid is deprecated. Use torch.sigmoid instead.\")\n",
      "/Users/grandia/anaconda3/envs/pysyft/lib/python3.7/site-packages/torch/nn/functional.py:1386: UserWarning: nn.functional.sigmoid is deprecated. Use torch.sigmoid instead.\n",
      "  warnings.warn(\"nn.functional.sigmoid is deprecated. Use torch.sigmoid instead.\")\n",
      "/Users/grandia/anaconda3/envs/pysyft/lib/python3.7/site-packages/torch/nn/functional.py:1386: UserWarning: nn.functional.sigmoid is deprecated. Use torch.sigmoid instead.\n",
      "  warnings.warn(\"nn.functional.sigmoid is deprecated. Use torch.sigmoid instead.\")\n",
      "/Users/grandia/anaconda3/envs/pysyft/lib/python3.7/site-packages/torch/nn/functional.py:1386: UserWarning: nn.functional.sigmoid is deprecated. Use torch.sigmoid instead.\n",
      "  warnings.warn(\"nn.functional.sigmoid is deprecated. Use torch.sigmoid instead.\")\n",
      "/Users/grandia/anaconda3/envs/pysyft/lib/python3.7/site-packages/torch/nn/functional.py:1386: UserWarning: nn.functional.sigmoid is deprecated. Use torch.sigmoid instead.\n",
      "  warnings.warn(\"nn.functional.sigmoid is deprecated. Use torch.sigmoid instead.\")\n",
      "/Users/grandia/anaconda3/envs/pysyft/lib/python3.7/site-packages/torch/nn/functional.py:1386: UserWarning: nn.functional.sigmoid is deprecated. Use torch.sigmoid instead.\n",
      "  warnings.warn(\"nn.functional.sigmoid is deprecated. Use torch.sigmoid instead.\")\n",
      "/Users/grandia/anaconda3/envs/pysyft/lib/python3.7/site-packages/torch/nn/functional.py:1386: UserWarning: nn.functional.sigmoid is deprecated. Use torch.sigmoid instead.\n",
      "  warnings.warn(\"nn.functional.sigmoid is deprecated. Use torch.sigmoid instead.\")\n",
      "/Users/grandia/anaconda3/envs/pysyft/lib/python3.7/site-packages/torch/nn/functional.py:1386: UserWarning: nn.functional.sigmoid is deprecated. Use torch.sigmoid instead.\n",
      "  warnings.warn(\"nn.functional.sigmoid is deprecated. Use torch.sigmoid instead.\")\n",
      "/Users/grandia/anaconda3/envs/pysyft/lib/python3.7/site-packages/torch/nn/functional.py:1386: UserWarning: nn.functional.sigmoid is deprecated. Use torch.sigmoid instead.\n",
      "  warnings.warn(\"nn.functional.sigmoid is deprecated. Use torch.sigmoid instead.\")\n",
      "/Users/grandia/anaconda3/envs/pysyft/lib/python3.7/site-packages/torch/nn/functional.py:1386: UserWarning: nn.functional.sigmoid is deprecated. Use torch.sigmoid instead.\n",
      "  warnings.warn(\"nn.functional.sigmoid is deprecated. Use torch.sigmoid instead.\")\n",
      "/Users/grandia/anaconda3/envs/pysyft/lib/python3.7/site-packages/torch/nn/functional.py:1386: UserWarning: nn.functional.sigmoid is deprecated. Use torch.sigmoid instead.\n",
      "  warnings.warn(\"nn.functional.sigmoid is deprecated. Use torch.sigmoid instead.\")\n",
      "/Users/grandia/anaconda3/envs/pysyft/lib/python3.7/site-packages/torch/nn/functional.py:1386: UserWarning: nn.functional.sigmoid is deprecated. Use torch.sigmoid instead.\n",
      "  warnings.warn(\"nn.functional.sigmoid is deprecated. Use torch.sigmoid instead.\")\n",
      "/Users/grandia/anaconda3/envs/pysyft/lib/python3.7/site-packages/torch/nn/functional.py:1386: UserWarning: nn.functional.sigmoid is deprecated. Use torch.sigmoid instead.\n",
      "  warnings.warn(\"nn.functional.sigmoid is deprecated. Use torch.sigmoid instead.\")\n",
      "/Users/grandia/anaconda3/envs/pysyft/lib/python3.7/site-packages/torch/nn/functional.py:1386: UserWarning: nn.functional.sigmoid is deprecated. Use torch.sigmoid instead.\n",
      "  warnings.warn(\"nn.functional.sigmoid is deprecated. Use torch.sigmoid instead.\")\n",
      "/Users/grandia/anaconda3/envs/pysyft/lib/python3.7/site-packages/torch/nn/functional.py:1386: UserWarning: nn.functional.sigmoid is deprecated. Use torch.sigmoid instead.\n",
      "  warnings.warn(\"nn.functional.sigmoid is deprecated. Use torch.sigmoid instead.\")\n",
      "/Users/grandia/anaconda3/envs/pysyft/lib/python3.7/site-packages/torch/nn/functional.py:1386: UserWarning: nn.functional.sigmoid is deprecated. Use torch.sigmoid instead.\n",
      "  warnings.warn(\"nn.functional.sigmoid is deprecated. Use torch.sigmoid instead.\")\n",
      "/Users/grandia/anaconda3/envs/pysyft/lib/python3.7/site-packages/torch/nn/functional.py:1386: UserWarning: nn.functional.sigmoid is deprecated. Use torch.sigmoid instead.\n",
      "  warnings.warn(\"nn.functional.sigmoid is deprecated. Use torch.sigmoid instead.\")\n",
      "/Users/grandia/anaconda3/envs/pysyft/lib/python3.7/site-packages/torch/nn/functional.py:1386: UserWarning: nn.functional.sigmoid is deprecated. Use torch.sigmoid instead.\n",
      "  warnings.warn(\"nn.functional.sigmoid is deprecated. Use torch.sigmoid instead.\")\n",
      "/Users/grandia/anaconda3/envs/pysyft/lib/python3.7/site-packages/torch/nn/functional.py:1386: UserWarning: nn.functional.sigmoid is deprecated. Use torch.sigmoid instead.\n",
      "  warnings.warn(\"nn.functional.sigmoid is deprecated. Use torch.sigmoid instead.\")\n",
      "/Users/grandia/anaconda3/envs/pysyft/lib/python3.7/site-packages/torch/nn/functional.py:1386: UserWarning: nn.functional.sigmoid is deprecated. Use torch.sigmoid instead.\n",
      "  warnings.warn(\"nn.functional.sigmoid is deprecated. Use torch.sigmoid instead.\")\n",
      "/Users/grandia/anaconda3/envs/pysyft/lib/python3.7/site-packages/torch/nn/functional.py:1386: UserWarning: nn.functional.sigmoid is deprecated. Use torch.sigmoid instead.\n",
      "  warnings.warn(\"nn.functional.sigmoid is deprecated. Use torch.sigmoid instead.\")\n",
      "/Users/grandia/anaconda3/envs/pysyft/lib/python3.7/site-packages/torch/nn/functional.py:1386: UserWarning: nn.functional.sigmoid is deprecated. Use torch.sigmoid instead.\n",
      "  warnings.warn(\"nn.functional.sigmoid is deprecated. Use torch.sigmoid instead.\")\n",
      "/Users/grandia/anaconda3/envs/pysyft/lib/python3.7/site-packages/torch/nn/functional.py:1386: UserWarning: nn.functional.sigmoid is deprecated. Use torch.sigmoid instead.\n",
      "  warnings.warn(\"nn.functional.sigmoid is deprecated. Use torch.sigmoid instead.\")\n",
      "/Users/grandia/anaconda3/envs/pysyft/lib/python3.7/site-packages/torch/nn/functional.py:1386: UserWarning: nn.functional.sigmoid is deprecated. Use torch.sigmoid instead.\n",
      "  warnings.warn(\"nn.functional.sigmoid is deprecated. Use torch.sigmoid instead.\")\n",
      "/Users/grandia/anaconda3/envs/pysyft/lib/python3.7/site-packages/torch/nn/functional.py:1386: UserWarning: nn.functional.sigmoid is deprecated. Use torch.sigmoid instead.\n",
      "  warnings.warn(\"nn.functional.sigmoid is deprecated. Use torch.sigmoid instead.\")\n",
      "/Users/grandia/anaconda3/envs/pysyft/lib/python3.7/site-packages/torch/nn/functional.py:1386: UserWarning: nn.functional.sigmoid is deprecated. Use torch.sigmoid instead.\n",
      "  warnings.warn(\"nn.functional.sigmoid is deprecated. Use torch.sigmoid instead.\")\n",
      "/Users/grandia/anaconda3/envs/pysyft/lib/python3.7/site-packages/torch/nn/functional.py:1386: UserWarning: nn.functional.sigmoid is deprecated. Use torch.sigmoid instead.\n",
      "  warnings.warn(\"nn.functional.sigmoid is deprecated. Use torch.sigmoid instead.\")\n",
      "/Users/grandia/anaconda3/envs/pysyft/lib/python3.7/site-packages/torch/nn/functional.py:1386: UserWarning: nn.functional.sigmoid is deprecated. Use torch.sigmoid instead.\n",
      "  warnings.warn(\"nn.functional.sigmoid is deprecated. Use torch.sigmoid instead.\")\n",
      "/Users/grandia/anaconda3/envs/pysyft/lib/python3.7/site-packages/torch/nn/functional.py:1386: UserWarning: nn.functional.sigmoid is deprecated. Use torch.sigmoid instead.\n",
      "  warnings.warn(\"nn.functional.sigmoid is deprecated. Use torch.sigmoid instead.\")\n",
      "/Users/grandia/anaconda3/envs/pysyft/lib/python3.7/site-packages/torch/nn/functional.py:1386: UserWarning: nn.functional.sigmoid is deprecated. Use torch.sigmoid instead.\n",
      "  warnings.warn(\"nn.functional.sigmoid is deprecated. Use torch.sigmoid instead.\")\n",
      "/Users/grandia/anaconda3/envs/pysyft/lib/python3.7/site-packages/torch/nn/functional.py:1386: UserWarning: nn.functional.sigmoid is deprecated. Use torch.sigmoid instead.\n",
      "  warnings.warn(\"nn.functional.sigmoid is deprecated. Use torch.sigmoid instead.\")\n",
      "/Users/grandia/anaconda3/envs/pysyft/lib/python3.7/site-packages/torch/nn/functional.py:1386: UserWarning: nn.functional.sigmoid is deprecated. Use torch.sigmoid instead.\n",
      "  warnings.warn(\"nn.functional.sigmoid is deprecated. Use torch.sigmoid instead.\")\n",
      "/Users/grandia/anaconda3/envs/pysyft/lib/python3.7/site-packages/torch/nn/functional.py:1386: UserWarning: nn.functional.sigmoid is deprecated. Use torch.sigmoid instead.\n",
      "  warnings.warn(\"nn.functional.sigmoid is deprecated. Use torch.sigmoid instead.\")\n",
      "/Users/grandia/anaconda3/envs/pysyft/lib/python3.7/site-packages/torch/nn/functional.py:1386: UserWarning: nn.functional.sigmoid is deprecated. Use torch.sigmoid instead.\n",
      "  warnings.warn(\"nn.functional.sigmoid is deprecated. Use torch.sigmoid instead.\")\n",
      "/Users/grandia/anaconda3/envs/pysyft/lib/python3.7/site-packages/torch/nn/functional.py:1386: UserWarning: nn.functional.sigmoid is deprecated. Use torch.sigmoid instead.\n",
      "  warnings.warn(\"nn.functional.sigmoid is deprecated. Use torch.sigmoid instead.\")\n",
      "/Users/grandia/anaconda3/envs/pysyft/lib/python3.7/site-packages/torch/nn/functional.py:1386: UserWarning: nn.functional.sigmoid is deprecated. Use torch.sigmoid instead.\n",
      "  warnings.warn(\"nn.functional.sigmoid is deprecated. Use torch.sigmoid instead.\")\n",
      "/Users/grandia/anaconda3/envs/pysyft/lib/python3.7/site-packages/torch/nn/functional.py:1386: UserWarning: nn.functional.sigmoid is deprecated. Use torch.sigmoid instead.\n",
      "  warnings.warn(\"nn.functional.sigmoid is deprecated. Use torch.sigmoid instead.\")\n",
      "/Users/grandia/anaconda3/envs/pysyft/lib/python3.7/site-packages/torch/nn/functional.py:1386: UserWarning: nn.functional.sigmoid is deprecated. Use torch.sigmoid instead.\n",
      "  warnings.warn(\"nn.functional.sigmoid is deprecated. Use torch.sigmoid instead.\")\n",
      "/Users/grandia/anaconda3/envs/pysyft/lib/python3.7/site-packages/torch/nn/functional.py:1386: UserWarning: nn.functional.sigmoid is deprecated. Use torch.sigmoid instead.\n",
      "  warnings.warn(\"nn.functional.sigmoid is deprecated. Use torch.sigmoid instead.\")\n",
      "/Users/grandia/anaconda3/envs/pysyft/lib/python3.7/site-packages/torch/nn/functional.py:1386: UserWarning: nn.functional.sigmoid is deprecated. Use torch.sigmoid instead.\n",
      "  warnings.warn(\"nn.functional.sigmoid is deprecated. Use torch.sigmoid instead.\")\n",
      "/Users/grandia/anaconda3/envs/pysyft/lib/python3.7/site-packages/torch/nn/functional.py:1386: UserWarning: nn.functional.sigmoid is deprecated. Use torch.sigmoid instead.\n",
      "  warnings.warn(\"nn.functional.sigmoid is deprecated. Use torch.sigmoid instead.\")\n"
     ]
    },
    {
     "name": "stdout",
     "output_type": "stream",
     "text": [
      "tensor([[0.6067]])\n",
      "tensor([[0.1463]])\n",
      "tensor([[0.9300]])\n",
      "tensor([[0.0741]])\n",
      "tensor([[0.8832]])\n",
      "tensor([[0.1147]])\n",
      "tensor([[0.1548]])\n",
      "tensor([[0.7904]])\n",
      "tensor([[0.2830]])\n",
      "tensor([[0.1074]])\n",
      "tensor([[0.2301]])\n",
      "tensor([[0.6170]])\n",
      "tensor([[0.5122]])\n",
      "tensor([[0.8485]])\n",
      "tensor([[0.2387]])\n",
      "tensor([[0.0707]])\n",
      "tensor([[0.0807]])\n",
      "tensor([[0.0956]])\n",
      "tensor([[0.7632]])\n",
      "tensor([[0.1089]])\n",
      "tensor([[0.9347]])\n",
      "tensor([[0.2883]])\n",
      "tensor([[0.1355]])\n",
      "tensor([[0.0690]])\n",
      "tensor([[0.6148]])\n",
      "tensor([[0.9297]])\n",
      "tensor([[0.5322]])\n",
      "tensor([[0.1571]])\n",
      "tensor([[0.7100]])\n",
      "tensor([[0.1127]])\n",
      "tensor([[0.8904]])\n",
      "tensor([[0.6262]])\n",
      "tensor([[0.6555]])\n",
      "tensor([[0.2664]])\n",
      "tensor([[0.1280]])\n",
      "tensor([[0.1514]])\n",
      "tensor([[0.5693]])\n",
      "tensor([[0.5194]])\n",
      "tensor([[0.3619]])\n",
      "tensor([[0.1223]])\n",
      "tensor([[0.9204]])\n",
      "tensor([[0.4600]])\n",
      "tensor([[0.8823]])\n",
      "tensor([[0.1228]])\n",
      "tensor([[0.8974]])\n",
      "tensor([[0.1973]])\n",
      "tensor([[0.1407]])\n",
      "tensor([[0.3268]])\n",
      "tensor([[0.2559]])\n",
      "tensor([[0.4209]])\n",
      "tensor([[0.8237]])\n",
      "tensor([[0.0580]])\n",
      "tensor([[0.9261]])\n",
      "tensor([[0.1110]])\n",
      "tensor([[0.3218]])\n",
      "tensor([[0.1132]])\n",
      "tensor([[0.8890]])\n",
      "tensor([[0.1392]])\n",
      "tensor([[0.2418]])\n",
      "tensor([[0.8941]])\n",
      "tensor([[0.1086]])\n",
      "tensor([[0.9041]])\n",
      "tensor([[0.2862]])\n",
      "tensor([[0.9005]])\n",
      "tensor([[0.1347]])\n",
      "tensor([[0.8597]])\n",
      "tensor([[0.8499]])\n",
      "tensor([[0.6774]])\n",
      "tensor([[0.8822]])\n",
      "tensor([[0.8604]])\n",
      "tensor([[0.1166]])\n",
      "tensor([[0.9380]])\n",
      "tensor([[0.9321]])\n",
      "tensor([[0.9536]])\n",
      "tensor([[0.9165]])\n",
      "tensor([[0.9460]])\n",
      "tensor([[0.8729]])\n",
      "tensor([[0.8645]])\n",
      "tensor([[0.3385]])\n",
      "tensor([[0.8244]])\n",
      "tensor([[0.8283]])\n",
      "tensor([[0.0842]])\n",
      "tensor([[0.6450]])\n",
      "tensor([[0.7093]])\n",
      "tensor([[0.2859]])\n",
      "tensor([[0.0636]])\n",
      "tensor([[0.8972]])\n",
      "tensor([[0.1475]])\n",
      "tensor([[0.5413]])\n",
      "tensor([[0.2748]])\n"
     ]
    },
    {
     "name": "stderr",
     "output_type": "stream",
     "text": [
      "/Users/grandia/anaconda3/envs/pysyft/lib/python3.7/site-packages/torch/nn/functional.py:1386: UserWarning: nn.functional.sigmoid is deprecated. Use torch.sigmoid instead.\n",
      "  warnings.warn(\"nn.functional.sigmoid is deprecated. Use torch.sigmoid instead.\")\n"
     ]
    }
   ],
   "source": [
    "preds = []\n",
    "for idx, row in df_test.iterrows():\n",
    "    test_feature = row.drop(['patient_id']).values\n",
    "    test_feature = scaler.transform(test_feature.reshape(1,-1))\n",
    "    test_feature = test_feature.astype(float)\n",
    "    test_tensor = th.tensor(test_feature)\n",
    "    with th.no_grad():\n",
    "        output = model.forward(test_tensor)\n",
    "        preds.append(output)"
   ]
  },
  {
   "cell_type": "code",
   "execution_count": 301,
   "metadata": {},
   "outputs": [],
   "source": [
    "import csv\n",
    "with open('test.csv', 'w') as writeFile:\n",
    "    writer = csv.writer(writeFile)\n",
    "    writer.writerow([\"patient_id\",\"heart_disease_present\"])\n",
    "    for i in range(len(preds)):\n",
    "        patient_id = df_test.loc[i, \"patient_id\"]\n",
    "        pred = preds[i].numpy()[0]\n",
    "        writer.writerow([patient_id, pred])"
   ]
  },
  {
   "cell_type": "code",
   "execution_count": 396,
   "metadata": {},
   "outputs": [
    {
     "data": {
      "text/plain": [
       "'olalu7'"
      ]
     },
     "execution_count": 396,
     "metadata": {},
     "output_type": "execute_result"
    }
   ],
   "source": [
    "df_test.loc[0, 'patient_id']"
   ]
  },
  {
   "cell_type": "code",
   "execution_count": 440,
   "metadata": {},
   "outputs": [
    {
     "data": {
      "text/plain": [
       "[tensor([[0.6067]]),\n",
       " tensor([[0.1463]]),\n",
       " tensor([[0.9300]]),\n",
       " tensor([[0.0741]]),\n",
       " tensor([[0.8832]]),\n",
       " tensor([[0.1147]]),\n",
       " tensor([[0.1548]]),\n",
       " tensor([[0.7904]]),\n",
       " tensor([[0.2830]]),\n",
       " tensor([[0.1074]]),\n",
       " tensor([[0.2301]]),\n",
       " tensor([[0.6170]]),\n",
       " tensor([[0.5122]]),\n",
       " tensor([[0.8485]]),\n",
       " tensor([[0.2387]]),\n",
       " tensor([[0.0707]]),\n",
       " tensor([[0.0807]]),\n",
       " tensor([[0.0956]]),\n",
       " tensor([[0.7632]]),\n",
       " tensor([[0.1089]]),\n",
       " tensor([[0.9347]]),\n",
       " tensor([[0.2883]]),\n",
       " tensor([[0.1355]]),\n",
       " tensor([[0.0690]]),\n",
       " tensor([[0.6148]]),\n",
       " tensor([[0.9297]]),\n",
       " tensor([[0.5322]]),\n",
       " tensor([[0.1571]]),\n",
       " tensor([[0.7100]]),\n",
       " tensor([[0.1127]]),\n",
       " tensor([[0.8904]]),\n",
       " tensor([[0.6262]]),\n",
       " tensor([[0.6555]]),\n",
       " tensor([[0.2664]]),\n",
       " tensor([[0.1280]]),\n",
       " tensor([[0.1514]]),\n",
       " tensor([[0.5693]]),\n",
       " tensor([[0.5194]]),\n",
       " tensor([[0.3619]]),\n",
       " tensor([[0.1223]]),\n",
       " tensor([[0.9204]]),\n",
       " tensor([[0.4600]]),\n",
       " tensor([[0.8823]]),\n",
       " tensor([[0.1228]]),\n",
       " tensor([[0.8974]]),\n",
       " tensor([[0.1973]]),\n",
       " tensor([[0.1407]]),\n",
       " tensor([[0.3268]]),\n",
       " tensor([[0.2559]]),\n",
       " tensor([[0.4209]]),\n",
       " tensor([[0.8237]]),\n",
       " tensor([[0.0580]]),\n",
       " tensor([[0.9261]]),\n",
       " tensor([[0.1110]]),\n",
       " tensor([[0.3218]]),\n",
       " tensor([[0.1132]]),\n",
       " tensor([[0.8890]]),\n",
       " tensor([[0.1392]]),\n",
       " tensor([[0.2418]]),\n",
       " tensor([[0.8941]]),\n",
       " tensor([[0.1086]]),\n",
       " tensor([[0.9041]]),\n",
       " tensor([[0.2862]]),\n",
       " tensor([[0.9005]]),\n",
       " tensor([[0.1347]]),\n",
       " tensor([[0.8597]]),\n",
       " tensor([[0.8499]]),\n",
       " tensor([[0.6774]]),\n",
       " tensor([[0.8822]]),\n",
       " tensor([[0.8604]]),\n",
       " tensor([[0.1166]]),\n",
       " tensor([[0.9380]]),\n",
       " tensor([[0.9321]]),\n",
       " tensor([[0.9536]]),\n",
       " tensor([[0.9165]]),\n",
       " tensor([[0.9460]]),\n",
       " tensor([[0.8729]]),\n",
       " tensor([[0.8645]]),\n",
       " tensor([[0.3385]]),\n",
       " tensor([[0.8244]]),\n",
       " tensor([[0.8283]]),\n",
       " tensor([[0.0842]]),\n",
       " tensor([[0.6450]]),\n",
       " tensor([[0.7093]]),\n",
       " tensor([[0.2859]]),\n",
       " tensor([[0.0636]]),\n",
       " tensor([[0.8972]]),\n",
       " tensor([[0.1475]]),\n",
       " tensor([[0.5413]]),\n",
       " tensor([[0.2748]])]"
      ]
     },
     "execution_count": 440,
     "metadata": {},
     "output_type": "execute_result"
    }
   ],
   "source": [
    "preds"
   ]
  },
  {
   "cell_type": "code",
   "execution_count": null,
   "metadata": {},
   "outputs": [],
   "source": []
  }
 ],
 "metadata": {
  "kernelspec": {
   "display_name": "Python 3",
   "language": "python",
   "name": "python3"
  },
  "language_info": {
   "codemirror_mode": {
    "name": "ipython",
    "version": 3
   },
   "file_extension": ".py",
   "mimetype": "text/x-python",
   "name": "python",
   "nbconvert_exporter": "python",
   "pygments_lexer": "ipython3",
   "version": "3.7.3"
  }
 },
 "nbformat": 4,
 "nbformat_minor": 2
}
