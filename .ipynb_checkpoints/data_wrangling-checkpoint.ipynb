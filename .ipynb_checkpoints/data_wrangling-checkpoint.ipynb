{
 "cells": [
  {
   "cell_type": "code",
   "execution_count": 7,
   "metadata": {},
   "outputs": [],
   "source": [
    "import pandas as pd\n",
    "import numpy as np\n",
    "from sklearn.model_selection import train_test_split\n",
    "from sklearn.preprocessing import LabelEncoder\n",
    "from sklearn.metrics import log_loss"
   ]
  },
  {
   "cell_type": "code",
   "execution_count": 8,
   "metadata": {},
   "outputs": [],
   "source": [
    "df = pd.read_csv('train_values.csv')\n",
    "df_label = pd.read_csv('train_labels.csv')\n",
    "df_test = pd.read_csv('test_values.csv')"
   ]
  },
  {
   "cell_type": "markdown",
   "metadata": {},
   "source": [
    "## Data Assessment"
   ]
  },
  {
   "cell_type": "code",
   "execution_count": 9,
   "metadata": {},
   "outputs": [
    {
     "data": {
      "text/plain": [
       "(180, 14)"
      ]
     },
     "execution_count": 9,
     "metadata": {},
     "output_type": "execute_result"
    }
   ],
   "source": [
    "df.shape"
   ]
  },
  {
   "cell_type": "code",
   "execution_count": 10,
   "metadata": {},
   "outputs": [
    {
     "data": {
      "text/plain": [
       "(180, 2)"
      ]
     },
     "execution_count": 10,
     "metadata": {},
     "output_type": "execute_result"
    }
   ],
   "source": [
    "df_label.shape"
   ]
  },
  {
   "cell_type": "code",
   "execution_count": 11,
   "metadata": {},
   "outputs": [
    {
     "data": {
      "text/plain": [
       "(90, 14)"
      ]
     },
     "execution_count": 11,
     "metadata": {},
     "output_type": "execute_result"
    }
   ],
   "source": [
    "df_test.shape"
   ]
  },
  {
   "cell_type": "code",
   "execution_count": 12,
   "metadata": {},
   "outputs": [
    {
     "name": "stdout",
     "output_type": "stream",
     "text": [
      "<class 'pandas.core.frame.DataFrame'>\n",
      "RangeIndex: 180 entries, 0 to 179\n",
      "Data columns (total 14 columns):\n",
      "patient_id                              180 non-null object\n",
      "slope_of_peak_exercise_st_segment       180 non-null int64\n",
      "thal                                    180 non-null object\n",
      "resting_blood_pressure                  180 non-null int64\n",
      "chest_pain_type                         180 non-null int64\n",
      "num_major_vessels                       180 non-null int64\n",
      "fasting_blood_sugar_gt_120_mg_per_dl    180 non-null int64\n",
      "resting_ekg_results                     180 non-null int64\n",
      "serum_cholesterol_mg_per_dl             180 non-null int64\n",
      "oldpeak_eq_st_depression                180 non-null float64\n",
      "sex                                     180 non-null int64\n",
      "age                                     180 non-null int64\n",
      "max_heart_rate_achieved                 180 non-null int64\n",
      "exercise_induced_angina                 180 non-null int64\n",
      "dtypes: float64(1), int64(11), object(2)\n",
      "memory usage: 19.8+ KB\n"
     ]
    }
   ],
   "source": [
    "df.info()"
   ]
  },
  {
   "cell_type": "code",
   "execution_count": 13,
   "metadata": {},
   "outputs": [
    {
     "name": "stdout",
     "output_type": "stream",
     "text": [
      "<class 'pandas.core.frame.DataFrame'>\n",
      "RangeIndex: 180 entries, 0 to 179\n",
      "Data columns (total 2 columns):\n",
      "patient_id               180 non-null object\n",
      "heart_disease_present    180 non-null int64\n",
      "dtypes: int64(1), object(1)\n",
      "memory usage: 2.9+ KB\n"
     ]
    }
   ],
   "source": [
    "df_label.info()"
   ]
  },
  {
   "cell_type": "code",
   "execution_count": 14,
   "metadata": {},
   "outputs": [
    {
     "data": {
      "text/plain": [
       "normal               98\n",
       "reversible_defect    74\n",
       "fixed_defect          8\n",
       "Name: thal, dtype: int64"
      ]
     },
     "execution_count": 14,
     "metadata": {},
     "output_type": "execute_result"
    }
   ],
   "source": [
    "df['thal'].value_counts()"
   ]
  },
  {
   "cell_type": "code",
   "execution_count": 15,
   "metadata": {},
   "outputs": [
    {
     "data": {
      "text/html": [
       "<div>\n",
       "<style scoped>\n",
       "    .dataframe tbody tr th:only-of-type {\n",
       "        vertical-align: middle;\n",
       "    }\n",
       "\n",
       "    .dataframe tbody tr th {\n",
       "        vertical-align: top;\n",
       "    }\n",
       "\n",
       "    .dataframe thead th {\n",
       "        text-align: right;\n",
       "    }\n",
       "</style>\n",
       "<table border=\"1\" class=\"dataframe\">\n",
       "  <thead>\n",
       "    <tr style=\"text-align: right;\">\n",
       "      <th></th>\n",
       "      <th>slope_of_peak_exercise_st_segment</th>\n",
       "      <th>resting_blood_pressure</th>\n",
       "      <th>chest_pain_type</th>\n",
       "      <th>num_major_vessels</th>\n",
       "      <th>fasting_blood_sugar_gt_120_mg_per_dl</th>\n",
       "      <th>resting_ekg_results</th>\n",
       "      <th>serum_cholesterol_mg_per_dl</th>\n",
       "      <th>oldpeak_eq_st_depression</th>\n",
       "      <th>sex</th>\n",
       "      <th>age</th>\n",
       "      <th>max_heart_rate_achieved</th>\n",
       "      <th>exercise_induced_angina</th>\n",
       "    </tr>\n",
       "  </thead>\n",
       "  <tbody>\n",
       "    <tr>\n",
       "      <th>count</th>\n",
       "      <td>180.000000</td>\n",
       "      <td>180.000000</td>\n",
       "      <td>180.000000</td>\n",
       "      <td>180.000000</td>\n",
       "      <td>180.000000</td>\n",
       "      <td>180.000000</td>\n",
       "      <td>180.000000</td>\n",
       "      <td>180.000000</td>\n",
       "      <td>180.000000</td>\n",
       "      <td>180.000000</td>\n",
       "      <td>180.000000</td>\n",
       "      <td>180.000000</td>\n",
       "    </tr>\n",
       "    <tr>\n",
       "      <th>mean</th>\n",
       "      <td>1.550000</td>\n",
       "      <td>131.311111</td>\n",
       "      <td>3.155556</td>\n",
       "      <td>0.694444</td>\n",
       "      <td>0.161111</td>\n",
       "      <td>1.050000</td>\n",
       "      <td>249.211111</td>\n",
       "      <td>1.010000</td>\n",
       "      <td>0.688889</td>\n",
       "      <td>54.811111</td>\n",
       "      <td>149.483333</td>\n",
       "      <td>0.316667</td>\n",
       "    </tr>\n",
       "    <tr>\n",
       "      <th>std</th>\n",
       "      <td>0.618838</td>\n",
       "      <td>17.010443</td>\n",
       "      <td>0.938454</td>\n",
       "      <td>0.969347</td>\n",
       "      <td>0.368659</td>\n",
       "      <td>0.998742</td>\n",
       "      <td>52.717969</td>\n",
       "      <td>1.121357</td>\n",
       "      <td>0.464239</td>\n",
       "      <td>9.334737</td>\n",
       "      <td>22.063513</td>\n",
       "      <td>0.466474</td>\n",
       "    </tr>\n",
       "    <tr>\n",
       "      <th>min</th>\n",
       "      <td>1.000000</td>\n",
       "      <td>94.000000</td>\n",
       "      <td>1.000000</td>\n",
       "      <td>0.000000</td>\n",
       "      <td>0.000000</td>\n",
       "      <td>0.000000</td>\n",
       "      <td>126.000000</td>\n",
       "      <td>0.000000</td>\n",
       "      <td>0.000000</td>\n",
       "      <td>29.000000</td>\n",
       "      <td>96.000000</td>\n",
       "      <td>0.000000</td>\n",
       "    </tr>\n",
       "    <tr>\n",
       "      <th>25%</th>\n",
       "      <td>1.000000</td>\n",
       "      <td>120.000000</td>\n",
       "      <td>3.000000</td>\n",
       "      <td>0.000000</td>\n",
       "      <td>0.000000</td>\n",
       "      <td>0.000000</td>\n",
       "      <td>213.750000</td>\n",
       "      <td>0.000000</td>\n",
       "      <td>0.000000</td>\n",
       "      <td>48.000000</td>\n",
       "      <td>132.000000</td>\n",
       "      <td>0.000000</td>\n",
       "    </tr>\n",
       "    <tr>\n",
       "      <th>50%</th>\n",
       "      <td>1.000000</td>\n",
       "      <td>130.000000</td>\n",
       "      <td>3.000000</td>\n",
       "      <td>0.000000</td>\n",
       "      <td>0.000000</td>\n",
       "      <td>2.000000</td>\n",
       "      <td>245.500000</td>\n",
       "      <td>0.800000</td>\n",
       "      <td>1.000000</td>\n",
       "      <td>55.000000</td>\n",
       "      <td>152.000000</td>\n",
       "      <td>0.000000</td>\n",
       "    </tr>\n",
       "    <tr>\n",
       "      <th>75%</th>\n",
       "      <td>2.000000</td>\n",
       "      <td>140.000000</td>\n",
       "      <td>4.000000</td>\n",
       "      <td>1.000000</td>\n",
       "      <td>0.000000</td>\n",
       "      <td>2.000000</td>\n",
       "      <td>281.250000</td>\n",
       "      <td>1.600000</td>\n",
       "      <td>1.000000</td>\n",
       "      <td>62.000000</td>\n",
       "      <td>166.250000</td>\n",
       "      <td>1.000000</td>\n",
       "    </tr>\n",
       "    <tr>\n",
       "      <th>max</th>\n",
       "      <td>3.000000</td>\n",
       "      <td>180.000000</td>\n",
       "      <td>4.000000</td>\n",
       "      <td>3.000000</td>\n",
       "      <td>1.000000</td>\n",
       "      <td>2.000000</td>\n",
       "      <td>564.000000</td>\n",
       "      <td>6.200000</td>\n",
       "      <td>1.000000</td>\n",
       "      <td>77.000000</td>\n",
       "      <td>202.000000</td>\n",
       "      <td>1.000000</td>\n",
       "    </tr>\n",
       "  </tbody>\n",
       "</table>\n",
       "</div>"
      ],
      "text/plain": [
       "       slope_of_peak_exercise_st_segment  resting_blood_pressure  \\\n",
       "count                         180.000000              180.000000   \n",
       "mean                            1.550000              131.311111   \n",
       "std                             0.618838               17.010443   \n",
       "min                             1.000000               94.000000   \n",
       "25%                             1.000000              120.000000   \n",
       "50%                             1.000000              130.000000   \n",
       "75%                             2.000000              140.000000   \n",
       "max                             3.000000              180.000000   \n",
       "\n",
       "       chest_pain_type  num_major_vessels  \\\n",
       "count       180.000000         180.000000   \n",
       "mean          3.155556           0.694444   \n",
       "std           0.938454           0.969347   \n",
       "min           1.000000           0.000000   \n",
       "25%           3.000000           0.000000   \n",
       "50%           3.000000           0.000000   \n",
       "75%           4.000000           1.000000   \n",
       "max           4.000000           3.000000   \n",
       "\n",
       "       fasting_blood_sugar_gt_120_mg_per_dl  resting_ekg_results  \\\n",
       "count                            180.000000           180.000000   \n",
       "mean                               0.161111             1.050000   \n",
       "std                                0.368659             0.998742   \n",
       "min                                0.000000             0.000000   \n",
       "25%                                0.000000             0.000000   \n",
       "50%                                0.000000             2.000000   \n",
       "75%                                0.000000             2.000000   \n",
       "max                                1.000000             2.000000   \n",
       "\n",
       "       serum_cholesterol_mg_per_dl  oldpeak_eq_st_depression         sex  \\\n",
       "count                   180.000000                180.000000  180.000000   \n",
       "mean                    249.211111                  1.010000    0.688889   \n",
       "std                      52.717969                  1.121357    0.464239   \n",
       "min                     126.000000                  0.000000    0.000000   \n",
       "25%                     213.750000                  0.000000    0.000000   \n",
       "50%                     245.500000                  0.800000    1.000000   \n",
       "75%                     281.250000                  1.600000    1.000000   \n",
       "max                     564.000000                  6.200000    1.000000   \n",
       "\n",
       "              age  max_heart_rate_achieved  exercise_induced_angina  \n",
       "count  180.000000               180.000000               180.000000  \n",
       "mean    54.811111               149.483333                 0.316667  \n",
       "std      9.334737                22.063513                 0.466474  \n",
       "min     29.000000                96.000000                 0.000000  \n",
       "25%     48.000000               132.000000                 0.000000  \n",
       "50%     55.000000               152.000000                 0.000000  \n",
       "75%     62.000000               166.250000                 1.000000  \n",
       "max     77.000000               202.000000                 1.000000  "
      ]
     },
     "execution_count": 15,
     "metadata": {},
     "output_type": "execute_result"
    }
   ],
   "source": [
    "df.describe()"
   ]
  },
  {
   "cell_type": "code",
   "execution_count": 16,
   "metadata": {},
   "outputs": [
    {
     "data": {
      "text/plain": [
       "1    93\n",
       "2    75\n",
       "3    12\n",
       "Name: slope_of_peak_exercise_st_segment, dtype: int64"
      ]
     },
     "execution_count": 16,
     "metadata": {},
     "output_type": "execute_result"
    }
   ],
   "source": [
    "df['slope_of_peak_exercise_st_segment'].value_counts()"
   ]
  },
  {
   "cell_type": "code",
   "execution_count": 17,
   "metadata": {},
   "outputs": [
    {
     "data": {
      "text/plain": [
       "130    26\n",
       "140    22\n",
       "120    21\n",
       "110    11\n",
       "150    10\n",
       "160     9\n",
       "112     8\n",
       "128     8\n",
       "125     7\n",
       "108     5\n",
       "124     5\n",
       "135     4\n",
       "118     4\n",
       "145     4\n",
       "132     3\n",
       "180     3\n",
       "138     3\n",
       "134     2\n",
       "178     2\n",
       "126     2\n",
       "142     2\n",
       "100     2\n",
       "152     2\n",
       "136     2\n",
       "115     2\n",
       "172     1\n",
       "102     1\n",
       "105     1\n",
       "106     1\n",
       "117     1\n",
       "170     1\n",
       "156     1\n",
       "155     1\n",
       "122     1\n",
       "144     1\n",
       "94      1\n",
       "Name: resting_blood_pressure, dtype: int64"
      ]
     },
     "execution_count": 17,
     "metadata": {},
     "output_type": "execute_result"
    }
   ],
   "source": [
    "df['resting_blood_pressure'].value_counts()"
   ]
  },
  {
   "cell_type": "code",
   "execution_count": 18,
   "metadata": {},
   "outputs": [
    {
     "data": {
      "text/plain": [
       "4    82\n",
       "3    57\n",
       "2    28\n",
       "1    13\n",
       "Name: chest_pain_type, dtype: int64"
      ]
     },
     "execution_count": 18,
     "metadata": {},
     "output_type": "execute_result"
    }
   ],
   "source": [
    "df['chest_pain_type'].value_counts()"
   ]
  },
  {
   "cell_type": "code",
   "execution_count": 19,
   "metadata": {},
   "outputs": [
    {
     "data": {
      "text/plain": [
       "0    106\n",
       "1     37\n",
       "2     23\n",
       "3     14\n",
       "Name: num_major_vessels, dtype: int64"
      ]
     },
     "execution_count": 19,
     "metadata": {},
     "output_type": "execute_result"
    }
   ],
   "source": [
    "df['num_major_vessels'].value_counts()"
   ]
  },
  {
   "cell_type": "code",
   "execution_count": 20,
   "metadata": {},
   "outputs": [
    {
     "data": {
      "text/plain": [
       "0    151\n",
       "1     29\n",
       "Name: fasting_blood_sugar_gt_120_mg_per_dl, dtype: int64"
      ]
     },
     "execution_count": 20,
     "metadata": {},
     "output_type": "execute_result"
    }
   ],
   "source": [
    "df['fasting_blood_sugar_gt_120_mg_per_dl'].value_counts()"
   ]
  },
  {
   "cell_type": "code",
   "execution_count": 21,
   "metadata": {},
   "outputs": [
    {
     "data": {
      "text/plain": [
       "2    94\n",
       "0    85\n",
       "1     1\n",
       "Name: resting_ekg_results, dtype: int64"
      ]
     },
     "execution_count": 21,
     "metadata": {},
     "output_type": "execute_result"
    }
   ],
   "source": [
    "df['resting_ekg_results'].value_counts()"
   ]
  },
  {
   "cell_type": "code",
   "execution_count": 22,
   "metadata": {},
   "outputs": [
    {
     "data": {
      "text/plain": [
       "4    82\n",
       "3    57\n",
       "2    28\n",
       "1    13\n",
       "Name: chest_pain_type, dtype: int64"
      ]
     },
     "execution_count": 22,
     "metadata": {},
     "output_type": "execute_result"
    }
   ],
   "source": [
    "df['chest_pain_type'].value_counts()"
   ]
  },
  {
   "cell_type": "code",
   "execution_count": 23,
   "metadata": {},
   "outputs": [
    {
     "data": {
      "text/plain": [
       "204    4\n",
       "239    4\n",
       "219    3\n",
       "254    3\n",
       "309    3\n",
       "226    3\n",
       "303    3\n",
       "211    3\n",
       "282    3\n",
       "233    3\n",
       "234    3\n",
       "256    3\n",
       "263    3\n",
       "277    2\n",
       "265    2\n",
       "203    2\n",
       "199    2\n",
       "197    2\n",
       "188    2\n",
       "177    2\n",
       "258    2\n",
       "149    2\n",
       "330    2\n",
       "308    2\n",
       "283    2\n",
       "266    2\n",
       "304    2\n",
       "267    2\n",
       "302    2\n",
       "299    2\n",
       "      ..\n",
       "215    1\n",
       "218    1\n",
       "200    1\n",
       "201    1\n",
       "213    1\n",
       "205    1\n",
       "206    1\n",
       "207    1\n",
       "209    1\n",
       "180    1\n",
       "175    1\n",
       "321    1\n",
       "126    1\n",
       "322    1\n",
       "325    1\n",
       "326    1\n",
       "327    1\n",
       "335    1\n",
       "353    1\n",
       "360    1\n",
       "141    1\n",
       "174    1\n",
       "222    1\n",
       "160    1\n",
       "417    1\n",
       "164    1\n",
       "167    1\n",
       "168    1\n",
       "220    1\n",
       "172    1\n",
       "Name: serum_cholesterol_mg_per_dl, Length: 118, dtype: int64"
      ]
     },
     "execution_count": 23,
     "metadata": {},
     "output_type": "execute_result"
    }
   ],
   "source": [
    "df['serum_cholesterol_mg_per_dl'].value_counts()"
   ]
  },
  {
   "cell_type": "code",
   "execution_count": 24,
   "metadata": {},
   "outputs": [
    {
     "data": {
      "text/plain": [
       "0.0    56\n",
       "1.4    11\n",
       "1.6    10\n",
       "1.2     9\n",
       "1.0     7\n",
       "0.2     7\n",
       "0.6     7\n",
       "0.4     7\n",
       "0.8     7\n",
       "1.8     6\n",
       "2.0     5\n",
       "0.1     5\n",
       "0.5     4\n",
       "2.2     4\n",
       "2.4     3\n",
       "1.5     3\n",
       "1.9     3\n",
       "2.6     3\n",
       "2.8     2\n",
       "3.0     2\n",
       "2.3     2\n",
       "0.9     2\n",
       "4.2     2\n",
       "0.3     2\n",
       "3.4     2\n",
       "1.1     1\n",
       "2.5     1\n",
       "1.3     1\n",
       "3.8     1\n",
       "3.2     1\n",
       "5.6     1\n",
       "3.1     1\n",
       "0.7     1\n",
       "6.2     1\n",
       "Name: oldpeak_eq_st_depression, dtype: int64"
      ]
     },
     "execution_count": 24,
     "metadata": {},
     "output_type": "execute_result"
    }
   ],
   "source": [
    "df['oldpeak_eq_st_depression'].value_counts()"
   ]
  },
  {
   "cell_type": "code",
   "execution_count": 25,
   "metadata": {},
   "outputs": [
    {
     "data": {
      "text/plain": [
       "1    124\n",
       "0     56\n",
       "Name: sex, dtype: int64"
      ]
     },
     "execution_count": 25,
     "metadata": {},
     "output_type": "execute_result"
    }
   ],
   "source": [
    "df['sex'].value_counts()"
   ]
  },
  {
   "cell_type": "code",
   "execution_count": 26,
   "metadata": {},
   "outputs": [
    {
     "data": {
      "text/plain": [
       "54    12\n",
       "58    10\n",
       "64     9\n",
       "51     9\n",
       "44     9\n",
       "57     8\n",
       "60     7\n",
       "62     7\n",
       "59     6\n",
       "55     6\n",
       "65     6\n",
       "48     6\n",
       "67     6\n",
       "41     6\n",
       "52     5\n",
       "45     5\n",
       "63     5\n",
       "49     4\n",
       "42     4\n",
       "50     4\n",
       "53     4\n",
       "56     4\n",
       "66     4\n",
       "61     3\n",
       "46     3\n",
       "68     3\n",
       "70     3\n",
       "71     3\n",
       "40     3\n",
       "47     2\n",
       "69     2\n",
       "43     2\n",
       "39     2\n",
       "35     2\n",
       "34     1\n",
       "37     1\n",
       "77     1\n",
       "38     1\n",
       "74     1\n",
       "29     1\n",
       "Name: age, dtype: int64"
      ]
     },
     "execution_count": 26,
     "metadata": {},
     "output_type": "execute_result"
    }
   ],
   "source": [
    "df['age'].value_counts()"
   ]
  },
  {
   "cell_type": "code",
   "execution_count": 27,
   "metadata": {},
   "outputs": [
    {
     "data": {
      "text/plain": [
       "162    10\n",
       "132     6\n",
       "142     6\n",
       "150     5\n",
       "170     5\n",
       "172     5\n",
       "173     5\n",
       "152     5\n",
       "125     5\n",
       "165     4\n",
       "145     4\n",
       "122     4\n",
       "158     4\n",
       "147     4\n",
       "151     4\n",
       "154     3\n",
       "155     3\n",
       "131     3\n",
       "160     3\n",
       "163     3\n",
       "179     3\n",
       "130     3\n",
       "168     3\n",
       "144     3\n",
       "140     3\n",
       "111     3\n",
       "175     3\n",
       "126     3\n",
       "169     3\n",
       "138     2\n",
       "       ..\n",
       "181     2\n",
       "182     2\n",
       "103     2\n",
       "161     2\n",
       "115     1\n",
       "202     1\n",
       "113     1\n",
       "112     1\n",
       "120     1\n",
       "108     1\n",
       "106     1\n",
       "105     1\n",
       "99      1\n",
       "97      1\n",
       "117     1\n",
       "149     1\n",
       "121     1\n",
       "123     1\n",
       "133     1\n",
       "134     1\n",
       "137     1\n",
       "141     1\n",
       "192     1\n",
       "167     1\n",
       "177     1\n",
       "180     1\n",
       "184     1\n",
       "186     1\n",
       "188     1\n",
       "96      1\n",
       "Name: max_heart_rate_achieved, Length: 73, dtype: int64"
      ]
     },
     "execution_count": 27,
     "metadata": {},
     "output_type": "execute_result"
    }
   ],
   "source": [
    "df['max_heart_rate_achieved'].value_counts()"
   ]
  },
  {
   "cell_type": "code",
   "execution_count": 28,
   "metadata": {},
   "outputs": [
    {
     "data": {
      "text/plain": [
       "0    123\n",
       "1     57\n",
       "Name: exercise_induced_angina, dtype: int64"
      ]
     },
     "execution_count": 28,
     "metadata": {},
     "output_type": "execute_result"
    }
   ],
   "source": [
    "df['exercise_induced_angina'].value_counts()"
   ]
  },
  {
   "cell_type": "markdown",
   "metadata": {},
   "source": [
    "### Quality\n",
    "\n",
    "* the column `thal` is a string and needs to be encoded\n",
    "* the column `fasting_blood_sugar_gt_120_mg_per_dl` is a boolean, convert it to bool datatype to avoid confusion\n",
    "* the column `sex` is a boolean, convert it to bool datatype to avoid confusion\n",
    "* the column `exercise_induced_angina` is a boolean, convert it to bool datatype to avoid confusion\n"
   ]
  },
  {
   "cell_type": "markdown",
   "metadata": {},
   "source": [
    "### Tidyness\n",
    "\n",
    "the data doesn't have structural issue"
   ]
  },
  {
   "cell_type": "code",
   "execution_count": 29,
   "metadata": {},
   "outputs": [],
   "source": [
    "## Categorical column\n",
    "\n",
    "category_cols = ['chest_pain_type', 'fasting_blood_sugar_gt_120_mg_per_dl', 'resting_ekg_results', 'sex',\n",
    "                'exercise_induced_angina']\n",
    "\n",
    "## Numeric columns\n",
    "\n",
    "numerical_cols = ['slope_of_peak_exercise_st_segment', 'resting_blood_pressure', 'num_major_vessels',\n",
    "                 'serum_cholesterol_mg_per_dl', 'oldpeak_eq_st_depression', 'age', 'max_heart_rate_achieved']"
   ]
  },
  {
   "cell_type": "markdown",
   "metadata": {},
   "source": [
    "## Cleaning"
   ]
  },
  {
   "cell_type": "code",
   "execution_count": 30,
   "metadata": {},
   "outputs": [],
   "source": [
    "df_clean = df.copy()\n",
    "df_test_clean = df_test.copy()"
   ]
  },
  {
   "cell_type": "code",
   "execution_count": 31,
   "metadata": {},
   "outputs": [],
   "source": [
    "# encode strings in thal column"
   ]
  },
  {
   "cell_type": "code",
   "execution_count": 32,
   "metadata": {},
   "outputs": [],
   "source": [
    "lbl_encoder = LabelEncoder()"
   ]
  },
  {
   "cell_type": "code",
   "execution_count": 33,
   "metadata": {},
   "outputs": [
    {
     "data": {
      "text/plain": [
       "normal               98\n",
       "reversible_defect    74\n",
       "fixed_defect          8\n",
       "Name: thal, dtype: int64"
      ]
     },
     "execution_count": 33,
     "metadata": {},
     "output_type": "execute_result"
    }
   ],
   "source": [
    "df['thal'].value_counts()"
   ]
  },
  {
   "cell_type": "code",
   "execution_count": 34,
   "metadata": {},
   "outputs": [
    {
     "data": {
      "text/plain": [
       "normal               54\n",
       "reversible_defect    30\n",
       "fixed_defect          6\n",
       "Name: thal, dtype: int64"
      ]
     },
     "execution_count": 34,
     "metadata": {},
     "output_type": "execute_result"
    }
   ],
   "source": [
    "df_test['thal'].value_counts()"
   ]
  },
  {
   "cell_type": "code",
   "execution_count": 35,
   "metadata": {},
   "outputs": [],
   "source": [
    "lbl_encoder.fit(df_clean['thal'])\n",
    "df_clean['thal'] = lbl_encoder.transform(df_clean['thal'])"
   ]
  },
  {
   "cell_type": "code",
   "execution_count": 36,
   "metadata": {},
   "outputs": [],
   "source": [
    "df_test_clean['thal'] = lbl_encoder.transform(df_test_clean['thal'])"
   ]
  },
  {
   "cell_type": "code",
   "execution_count": 37,
   "metadata": {},
   "outputs": [],
   "source": [
    "# fix data type in blood sugar, sex and exercise induced"
   ]
  },
  {
   "cell_type": "code",
   "execution_count": 38,
   "metadata": {},
   "outputs": [],
   "source": [
    "df_clean['fasting_blood_sugar_gt_120_mg_per_dl'] = df_clean['fasting_blood_sugar_gt_120_mg_per_dl'].astype(bool)"
   ]
  },
  {
   "cell_type": "code",
   "execution_count": 39,
   "metadata": {},
   "outputs": [],
   "source": [
    "df_test_clean['fasting_blood_sugar_gt_120_mg_per_dl'] = df_test_clean['fasting_blood_sugar_gt_120_mg_per_dl'].astype(bool)"
   ]
  },
  {
   "cell_type": "code",
   "execution_count": 40,
   "metadata": {},
   "outputs": [],
   "source": [
    "df_clean['sex'] = df_clean['sex'].astype(bool)"
   ]
  },
  {
   "cell_type": "code",
   "execution_count": 41,
   "metadata": {},
   "outputs": [],
   "source": [
    "df_test_clean['sex'] = df_test_clean['sex'].astype(bool)"
   ]
  },
  {
   "cell_type": "code",
   "execution_count": 42,
   "metadata": {},
   "outputs": [],
   "source": [
    "df_clean['exercise_induced_angina'] = df_clean['exercise_induced_angina'].astype(bool)"
   ]
  },
  {
   "cell_type": "code",
   "execution_count": 43,
   "metadata": {},
   "outputs": [],
   "source": [
    "df_test_clean['exercise_induced_angina'] = df_test_clean['exercise_induced_angina'].astype(bool)"
   ]
  },
  {
   "cell_type": "markdown",
   "metadata": {},
   "source": [
    "## Decision Tree"
   ]
  },
  {
   "cell_type": "code",
   "execution_count": 44,
   "metadata": {},
   "outputs": [],
   "source": [
    "from sklearn.tree import DecisionTreeClassifier\n",
    "from sklearn.model_selection import train_test_split, GridSearchCV"
   ]
  },
  {
   "cell_type": "code",
   "execution_count": 45,
   "metadata": {},
   "outputs": [],
   "source": [
    "df_train = df_clean.merge(df_label, on='patient_id', how='left')"
   ]
  },
  {
   "cell_type": "code",
   "execution_count": 46,
   "metadata": {},
   "outputs": [
    {
     "data": {
      "text/html": [
       "<div>\n",
       "<style scoped>\n",
       "    .dataframe tbody tr th:only-of-type {\n",
       "        vertical-align: middle;\n",
       "    }\n",
       "\n",
       "    .dataframe tbody tr th {\n",
       "        vertical-align: top;\n",
       "    }\n",
       "\n",
       "    .dataframe thead th {\n",
       "        text-align: right;\n",
       "    }\n",
       "</style>\n",
       "<table border=\"1\" class=\"dataframe\">\n",
       "  <thead>\n",
       "    <tr style=\"text-align: right;\">\n",
       "      <th></th>\n",
       "      <th>patient_id</th>\n",
       "      <th>slope_of_peak_exercise_st_segment</th>\n",
       "      <th>thal</th>\n",
       "      <th>resting_blood_pressure</th>\n",
       "      <th>chest_pain_type</th>\n",
       "      <th>num_major_vessels</th>\n",
       "      <th>fasting_blood_sugar_gt_120_mg_per_dl</th>\n",
       "      <th>resting_ekg_results</th>\n",
       "      <th>serum_cholesterol_mg_per_dl</th>\n",
       "      <th>oldpeak_eq_st_depression</th>\n",
       "      <th>sex</th>\n",
       "      <th>age</th>\n",
       "      <th>max_heart_rate_achieved</th>\n",
       "      <th>exercise_induced_angina</th>\n",
       "      <th>heart_disease_present</th>\n",
       "    </tr>\n",
       "  </thead>\n",
       "  <tbody>\n",
       "    <tr>\n",
       "      <th>0</th>\n",
       "      <td>0z64un</td>\n",
       "      <td>1</td>\n",
       "      <td>1</td>\n",
       "      <td>128</td>\n",
       "      <td>2</td>\n",
       "      <td>0</td>\n",
       "      <td>False</td>\n",
       "      <td>2</td>\n",
       "      <td>308</td>\n",
       "      <td>0.0</td>\n",
       "      <td>True</td>\n",
       "      <td>45</td>\n",
       "      <td>170</td>\n",
       "      <td>False</td>\n",
       "      <td>0</td>\n",
       "    </tr>\n",
       "    <tr>\n",
       "      <th>1</th>\n",
       "      <td>ryoo3j</td>\n",
       "      <td>2</td>\n",
       "      <td>1</td>\n",
       "      <td>110</td>\n",
       "      <td>3</td>\n",
       "      <td>0</td>\n",
       "      <td>False</td>\n",
       "      <td>0</td>\n",
       "      <td>214</td>\n",
       "      <td>1.6</td>\n",
       "      <td>False</td>\n",
       "      <td>54</td>\n",
       "      <td>158</td>\n",
       "      <td>False</td>\n",
       "      <td>0</td>\n",
       "    </tr>\n",
       "    <tr>\n",
       "      <th>2</th>\n",
       "      <td>yt1s1x</td>\n",
       "      <td>1</td>\n",
       "      <td>1</td>\n",
       "      <td>125</td>\n",
       "      <td>4</td>\n",
       "      <td>3</td>\n",
       "      <td>False</td>\n",
       "      <td>2</td>\n",
       "      <td>304</td>\n",
       "      <td>0.0</td>\n",
       "      <td>True</td>\n",
       "      <td>77</td>\n",
       "      <td>162</td>\n",
       "      <td>True</td>\n",
       "      <td>1</td>\n",
       "    </tr>\n",
       "    <tr>\n",
       "      <th>3</th>\n",
       "      <td>l2xjde</td>\n",
       "      <td>1</td>\n",
       "      <td>2</td>\n",
       "      <td>152</td>\n",
       "      <td>4</td>\n",
       "      <td>0</td>\n",
       "      <td>False</td>\n",
       "      <td>0</td>\n",
       "      <td>223</td>\n",
       "      <td>0.0</td>\n",
       "      <td>True</td>\n",
       "      <td>40</td>\n",
       "      <td>181</td>\n",
       "      <td>False</td>\n",
       "      <td>1</td>\n",
       "    </tr>\n",
       "    <tr>\n",
       "      <th>4</th>\n",
       "      <td>oyt4ek</td>\n",
       "      <td>3</td>\n",
       "      <td>2</td>\n",
       "      <td>178</td>\n",
       "      <td>1</td>\n",
       "      <td>0</td>\n",
       "      <td>False</td>\n",
       "      <td>2</td>\n",
       "      <td>270</td>\n",
       "      <td>4.2</td>\n",
       "      <td>True</td>\n",
       "      <td>59</td>\n",
       "      <td>145</td>\n",
       "      <td>False</td>\n",
       "      <td>0</td>\n",
       "    </tr>\n",
       "  </tbody>\n",
       "</table>\n",
       "</div>"
      ],
      "text/plain": [
       "  patient_id  slope_of_peak_exercise_st_segment  thal  resting_blood_pressure  \\\n",
       "0     0z64un                                  1     1                     128   \n",
       "1     ryoo3j                                  2     1                     110   \n",
       "2     yt1s1x                                  1     1                     125   \n",
       "3     l2xjde                                  1     2                     152   \n",
       "4     oyt4ek                                  3     2                     178   \n",
       "\n",
       "   chest_pain_type  num_major_vessels  fasting_blood_sugar_gt_120_mg_per_dl  \\\n",
       "0                2                  0                                 False   \n",
       "1                3                  0                                 False   \n",
       "2                4                  3                                 False   \n",
       "3                4                  0                                 False   \n",
       "4                1                  0                                 False   \n",
       "\n",
       "   resting_ekg_results  serum_cholesterol_mg_per_dl  oldpeak_eq_st_depression  \\\n",
       "0                    2                          308                       0.0   \n",
       "1                    0                          214                       1.6   \n",
       "2                    2                          304                       0.0   \n",
       "3                    0                          223                       0.0   \n",
       "4                    2                          270                       4.2   \n",
       "\n",
       "     sex  age  max_heart_rate_achieved  exercise_induced_angina  \\\n",
       "0   True   45                      170                    False   \n",
       "1  False   54                      158                    False   \n",
       "2   True   77                      162                     True   \n",
       "3   True   40                      181                    False   \n",
       "4   True   59                      145                    False   \n",
       "\n",
       "   heart_disease_present  \n",
       "0                      0  \n",
       "1                      0  \n",
       "2                      1  \n",
       "3                      1  \n",
       "4                      0  "
      ]
     },
     "execution_count": 46,
     "metadata": {},
     "output_type": "execute_result"
    }
   ],
   "source": [
    "df_train.head()"
   ]
  },
  {
   "cell_type": "code",
   "execution_count": 47,
   "metadata": {},
   "outputs": [],
   "source": [
    "X = df_train.drop(['patient_id', 'heart_disease_present'], axis=1)\n",
    "y = df_train['heart_disease_present']"
   ]
  },
  {
   "cell_type": "code",
   "execution_count": 48,
   "metadata": {},
   "outputs": [],
   "source": [
    "X_preds = df_test_clean.drop(['patient_id'], axis=1)"
   ]
  },
  {
   "cell_type": "code",
   "execution_count": null,
   "metadata": {},
   "outputs": [],
   "source": []
  },
  {
   "cell_type": "code",
   "execution_count": 41,
   "metadata": {},
   "outputs": [
    {
     "data": {
      "text/plain": [
       "0    100\n",
       "1     80\n",
       "Name: heart_disease_present, dtype: int64"
      ]
     },
     "execution_count": 41,
     "metadata": {},
     "output_type": "execute_result"
    }
   ],
   "source": [
    "y.value_counts()"
   ]
  },
  {
   "cell_type": "code",
   "execution_count": 42,
   "metadata": {},
   "outputs": [],
   "source": [
    "X_train, X_test, y_train, y_test = train_test_split(X, y, test_size=0.2, stratify=y)"
   ]
  },
  {
   "cell_type": "code",
   "execution_count": null,
   "metadata": {},
   "outputs": [],
   "source": []
  },
  {
   "cell_type": "code",
   "execution_count": 80,
   "metadata": {},
   "outputs": [],
   "source": [
    "tree_clf = DecisionTreeClassifier(max_depth=9)"
   ]
  },
  {
   "cell_type": "code",
   "execution_count": 83,
   "metadata": {},
   "outputs": [
    {
     "data": {
      "text/plain": [
       "DecisionTreeClassifier(class_weight=None, criterion='gini', max_depth=9,\n",
       "                       max_features=None, max_leaf_nodes=None,\n",
       "                       min_impurity_decrease=0.0, min_impurity_split=None,\n",
       "                       min_samples_leaf=1, min_samples_split=2,\n",
       "                       min_weight_fraction_leaf=0.0, presort=False,\n",
       "                       random_state=None, splitter='best')"
      ]
     },
     "execution_count": 83,
     "metadata": {},
     "output_type": "execute_result"
    }
   ],
   "source": [
    "tree_clf.fit(X_train, y_train)"
   ]
  },
  {
   "cell_type": "code",
   "execution_count": 87,
   "metadata": {},
   "outputs": [
    {
     "data": {
      "text/plain": [
       "0.8888888888888888"
      ]
     },
     "execution_count": 87,
     "metadata": {},
     "output_type": "execute_result"
    }
   ],
   "source": [
    "tree_clf.score(X_test, y_test)"
   ]
  },
  {
   "cell_type": "code",
   "execution_count": 104,
   "metadata": {},
   "outputs": [],
   "source": [
    "y_preds = tree_clf.predict_proba(X_test)[:,1]"
   ]
  },
  {
   "cell_type": "code",
   "execution_count": 105,
   "metadata": {},
   "outputs": [
    {
     "data": {
      "text/plain": [
       "3.837664032696471"
      ]
     },
     "execution_count": 105,
     "metadata": {},
     "output_type": "execute_result"
    }
   ],
   "source": [
    "# metrics used in competition\n",
    "log_loss(y_test, y_preds)"
   ]
  },
  {
   "cell_type": "code",
   "execution_count": 107,
   "metadata": {},
   "outputs": [],
   "source": [
    "# Use GridSearchCV for parameter tuning"
   ]
  },
  {
   "cell_type": "code",
   "execution_count": 108,
   "metadata": {},
   "outputs": [],
   "source": [
    "tree = DecisionTreeClassifier()\n",
    "params = {\n",
    "    \"max_depth\":[3,6,9,12,15],\n",
    "    \"min_samples_leaf\":[2,3,4,5,6,7,8]\n",
    "}"
   ]
  },
  {
   "cell_type": "code",
   "execution_count": 109,
   "metadata": {},
   "outputs": [],
   "source": [
    "grid_cv = GridSearchCV(tree, params, cv=5)"
   ]
  },
  {
   "cell_type": "code",
   "execution_count": 110,
   "metadata": {},
   "outputs": [
    {
     "name": "stderr",
     "output_type": "stream",
     "text": [
      "/Users/grandia/anaconda3/envs/pysyft/lib/python3.7/site-packages/sklearn/model_selection/_search.py:813: DeprecationWarning: The default of the `iid` parameter will change from True to False in version 0.22 and will be removed in 0.24. This will change numeric results when test-set sizes are unequal.\n",
      "  DeprecationWarning)\n"
     ]
    },
    {
     "data": {
      "text/plain": [
       "GridSearchCV(cv=5, error_score='raise-deprecating',\n",
       "             estimator=DecisionTreeClassifier(class_weight=None,\n",
       "                                              criterion='gini', max_depth=None,\n",
       "                                              max_features=None,\n",
       "                                              max_leaf_nodes=None,\n",
       "                                              min_impurity_decrease=0.0,\n",
       "                                              min_impurity_split=None,\n",
       "                                              min_samples_leaf=1,\n",
       "                                              min_samples_split=2,\n",
       "                                              min_weight_fraction_leaf=0.0,\n",
       "                                              presort=False, random_state=None,\n",
       "                                              splitter='best'),\n",
       "             iid='warn', n_jobs=None,\n",
       "             param_grid={'max_depth': [3, 6, 9, 12, 15],\n",
       "                         'min_samples_leaf': [2, 3, 4, 5, 6, 7, 8]},\n",
       "             pre_dispatch='2*n_jobs', refit=True, return_train_score=False,\n",
       "             scoring=None, verbose=0)"
      ]
     },
     "execution_count": 110,
     "metadata": {},
     "output_type": "execute_result"
    }
   ],
   "source": [
    "grid_cv.fit(X_train, y_train)"
   ]
  },
  {
   "cell_type": "code",
   "execution_count": 111,
   "metadata": {},
   "outputs": [
    {
     "data": {
      "text/plain": [
       "{'max_depth': 6, 'min_samples_leaf': 3}"
      ]
     },
     "execution_count": 111,
     "metadata": {},
     "output_type": "execute_result"
    }
   ],
   "source": [
    "grid_cv.best_params_"
   ]
  },
  {
   "cell_type": "code",
   "execution_count": 119,
   "metadata": {},
   "outputs": [
    {
     "name": "stdout",
     "output_type": "stream",
     "text": [
      "3.954645366042257\n"
     ]
    }
   ],
   "source": [
    "y_preds = grid_cv.predict_proba(X_test)\n",
    "print(log_loss(y_test, y_preds))"
   ]
  },
  {
   "cell_type": "markdown",
   "metadata": {},
   "source": [
    "## Random Forest"
   ]
  },
  {
   "cell_type": "code",
   "execution_count": 89,
   "metadata": {},
   "outputs": [],
   "source": [
    "from sklearn.ensemble import RandomForestClassifier"
   ]
  },
  {
   "cell_type": "code",
   "execution_count": 90,
   "metadata": {},
   "outputs": [],
   "source": [
    "rf = RandomForestClassifier(n_estimators = 100, max_depth=9)"
   ]
  },
  {
   "cell_type": "code",
   "execution_count": 120,
   "metadata": {},
   "outputs": [
    {
     "data": {
      "text/plain": [
       "RandomForestClassifier(bootstrap=True, class_weight=None, criterion='gini',\n",
       "                       max_depth=None, max_features='auto', max_leaf_nodes=None,\n",
       "                       min_impurity_decrease=0.0, min_impurity_split=None,\n",
       "                       min_samples_leaf=1, min_samples_split=2,\n",
       "                       min_weight_fraction_leaf=0.0, n_estimators=1000,\n",
       "                       n_jobs=None, oob_score=False, random_state=None,\n",
       "                       verbose=0, warm_start=False)"
      ]
     },
     "execution_count": 120,
     "metadata": {},
     "output_type": "execute_result"
    }
   ],
   "source": [
    "rf.fit(X_train, y_train)"
   ]
  },
  {
   "cell_type": "code",
   "execution_count": 121,
   "metadata": {},
   "outputs": [
    {
     "name": "stdout",
     "output_type": "stream",
     "text": [
      "0.4246994545864953\n"
     ]
    }
   ],
   "source": [
    "y_preds = rf.predict_proba(X_test)\n",
    "print(log_loss(y_test, y_preds))"
   ]
  },
  {
   "cell_type": "code",
   "execution_count": 93,
   "metadata": {},
   "outputs": [],
   "source": [
    "rf = RandomForestClassifier(n_estimators=1000)\n",
    "params = {\n",
    "    \"max_depth\":[3,6,9,12,15],\n",
    "    \"min_samples_leaf\":[2,3,4,5,6,7,8]\n",
    "}\n",
    "grid_rf = GridSearchCV(rf, params, cv=5)"
   ]
  },
  {
   "cell_type": "code",
   "execution_count": 94,
   "metadata": {},
   "outputs": [
    {
     "name": "stderr",
     "output_type": "stream",
     "text": [
      "c:\\users\\grandia\\anaconda3\\envs\\data_science\\lib\\site-packages\\sklearn\\model_selection\\_search.py:813: DeprecationWarning: The default of the `iid` parameter will change from True to False in version 0.22 and will be removed in 0.24. This will change numeric results when test-set sizes are unequal.\n",
      "  DeprecationWarning)\n"
     ]
    },
    {
     "data": {
      "text/plain": [
       "GridSearchCV(cv=5, error_score='raise-deprecating',\n",
       "             estimator=RandomForestClassifier(bootstrap=True, class_weight=None,\n",
       "                                              criterion='gini', max_depth=None,\n",
       "                                              max_features='auto',\n",
       "                                              max_leaf_nodes=None,\n",
       "                                              min_impurity_decrease=0.0,\n",
       "                                              min_impurity_split=None,\n",
       "                                              min_samples_leaf=1,\n",
       "                                              min_samples_split=2,\n",
       "                                              min_weight_fraction_leaf=0.0,\n",
       "                                              n_estimators=1000, n_jobs=None,\n",
       "                                              oob_score=False,\n",
       "                                              random_state=None, verbose=0,\n",
       "                                              warm_start=False),\n",
       "             iid='warn', n_jobs=None,\n",
       "             param_grid={'max_depth': [3, 6, 9, 12, 15],\n",
       "                         'min_samples_leaf': [2, 3, 4, 5, 6, 7, 8]},\n",
       "             pre_dispatch='2*n_jobs', refit=True, return_train_score=False,\n",
       "             scoring=None, verbose=0)"
      ]
     },
     "execution_count": 94,
     "metadata": {},
     "output_type": "execute_result"
    }
   ],
   "source": [
    "grid_rf.fit(X_train, y_train)"
   ]
  },
  {
   "cell_type": "code",
   "execution_count": 95,
   "metadata": {},
   "outputs": [
    {
     "data": {
      "text/plain": [
       "{'max_depth': 6, 'min_samples_leaf': 6}"
      ]
     },
     "execution_count": 95,
     "metadata": {},
     "output_type": "execute_result"
    }
   ],
   "source": [
    "grid_rf.best_params_"
   ]
  },
  {
   "cell_type": "code",
   "execution_count": 96,
   "metadata": {},
   "outputs": [
    {
     "name": "stdout",
     "output_type": "stream",
     "text": [
      "0.3278829713734511\n"
     ]
    }
   ],
   "source": [
    "y_preds = grid_rf.predict_proba(X_test)\n",
    "print(log_loss(y_test, y_preds))"
   ]
  },
  {
   "cell_type": "markdown",
   "metadata": {},
   "source": [
    "## XGBoost"
   ]
  },
  {
   "cell_type": "code",
   "execution_count": 62,
   "metadata": {},
   "outputs": [],
   "source": [
    "import xgboost as xgb\n",
    "from sklearn.model_selection import cross_val_score"
   ]
  },
  {
   "cell_type": "code",
   "execution_count": 123,
   "metadata": {},
   "outputs": [],
   "source": [
    "X_train, X_test, y_train, y_test = train_test_split(numeric_interaction, y, test_size=0.2, stratify=y)"
   ]
  },
  {
   "cell_type": "code",
   "execution_count": 124,
   "metadata": {},
   "outputs": [],
   "source": [
    "xg = xgb.XGBClassifier(n_estimators=1000,\n",
    "                        tree_method='gpu_hist',\n",
    "                        n_jobs=4,\n",
    "                        n_gpus=1,\n",
    "                        max_depth=9,\n",
    "                        seed=1,\n",
    "                        learning_rate=0.05,\n",
    "                        subsample=0.5,\n",
    "                        colsample_bytree=0.5)"
   ]
  },
  {
   "cell_type": "code",
   "execution_count": 125,
   "metadata": {},
   "outputs": [
    {
     "name": "stdout",
     "output_type": "stream",
     "text": [
      "[0]\tvalidation_0-logloss:0.685558\n",
      "Will train until validation_0-logloss hasn't improved in 5 rounds.\n",
      "[1]\tvalidation_0-logloss:0.674423\n",
      "[2]\tvalidation_0-logloss:0.665858\n",
      "[3]\tvalidation_0-logloss:0.657676\n",
      "[4]\tvalidation_0-logloss:0.640784\n",
      "[5]\tvalidation_0-logloss:0.62804\n",
      "[6]\tvalidation_0-logloss:0.618129\n",
      "[7]\tvalidation_0-logloss:0.610511\n",
      "[8]\tvalidation_0-logloss:0.597794\n",
      "[9]\tvalidation_0-logloss:0.59686\n",
      "[10]\tvalidation_0-logloss:0.583394\n",
      "[11]\tvalidation_0-logloss:0.578165\n",
      "[12]\tvalidation_0-logloss:0.573741\n",
      "[13]\tvalidation_0-logloss:0.56663\n",
      "[14]\tvalidation_0-logloss:0.560218\n",
      "[15]\tvalidation_0-logloss:0.550279\n",
      "[16]\tvalidation_0-logloss:0.550061\n",
      "[17]\tvalidation_0-logloss:0.54497\n",
      "[18]\tvalidation_0-logloss:0.533877\n",
      "[19]\tvalidation_0-logloss:0.535371\n",
      "[20]\tvalidation_0-logloss:0.53321\n",
      "[21]\tvalidation_0-logloss:0.527865\n",
      "[22]\tvalidation_0-logloss:0.519955\n",
      "[23]\tvalidation_0-logloss:0.515059\n",
      "[24]\tvalidation_0-logloss:0.510747\n",
      "[25]\tvalidation_0-logloss:0.507419\n",
      "[26]\tvalidation_0-logloss:0.505019\n",
      "[27]\tvalidation_0-logloss:0.505344\n",
      "[28]\tvalidation_0-logloss:0.498824\n",
      "[29]\tvalidation_0-logloss:0.496319\n",
      "[30]\tvalidation_0-logloss:0.489911\n",
      "[31]\tvalidation_0-logloss:0.485964\n",
      "[32]\tvalidation_0-logloss:0.481182\n",
      "[33]\tvalidation_0-logloss:0.479594\n",
      "[34]\tvalidation_0-logloss:0.478732\n",
      "[35]\tvalidation_0-logloss:0.474991\n",
      "[36]\tvalidation_0-logloss:0.467655\n",
      "[37]\tvalidation_0-logloss:0.460569\n",
      "[38]\tvalidation_0-logloss:0.462077\n",
      "[39]\tvalidation_0-logloss:0.460428\n",
      "[40]\tvalidation_0-logloss:0.456599\n",
      "[41]\tvalidation_0-logloss:0.457073\n",
      "[42]\tvalidation_0-logloss:0.458412\n",
      "[43]\tvalidation_0-logloss:0.457907\n",
      "[44]\tvalidation_0-logloss:0.458958\n",
      "[45]\tvalidation_0-logloss:0.45269\n",
      "[46]\tvalidation_0-logloss:0.448134\n",
      "[47]\tvalidation_0-logloss:0.444696\n",
      "[48]\tvalidation_0-logloss:0.441966\n",
      "[49]\tvalidation_0-logloss:0.443766\n",
      "[50]\tvalidation_0-logloss:0.441765\n",
      "[51]\tvalidation_0-logloss:0.441783\n",
      "[52]\tvalidation_0-logloss:0.440793\n",
      "[53]\tvalidation_0-logloss:0.445045\n",
      "[54]\tvalidation_0-logloss:0.444056\n",
      "[55]\tvalidation_0-logloss:0.443828\n",
      "[56]\tvalidation_0-logloss:0.43792\n",
      "[57]\tvalidation_0-logloss:0.436313\n",
      "[58]\tvalidation_0-logloss:0.436958\n",
      "[59]\tvalidation_0-logloss:0.434962\n",
      "[60]\tvalidation_0-logloss:0.432837\n",
      "[61]\tvalidation_0-logloss:0.432258\n",
      "[62]\tvalidation_0-logloss:0.433294\n",
      "[63]\tvalidation_0-logloss:0.432543\n",
      "[64]\tvalidation_0-logloss:0.434691\n",
      "[65]\tvalidation_0-logloss:0.436699\n",
      "[66]\tvalidation_0-logloss:0.436206\n",
      "Stopping. Best iteration:\n",
      "[61]\tvalidation_0-logloss:0.432258\n",
      "\n"
     ]
    },
    {
     "data": {
      "text/plain": [
       "XGBClassifier(base_score=0.5, booster='gbtree', colsample_bylevel=1,\n",
       "              colsample_bynode=1, colsample_bytree=0.5, gamma=0,\n",
       "              learning_rate=0.05, max_delta_step=0, max_depth=9,\n",
       "              min_child_weight=1, missing=None, n_estimators=1000, n_gpus=1,\n",
       "              n_jobs=4, nthread=None, objective='binary:logistic',\n",
       "              random_state=0, reg_alpha=0, reg_lambda=1, scale_pos_weight=1,\n",
       "              seed=1, silent=None, subsample=0.5, tree_method='gpu_hist',\n",
       "              verbosity=1)"
      ]
     },
     "execution_count": 125,
     "metadata": {},
     "output_type": "execute_result"
    }
   ],
   "source": [
    "xg.fit(X_train, y_train, eval_set=[(X_test,y_test)],eval_metric=['logloss'], early_stopping_rounds=5)"
   ]
  },
  {
   "cell_type": "code",
   "execution_count": 60,
   "metadata": {},
   "outputs": [
    {
     "name": "stdout",
     "output_type": "stream",
     "text": [
      "0.22467343643721607\n"
     ]
    }
   ],
   "source": [
    "y_preds = xg.predict_proba(X_test)[:,1]\n",
    "print(log_loss(y_test, y_preds))"
   ]
  },
  {
   "cell_type": "code",
   "execution_count": 63,
   "metadata": {},
   "outputs": [
    {
     "data": {
      "text/plain": [
       "array([-0.49877289, -0.29392205, -0.2862945 , -0.5246355 , -0.45706416])"
      ]
     },
     "execution_count": 63,
     "metadata": {},
     "output_type": "execute_result"
    }
   ],
   "source": [
    "clf = xgb.XGBClassifier(n_estimators=100,\n",
    "                        tree_method='gpu_hist',\n",
    "                        n_jobs=4,\n",
    "                        n_gpus=1,\n",
    "                        max_depth=9,\n",
    "                        seed=1,\n",
    "                        learning_rate=0.05,\n",
    "                        subsample=0.5,\n",
    "                        colsample_bytree=0.5)\n",
    "\n",
    "scores = cross_val_score(clf, X, y, cv=5, scoring='neg_log_loss')\n",
    "scores"
   ]
  },
  {
   "cell_type": "code",
   "execution_count": 64,
   "metadata": {},
   "outputs": [
    {
     "data": {
      "text/plain": [
       "-0.41213781942302985"
      ]
     },
     "execution_count": 64,
     "metadata": {},
     "output_type": "execute_result"
    }
   ],
   "source": [
    "scores.mean()"
   ]
  },
  {
   "cell_type": "code",
   "execution_count": 126,
   "metadata": {},
   "outputs": [
    {
     "data": {
      "text/plain": [
       "array([-0.48532688, -0.34416411, -0.3662541 , -0.50650258, -0.41351266])"
      ]
     },
     "execution_count": 126,
     "metadata": {},
     "output_type": "execute_result"
    }
   ],
   "source": [
    "clf = xgb.XGBClassifier(n_estimators=60,\n",
    "                        tree_method='gpu_hist',\n",
    "                        n_jobs=4,\n",
    "                        n_gpus=1,\n",
    "                        max_depth=9,\n",
    "                        seed=1,\n",
    "                        learning_rate=0.05,\n",
    "                        subsample=0.5,\n",
    "                        colsample_bytree=0.5)\n",
    "scores = cross_val_score(clf, numeric_interaction, y, cv=5, scoring='neg_log_loss')\n",
    "scores"
   ]
  },
  {
   "cell_type": "code",
   "execution_count": 69,
   "metadata": {},
   "outputs": [
    {
     "data": {
      "text/plain": [
       "array([-0.51710579, -0.40306679, -0.40058918, -0.51540546, -0.48604108])"
      ]
     },
     "execution_count": 69,
     "metadata": {},
     "output_type": "execute_result"
    }
   ],
   "source": [
    "clf = xgb.XGBClassifier(n_estimators=30,\n",
    "                        tree_method='gpu_hist',\n",
    "                        n_jobs=4,\n",
    "                        n_gpus=1,\n",
    "                        max_depth=12,\n",
    "                        seed=1,\n",
    "                        learning_rate=0.05,\n",
    "                        subsample=0.9,\n",
    "                        colsample_bytree=0.5)\n",
    "scores = cross_val_score(clf, X_interaction, y, cv=5, scoring='neg_log_loss')\n",
    "scores"
   ]
  },
  {
   "cell_type": "markdown",
   "metadata": {},
   "source": [
    "## Current top model"
   ]
  },
  {
   "cell_type": "code",
   "execution_count": null,
   "metadata": {},
   "outputs": [],
   "source": [
    "xg2 = xgb.XGBClassifier(n_estimators=100,\n",
    "                        tree_method='gpu_hist',\n",
    "                        n_jobs=4,\n",
    "                        n_gpus=1,\n",
    "                        max_depth=9,\n",
    "                        seed=1,\n",
    "                        learning_rate=0.05,\n",
    "                        subsample=0.5,\n",
    "                        colsample_bytree=0.5)\n",
    "\n",
    "# use new_cat_cols and new_num_cols, onehot, minmaxscaler\n",
    "# fit on X and Y"
   ]
  },
  {
   "cell_type": "code",
   "execution_count": null,
   "metadata": {},
   "outputs": [],
   "source": []
  },
  {
   "cell_type": "code",
   "execution_count": null,
   "metadata": {},
   "outputs": [],
   "source": []
  },
  {
   "cell_type": "code",
   "execution_count": 74,
   "metadata": {},
   "outputs": [],
   "source": [
    "xg2 = xgb.XGBClassifier(n_estimators=100,\n",
    "                        tree_method='gpu_hist',\n",
    "                        n_jobs=4,\n",
    "                        n_gpus=1,\n",
    "                        max_depth=9,\n",
    "                        seed=1,\n",
    "                        learning_rate=0.05,\n",
    "                        subsample=0.5,\n",
    "                        colsample_bytree=0.5)"
   ]
  },
  {
   "cell_type": "code",
   "execution_count": 75,
   "metadata": {},
   "outputs": [
    {
     "data": {
      "text/plain": [
       "XGBClassifier(base_score=0.5, booster='gbtree', colsample_bylevel=1,\n",
       "              colsample_bynode=1, colsample_bytree=0.5, gamma=0,\n",
       "              learning_rate=0.05, max_delta_step=0, max_depth=9,\n",
       "              min_child_weight=1, missing=None, n_estimators=100, n_gpus=1,\n",
       "              n_jobs=4, nthread=None, objective='binary:logistic',\n",
       "              random_state=0, reg_alpha=0, reg_lambda=1, scale_pos_weight=1,\n",
       "              seed=1, silent=None, subsample=0.5, tree_method='gpu_hist',\n",
       "              verbosity=1)"
      ]
     },
     "execution_count": 75,
     "metadata": {},
     "output_type": "execute_result"
    }
   ],
   "source": [
    "xg2.fit(X, y)"
   ]
  },
  {
   "cell_type": "code",
   "execution_count": 76,
   "metadata": {},
   "outputs": [],
   "source": [
    "predicts = xg2.predict_proba(X_pred_scaled)[:,1]"
   ]
  },
  {
   "cell_type": "code",
   "execution_count": 77,
   "metadata": {},
   "outputs": [
    {
     "data": {
      "text/plain": [
       "array([0.42444733, 0.09744233, 0.92069745, 0.1841056 , 0.9534574 ,\n",
       "       0.04508975, 0.17429844, 0.7543481 , 0.55736756, 0.15916334,\n",
       "       0.17148606, 0.48447058, 0.3689239 , 0.89207685, 0.1436992 ,\n",
       "       0.06137694, 0.03895934, 0.17027284, 0.8144459 , 0.03826162,\n",
       "       0.97219527, 0.10471484, 0.11924604, 0.07997429, 0.43903077,\n",
       "       0.89895415, 0.3677992 , 0.22430696, 0.5659143 , 0.03754222,\n",
       "       0.9137204 , 0.4376304 , 0.64825314, 0.26243648, 0.36007968,\n",
       "       0.10022993, 0.517107  , 0.20768835, 0.33744097, 0.13466638,\n",
       "       0.93112403, 0.0807114 , 0.9427654 , 0.1000771 , 0.9527496 ,\n",
       "       0.11667621, 0.07427834, 0.2659645 , 0.26788476, 0.71760595,\n",
       "       0.525817  , 0.03322913, 0.95922226, 0.10370567, 0.40682447,\n",
       "       0.05726923, 0.8089874 , 0.1360619 , 0.15968548, 0.64035773,\n",
       "       0.06006669, 0.9350121 , 0.23840338, 0.927897  , 0.22295949,\n",
       "       0.89878863, 0.877822  , 0.59225506, 0.92804736, 0.7729987 ,\n",
       "       0.10267598, 0.96606463, 0.9627954 , 0.96691954, 0.9468859 ,\n",
       "       0.98263896, 0.8594303 , 0.46439025, 0.28146568, 0.75183094,\n",
       "       0.68169   , 0.07961639, 0.21690047, 0.64878815, 0.50947547,\n",
       "       0.10674731, 0.802856  , 0.25141516, 0.34715667, 0.1627052 ],\n",
       "      dtype=float32)"
      ]
     },
     "execution_count": 77,
     "metadata": {},
     "output_type": "execute_result"
    }
   ],
   "source": [
    "predicts"
   ]
  },
  {
   "cell_type": "code",
   "execution_count": 78,
   "metadata": {},
   "outputs": [],
   "source": [
    "import csv\n",
    "with open('test.csv', 'w', newline='') as writeFile:\n",
    "    writer = csv.writer(writeFile)\n",
    "    writer.writerow([\"patient_id\",\"heart_disease_present\"])\n",
    "    for i in range(len(predicts)):\n",
    "        patient_id = df_test.loc[i, \"patient_id\"]\n",
    "        pred = predicts[i]\n",
    "        writer.writerow([patient_id, pred])"
   ]
  },
  {
   "cell_type": "markdown",
   "metadata": {},
   "source": [
    "## One Hot Encode the categories"
   ]
  },
  {
   "cell_type": "code",
   "execution_count": 49,
   "metadata": {},
   "outputs": [],
   "source": [
    "from sklearn.preprocessing import OneHotEncoder"
   ]
  },
  {
   "cell_type": "code",
   "execution_count": 50,
   "metadata": {},
   "outputs": [],
   "source": [
    "df_train_onehot = df_train.copy()"
   ]
  },
  {
   "cell_type": "code",
   "execution_count": 51,
   "metadata": {},
   "outputs": [],
   "source": [
    "X_preds_onehot = X_preds.copy()"
   ]
  },
  {
   "cell_type": "code",
   "execution_count": 52,
   "metadata": {},
   "outputs": [],
   "source": [
    "for col in category_cols:\n",
    "    #encoder = OneHotEncoder(sparse=False, drop='first', categories='auto')\n",
    "    encoder = OneHotEncoder(sparse=False, categories='auto')\n",
    "    encoder.fit(np.array(df_train_onehot[col]).reshape(-1,1))\n",
    "\n",
    "    feature_names = []\n",
    "    for val in encoder.categories_[0]:\n",
    "        feature_name = col + \"_\" + str(val)\n",
    "        feature_names.append(feature_name)\n",
    "    #feature_names.pop(0)    \n",
    "\n",
    "    onehot_cols = pd.DataFrame(encoder.transform(np.array(df_train_onehot[col]).reshape(-1,1)), columns=feature_names, index=df_train_onehot.index)\n",
    "    df_train_onehot.drop([col], axis=1, inplace=True)\n",
    "    df_train_onehot = pd.concat([df_train_onehot, onehot_cols], axis=1)\n",
    "\n",
    "    onehot_cols_test = pd.DataFrame(encoder.transform(np.array(X_preds_onehot[col]).reshape(-1,1)), columns=feature_names, index=X_preds_onehot.index)\n",
    "    X_preds_onehot.drop([col], axis=1, inplace=True)\n",
    "    X_preds_onehot = pd.concat([X_preds_onehot, onehot_cols_test], axis=1)"
   ]
  },
  {
   "cell_type": "markdown",
   "metadata": {},
   "source": [
    "### treat slope and num vessels as categorical (onehot)"
   ]
  },
  {
   "cell_type": "code",
   "execution_count": 53,
   "metadata": {},
   "outputs": [],
   "source": [
    "new_cat_cols = ['slope_of_peak_exercise_st_segment', 'num_major_vessels']\n",
    "for col in new_cat_cols:\n",
    "    #encoder = OneHotEncoder(sparse=False, drop='first', categories='auto')\n",
    "    encoder = OneHotEncoder(sparse=False, categories='auto')\n",
    "    encoder.fit(np.array(df_train_onehot[col]).reshape(-1,1))\n",
    "\n",
    "    feature_names = []\n",
    "    for val in encoder.categories_[0]:\n",
    "        feature_name = col + \"_\" + str(val)\n",
    "        feature_names.append(feature_name)\n",
    "    #feature_names.pop(0)    \n",
    "\n",
    "    onehot_cols = pd.DataFrame(encoder.transform(np.array(df_train_onehot[col]).reshape(-1,1)), columns=feature_names, index=df_train_onehot.index)\n",
    "    df_train_onehot.drop([col], axis=1, inplace=True)\n",
    "    df_train_onehot = pd.concat([df_train_onehot, onehot_cols], axis=1)\n",
    "\n",
    "    onehot_cols_test = pd.DataFrame(encoder.transform(np.array(X_preds_onehot[col]).reshape(-1,1)), columns=feature_names, index=X_preds_onehot.index)\n",
    "    X_preds_onehot.drop([col], axis=1, inplace=True)\n",
    "    X_preds_onehot = pd.concat([X_preds_onehot, onehot_cols_test], axis=1)"
   ]
  },
  {
   "cell_type": "code",
   "execution_count": 54,
   "metadata": {},
   "outputs": [],
   "source": [
    "X = df_train_onehot.drop(['patient_id','heart_disease_present'], axis=1)\n",
    "y = df_train_onehot['heart_disease_present']"
   ]
  },
  {
   "cell_type": "code",
   "execution_count": 55,
   "metadata": {},
   "outputs": [],
   "source": [
    "X_train, X_test, y_train, y_test = train_test_split(X, y, test_size=0.2, stratify=y)"
   ]
  },
  {
   "cell_type": "markdown",
   "metadata": {},
   "source": [
    "## Scale the numeric"
   ]
  },
  {
   "cell_type": "code",
   "execution_count": 56,
   "metadata": {},
   "outputs": [],
   "source": [
    "from sklearn.preprocessing import StandardScaler, Normalizer, MinMaxScaler"
   ]
  },
  {
   "cell_type": "code",
   "execution_count": 49,
   "metadata": {},
   "outputs": [
    {
     "data": {
      "text/plain": [
       "['slope_of_peak_exercise_st_segment',\n",
       " 'resting_blood_pressure',\n",
       " 'num_major_vessels',\n",
       " 'serum_cholesterol_mg_per_dl',\n",
       " 'oldpeak_eq_st_depression',\n",
       " 'age',\n",
       " 'max_heart_rate_achieved']"
      ]
     },
     "execution_count": 49,
     "metadata": {},
     "output_type": "execute_result"
    }
   ],
   "source": [
    "numerical_cols"
   ]
  },
  {
   "cell_type": "code",
   "execution_count": 57,
   "metadata": {},
   "outputs": [],
   "source": [
    "new_num_cols = [\n",
    " 'resting_blood_pressure',\n",
    " 'serum_cholesterol_mg_per_dl',\n",
    " 'oldpeak_eq_st_depression',\n",
    " 'age',\n",
    " 'max_heart_rate_achieved']"
   ]
  },
  {
   "cell_type": "code",
   "execution_count": 58,
   "metadata": {},
   "outputs": [],
   "source": [
    "df_scaled = df_train_onehot.copy()\n",
    "X_pred_scaled = X_preds_onehot.copy()"
   ]
  },
  {
   "cell_type": "code",
   "execution_count": 107,
   "metadata": {},
   "outputs": [
    {
     "ename": "KeyError",
     "evalue": "'slope_of_peak_exercise_st_segment'",
     "output_type": "error",
     "traceback": [
      "\u001b[1;31m---------------------------------------------------------------------------\u001b[0m",
      "\u001b[1;31mKeyError\u001b[0m                                  Traceback (most recent call last)",
      "\u001b[1;32mc:\\users\\grandia\\anaconda3\\envs\\data_science\\lib\\site-packages\\pandas\\core\\indexes\\base.py\u001b[0m in \u001b[0;36mget_loc\u001b[1;34m(self, key, method, tolerance)\u001b[0m\n\u001b[0;32m   3077\u001b[0m             \u001b[1;32mtry\u001b[0m\u001b[1;33m:\u001b[0m\u001b[1;33m\u001b[0m\u001b[1;33m\u001b[0m\u001b[0m\n\u001b[1;32m-> 3078\u001b[1;33m                 \u001b[1;32mreturn\u001b[0m \u001b[0mself\u001b[0m\u001b[1;33m.\u001b[0m\u001b[0m_engine\u001b[0m\u001b[1;33m.\u001b[0m\u001b[0mget_loc\u001b[0m\u001b[1;33m(\u001b[0m\u001b[0mkey\u001b[0m\u001b[1;33m)\u001b[0m\u001b[1;33m\u001b[0m\u001b[1;33m\u001b[0m\u001b[0m\n\u001b[0m\u001b[0;32m   3079\u001b[0m             \u001b[1;32mexcept\u001b[0m \u001b[0mKeyError\u001b[0m\u001b[1;33m:\u001b[0m\u001b[1;33m\u001b[0m\u001b[1;33m\u001b[0m\u001b[0m\n",
      "\u001b[1;32mpandas\\_libs\\index.pyx\u001b[0m in \u001b[0;36mpandas._libs.index.IndexEngine.get_loc\u001b[1;34m()\u001b[0m\n",
      "\u001b[1;32mpandas\\_libs\\index.pyx\u001b[0m in \u001b[0;36mpandas._libs.index.IndexEngine.get_loc\u001b[1;34m()\u001b[0m\n",
      "\u001b[1;32mpandas\\_libs\\hashtable_class_helper.pxi\u001b[0m in \u001b[0;36mpandas._libs.hashtable.PyObjectHashTable.get_item\u001b[1;34m()\u001b[0m\n",
      "\u001b[1;32mpandas\\_libs\\hashtable_class_helper.pxi\u001b[0m in \u001b[0;36mpandas._libs.hashtable.PyObjectHashTable.get_item\u001b[1;34m()\u001b[0m\n",
      "\u001b[1;31mKeyError\u001b[0m: 'slope_of_peak_exercise_st_segment'",
      "\nDuring handling of the above exception, another exception occurred:\n",
      "\u001b[1;31mKeyError\u001b[0m                                  Traceback (most recent call last)",
      "\u001b[1;32m<ipython-input-107-15deed7e9431>\u001b[0m in \u001b[0;36m<module>\u001b[1;34m\u001b[0m\n\u001b[0;32m      1\u001b[0m \u001b[1;32mfor\u001b[0m \u001b[0mcol\u001b[0m \u001b[1;32min\u001b[0m \u001b[0mnumerical_cols\u001b[0m\u001b[1;33m:\u001b[0m\u001b[1;33m\u001b[0m\u001b[1;33m\u001b[0m\u001b[0m\n\u001b[0;32m      2\u001b[0m     \u001b[0mscaler\u001b[0m \u001b[1;33m=\u001b[0m \u001b[0mStandardScaler\u001b[0m\u001b[1;33m(\u001b[0m\u001b[1;33m)\u001b[0m\u001b[1;33m\u001b[0m\u001b[1;33m\u001b[0m\u001b[0m\n\u001b[1;32m----> 3\u001b[1;33m     \u001b[0mdf_scaled\u001b[0m\u001b[1;33m[\u001b[0m\u001b[0mcol\u001b[0m\u001b[1;33m]\u001b[0m \u001b[1;33m=\u001b[0m \u001b[0mscaler\u001b[0m\u001b[1;33m.\u001b[0m\u001b[0mfit_transform\u001b[0m\u001b[1;33m(\u001b[0m\u001b[0mnp\u001b[0m\u001b[1;33m.\u001b[0m\u001b[0marray\u001b[0m\u001b[1;33m(\u001b[0m\u001b[0mdf_scaled\u001b[0m\u001b[1;33m[\u001b[0m\u001b[0mcol\u001b[0m\u001b[1;33m]\u001b[0m\u001b[1;33m)\u001b[0m\u001b[1;33m.\u001b[0m\u001b[0mreshape\u001b[0m\u001b[1;33m(\u001b[0m\u001b[1;33m-\u001b[0m\u001b[1;36m1\u001b[0m\u001b[1;33m,\u001b[0m\u001b[1;36m1\u001b[0m\u001b[1;33m)\u001b[0m\u001b[1;33m)\u001b[0m\u001b[1;33m\u001b[0m\u001b[1;33m\u001b[0m\u001b[0m\n\u001b[0m\u001b[0;32m      4\u001b[0m     \u001b[0mX_pred_scaled\u001b[0m\u001b[1;33m[\u001b[0m\u001b[0mcol\u001b[0m\u001b[1;33m]\u001b[0m \u001b[1;33m=\u001b[0m \u001b[0mscaler\u001b[0m\u001b[1;33m.\u001b[0m\u001b[0mtransform\u001b[0m\u001b[1;33m(\u001b[0m\u001b[0mnp\u001b[0m\u001b[1;33m.\u001b[0m\u001b[0marray\u001b[0m\u001b[1;33m(\u001b[0m\u001b[0mX_pred_scaled\u001b[0m\u001b[1;33m[\u001b[0m\u001b[0mcol\u001b[0m\u001b[1;33m]\u001b[0m\u001b[1;33m)\u001b[0m\u001b[1;33m.\u001b[0m\u001b[0mreshape\u001b[0m\u001b[1;33m(\u001b[0m\u001b[1;33m-\u001b[0m\u001b[1;36m1\u001b[0m\u001b[1;33m,\u001b[0m\u001b[1;36m1\u001b[0m\u001b[1;33m)\u001b[0m\u001b[1;33m)\u001b[0m\u001b[1;33m\u001b[0m\u001b[1;33m\u001b[0m\u001b[0m\n",
      "\u001b[1;32mc:\\users\\grandia\\anaconda3\\envs\\data_science\\lib\\site-packages\\pandas\\core\\frame.py\u001b[0m in \u001b[0;36m__getitem__\u001b[1;34m(self, key)\u001b[0m\n\u001b[0;32m   2686\u001b[0m             \u001b[1;32mreturn\u001b[0m \u001b[0mself\u001b[0m\u001b[1;33m.\u001b[0m\u001b[0m_getitem_multilevel\u001b[0m\u001b[1;33m(\u001b[0m\u001b[0mkey\u001b[0m\u001b[1;33m)\u001b[0m\u001b[1;33m\u001b[0m\u001b[1;33m\u001b[0m\u001b[0m\n\u001b[0;32m   2687\u001b[0m         \u001b[1;32melse\u001b[0m\u001b[1;33m:\u001b[0m\u001b[1;33m\u001b[0m\u001b[1;33m\u001b[0m\u001b[0m\n\u001b[1;32m-> 2688\u001b[1;33m             \u001b[1;32mreturn\u001b[0m \u001b[0mself\u001b[0m\u001b[1;33m.\u001b[0m\u001b[0m_getitem_column\u001b[0m\u001b[1;33m(\u001b[0m\u001b[0mkey\u001b[0m\u001b[1;33m)\u001b[0m\u001b[1;33m\u001b[0m\u001b[1;33m\u001b[0m\u001b[0m\n\u001b[0m\u001b[0;32m   2689\u001b[0m \u001b[1;33m\u001b[0m\u001b[0m\n\u001b[0;32m   2690\u001b[0m     \u001b[1;32mdef\u001b[0m \u001b[0m_getitem_column\u001b[0m\u001b[1;33m(\u001b[0m\u001b[0mself\u001b[0m\u001b[1;33m,\u001b[0m \u001b[0mkey\u001b[0m\u001b[1;33m)\u001b[0m\u001b[1;33m:\u001b[0m\u001b[1;33m\u001b[0m\u001b[1;33m\u001b[0m\u001b[0m\n",
      "\u001b[1;32mc:\\users\\grandia\\anaconda3\\envs\\data_science\\lib\\site-packages\\pandas\\core\\frame.py\u001b[0m in \u001b[0;36m_getitem_column\u001b[1;34m(self, key)\u001b[0m\n\u001b[0;32m   2693\u001b[0m         \u001b[1;31m# get column\u001b[0m\u001b[1;33m\u001b[0m\u001b[1;33m\u001b[0m\u001b[1;33m\u001b[0m\u001b[0m\n\u001b[0;32m   2694\u001b[0m         \u001b[1;32mif\u001b[0m \u001b[0mself\u001b[0m\u001b[1;33m.\u001b[0m\u001b[0mcolumns\u001b[0m\u001b[1;33m.\u001b[0m\u001b[0mis_unique\u001b[0m\u001b[1;33m:\u001b[0m\u001b[1;33m\u001b[0m\u001b[1;33m\u001b[0m\u001b[0m\n\u001b[1;32m-> 2695\u001b[1;33m             \u001b[1;32mreturn\u001b[0m \u001b[0mself\u001b[0m\u001b[1;33m.\u001b[0m\u001b[0m_get_item_cache\u001b[0m\u001b[1;33m(\u001b[0m\u001b[0mkey\u001b[0m\u001b[1;33m)\u001b[0m\u001b[1;33m\u001b[0m\u001b[1;33m\u001b[0m\u001b[0m\n\u001b[0m\u001b[0;32m   2696\u001b[0m \u001b[1;33m\u001b[0m\u001b[0m\n\u001b[0;32m   2697\u001b[0m         \u001b[1;31m# duplicate columns & possible reduce dimensionality\u001b[0m\u001b[1;33m\u001b[0m\u001b[1;33m\u001b[0m\u001b[1;33m\u001b[0m\u001b[0m\n",
      "\u001b[1;32mc:\\users\\grandia\\anaconda3\\envs\\data_science\\lib\\site-packages\\pandas\\core\\generic.py\u001b[0m in \u001b[0;36m_get_item_cache\u001b[1;34m(self, item)\u001b[0m\n\u001b[0;32m   2487\u001b[0m         \u001b[0mres\u001b[0m \u001b[1;33m=\u001b[0m \u001b[0mcache\u001b[0m\u001b[1;33m.\u001b[0m\u001b[0mget\u001b[0m\u001b[1;33m(\u001b[0m\u001b[0mitem\u001b[0m\u001b[1;33m)\u001b[0m\u001b[1;33m\u001b[0m\u001b[1;33m\u001b[0m\u001b[0m\n\u001b[0;32m   2488\u001b[0m         \u001b[1;32mif\u001b[0m \u001b[0mres\u001b[0m \u001b[1;32mis\u001b[0m \u001b[1;32mNone\u001b[0m\u001b[1;33m:\u001b[0m\u001b[1;33m\u001b[0m\u001b[1;33m\u001b[0m\u001b[0m\n\u001b[1;32m-> 2489\u001b[1;33m             \u001b[0mvalues\u001b[0m \u001b[1;33m=\u001b[0m \u001b[0mself\u001b[0m\u001b[1;33m.\u001b[0m\u001b[0m_data\u001b[0m\u001b[1;33m.\u001b[0m\u001b[0mget\u001b[0m\u001b[1;33m(\u001b[0m\u001b[0mitem\u001b[0m\u001b[1;33m)\u001b[0m\u001b[1;33m\u001b[0m\u001b[1;33m\u001b[0m\u001b[0m\n\u001b[0m\u001b[0;32m   2490\u001b[0m             \u001b[0mres\u001b[0m \u001b[1;33m=\u001b[0m \u001b[0mself\u001b[0m\u001b[1;33m.\u001b[0m\u001b[0m_box_item_values\u001b[0m\u001b[1;33m(\u001b[0m\u001b[0mitem\u001b[0m\u001b[1;33m,\u001b[0m \u001b[0mvalues\u001b[0m\u001b[1;33m)\u001b[0m\u001b[1;33m\u001b[0m\u001b[1;33m\u001b[0m\u001b[0m\n\u001b[0;32m   2491\u001b[0m             \u001b[0mcache\u001b[0m\u001b[1;33m[\u001b[0m\u001b[0mitem\u001b[0m\u001b[1;33m]\u001b[0m \u001b[1;33m=\u001b[0m \u001b[0mres\u001b[0m\u001b[1;33m\u001b[0m\u001b[1;33m\u001b[0m\u001b[0m\n",
      "\u001b[1;32mc:\\users\\grandia\\anaconda3\\envs\\data_science\\lib\\site-packages\\pandas\\core\\internals.py\u001b[0m in \u001b[0;36mget\u001b[1;34m(self, item, fastpath)\u001b[0m\n\u001b[0;32m   4113\u001b[0m \u001b[1;33m\u001b[0m\u001b[0m\n\u001b[0;32m   4114\u001b[0m             \u001b[1;32mif\u001b[0m \u001b[1;32mnot\u001b[0m \u001b[0misna\u001b[0m\u001b[1;33m(\u001b[0m\u001b[0mitem\u001b[0m\u001b[1;33m)\u001b[0m\u001b[1;33m:\u001b[0m\u001b[1;33m\u001b[0m\u001b[1;33m\u001b[0m\u001b[0m\n\u001b[1;32m-> 4115\u001b[1;33m                 \u001b[0mloc\u001b[0m \u001b[1;33m=\u001b[0m \u001b[0mself\u001b[0m\u001b[1;33m.\u001b[0m\u001b[0mitems\u001b[0m\u001b[1;33m.\u001b[0m\u001b[0mget_loc\u001b[0m\u001b[1;33m(\u001b[0m\u001b[0mitem\u001b[0m\u001b[1;33m)\u001b[0m\u001b[1;33m\u001b[0m\u001b[1;33m\u001b[0m\u001b[0m\n\u001b[0m\u001b[0;32m   4116\u001b[0m             \u001b[1;32melse\u001b[0m\u001b[1;33m:\u001b[0m\u001b[1;33m\u001b[0m\u001b[1;33m\u001b[0m\u001b[0m\n\u001b[0;32m   4117\u001b[0m                 \u001b[0mindexer\u001b[0m \u001b[1;33m=\u001b[0m \u001b[0mnp\u001b[0m\u001b[1;33m.\u001b[0m\u001b[0marange\u001b[0m\u001b[1;33m(\u001b[0m\u001b[0mlen\u001b[0m\u001b[1;33m(\u001b[0m\u001b[0mself\u001b[0m\u001b[1;33m.\u001b[0m\u001b[0mitems\u001b[0m\u001b[1;33m)\u001b[0m\u001b[1;33m)\u001b[0m\u001b[1;33m[\u001b[0m\u001b[0misna\u001b[0m\u001b[1;33m(\u001b[0m\u001b[0mself\u001b[0m\u001b[1;33m.\u001b[0m\u001b[0mitems\u001b[0m\u001b[1;33m)\u001b[0m\u001b[1;33m]\u001b[0m\u001b[1;33m\u001b[0m\u001b[1;33m\u001b[0m\u001b[0m\n",
      "\u001b[1;32mc:\\users\\grandia\\anaconda3\\envs\\data_science\\lib\\site-packages\\pandas\\core\\indexes\\base.py\u001b[0m in \u001b[0;36mget_loc\u001b[1;34m(self, key, method, tolerance)\u001b[0m\n\u001b[0;32m   3078\u001b[0m                 \u001b[1;32mreturn\u001b[0m \u001b[0mself\u001b[0m\u001b[1;33m.\u001b[0m\u001b[0m_engine\u001b[0m\u001b[1;33m.\u001b[0m\u001b[0mget_loc\u001b[0m\u001b[1;33m(\u001b[0m\u001b[0mkey\u001b[0m\u001b[1;33m)\u001b[0m\u001b[1;33m\u001b[0m\u001b[1;33m\u001b[0m\u001b[0m\n\u001b[0;32m   3079\u001b[0m             \u001b[1;32mexcept\u001b[0m \u001b[0mKeyError\u001b[0m\u001b[1;33m:\u001b[0m\u001b[1;33m\u001b[0m\u001b[1;33m\u001b[0m\u001b[0m\n\u001b[1;32m-> 3080\u001b[1;33m                 \u001b[1;32mreturn\u001b[0m \u001b[0mself\u001b[0m\u001b[1;33m.\u001b[0m\u001b[0m_engine\u001b[0m\u001b[1;33m.\u001b[0m\u001b[0mget_loc\u001b[0m\u001b[1;33m(\u001b[0m\u001b[0mself\u001b[0m\u001b[1;33m.\u001b[0m\u001b[0m_maybe_cast_indexer\u001b[0m\u001b[1;33m(\u001b[0m\u001b[0mkey\u001b[0m\u001b[1;33m)\u001b[0m\u001b[1;33m)\u001b[0m\u001b[1;33m\u001b[0m\u001b[1;33m\u001b[0m\u001b[0m\n\u001b[0m\u001b[0;32m   3081\u001b[0m \u001b[1;33m\u001b[0m\u001b[0m\n\u001b[0;32m   3082\u001b[0m         \u001b[0mindexer\u001b[0m \u001b[1;33m=\u001b[0m \u001b[0mself\u001b[0m\u001b[1;33m.\u001b[0m\u001b[0mget_indexer\u001b[0m\u001b[1;33m(\u001b[0m\u001b[1;33m[\u001b[0m\u001b[0mkey\u001b[0m\u001b[1;33m]\u001b[0m\u001b[1;33m,\u001b[0m \u001b[0mmethod\u001b[0m\u001b[1;33m=\u001b[0m\u001b[0mmethod\u001b[0m\u001b[1;33m,\u001b[0m \u001b[0mtolerance\u001b[0m\u001b[1;33m=\u001b[0m\u001b[0mtolerance\u001b[0m\u001b[1;33m)\u001b[0m\u001b[1;33m\u001b[0m\u001b[1;33m\u001b[0m\u001b[0m\n",
      "\u001b[1;32mpandas\\_libs\\index.pyx\u001b[0m in \u001b[0;36mpandas._libs.index.IndexEngine.get_loc\u001b[1;34m()\u001b[0m\n",
      "\u001b[1;32mpandas\\_libs\\index.pyx\u001b[0m in \u001b[0;36mpandas._libs.index.IndexEngine.get_loc\u001b[1;34m()\u001b[0m\n",
      "\u001b[1;32mpandas\\_libs\\hashtable_class_helper.pxi\u001b[0m in \u001b[0;36mpandas._libs.hashtable.PyObjectHashTable.get_item\u001b[1;34m()\u001b[0m\n",
      "\u001b[1;32mpandas\\_libs\\hashtable_class_helper.pxi\u001b[0m in \u001b[0;36mpandas._libs.hashtable.PyObjectHashTable.get_item\u001b[1;34m()\u001b[0m\n",
      "\u001b[1;31mKeyError\u001b[0m: 'slope_of_peak_exercise_st_segment'"
     ]
    }
   ],
   "source": [
    "for col in numerical_cols:\n",
    "    scaler = StandardScaler()\n",
    "    df_scaled[col] = scaler.fit_transform(np.array(df_scaled[col]).reshape(-1,1))\n",
    "    X_pred_scaled[col] = scaler.transform(np.array(X_pred_scaled[col]).reshape(-1,1))"
   ]
  },
  {
   "cell_type": "code",
   "execution_count": 59,
   "metadata": {},
   "outputs": [],
   "source": [
    "for col in new_num_cols:\n",
    "    scaler = MinMaxScaler()\n",
    "    df_scaled[col] = scaler.fit_transform(np.array(df_scaled[col]).reshape(-1,1))\n",
    "    X_pred_scaled[col] = scaler.transform(np.array(X_pred_scaled[col]).reshape(-1,1))"
   ]
  },
  {
   "cell_type": "code",
   "execution_count": 60,
   "metadata": {},
   "outputs": [],
   "source": [
    "X = df_scaled.drop(['patient_id','heart_disease_present'], axis=1)\n",
    "y = df_scaled['heart_disease_present']"
   ]
  },
  {
   "cell_type": "code",
   "execution_count": 68,
   "metadata": {},
   "outputs": [],
   "source": []
  },
  {
   "cell_type": "markdown",
   "metadata": {},
   "source": [
    "## add interaction"
   ]
  },
  {
   "cell_type": "code",
   "execution_count": 54,
   "metadata": {},
   "outputs": [],
   "source": [
    "from sklearn.preprocessing import PolynomialFeatures"
   ]
  },
  {
   "cell_type": "code",
   "execution_count": 55,
   "metadata": {},
   "outputs": [],
   "source": [
    "interaction = PolynomialFeatures(degree=2, interaction_only=True, include_bias = False)"
   ]
  },
  {
   "cell_type": "code",
   "execution_count": 92,
   "metadata": {},
   "outputs": [
    {
     "data": {
      "text/plain": [
       "(180, 5)"
      ]
     },
     "execution_count": 92,
     "metadata": {},
     "output_type": "execute_result"
    }
   ],
   "source": [
    "X[new_num_cols].shape"
   ]
  },
  {
   "cell_type": "code",
   "execution_count": 90,
   "metadata": {},
   "outputs": [],
   "source": [
    "X_interaction = interaction.fit_transform(X[new_num_cols])"
   ]
  },
  {
   "cell_type": "code",
   "execution_count": 104,
   "metadata": {},
   "outputs": [],
   "source": [
    "numeric_interaction = pd.concat([X.drop(new_num_cols,axis=1), pd.DataFrame(X_interaction)], axis=1)"
   ]
  },
  {
   "cell_type": "code",
   "execution_count": 80,
   "metadata": {},
   "outputs": [
    {
     "data": {
      "text/html": [
       "<div>\n",
       "<style scoped>\n",
       "    .dataframe tbody tr th:only-of-type {\n",
       "        vertical-align: middle;\n",
       "    }\n",
       "\n",
       "    .dataframe tbody tr th {\n",
       "        vertical-align: top;\n",
       "    }\n",
       "\n",
       "    .dataframe thead th {\n",
       "        text-align: right;\n",
       "    }\n",
       "</style>\n",
       "<table border=\"1\" class=\"dataframe\">\n",
       "  <thead>\n",
       "    <tr style=\"text-align: right;\">\n",
       "      <th></th>\n",
       "      <th>resting_blood_pressure</th>\n",
       "      <th>serum_cholesterol_mg_per_dl</th>\n",
       "      <th>oldpeak_eq_st_depression</th>\n",
       "      <th>age</th>\n",
       "      <th>max_heart_rate_achieved</th>\n",
       "    </tr>\n",
       "  </thead>\n",
       "  <tbody>\n",
       "    <tr>\n",
       "      <th>0</th>\n",
       "      <td>128</td>\n",
       "      <td>308</td>\n",
       "      <td>0.0</td>\n",
       "      <td>45</td>\n",
       "      <td>170</td>\n",
       "    </tr>\n",
       "    <tr>\n",
       "      <th>1</th>\n",
       "      <td>110</td>\n",
       "      <td>214</td>\n",
       "      <td>1.6</td>\n",
       "      <td>54</td>\n",
       "      <td>158</td>\n",
       "    </tr>\n",
       "    <tr>\n",
       "      <th>2</th>\n",
       "      <td>125</td>\n",
       "      <td>304</td>\n",
       "      <td>0.0</td>\n",
       "      <td>77</td>\n",
       "      <td>162</td>\n",
       "    </tr>\n",
       "    <tr>\n",
       "      <th>3</th>\n",
       "      <td>152</td>\n",
       "      <td>223</td>\n",
       "      <td>0.0</td>\n",
       "      <td>40</td>\n",
       "      <td>181</td>\n",
       "    </tr>\n",
       "    <tr>\n",
       "      <th>4</th>\n",
       "      <td>178</td>\n",
       "      <td>270</td>\n",
       "      <td>4.2</td>\n",
       "      <td>59</td>\n",
       "      <td>145</td>\n",
       "    </tr>\n",
       "    <tr>\n",
       "      <th>5</th>\n",
       "      <td>130</td>\n",
       "      <td>180</td>\n",
       "      <td>0.0</td>\n",
       "      <td>42</td>\n",
       "      <td>150</td>\n",
       "    </tr>\n",
       "    <tr>\n",
       "      <th>6</th>\n",
       "      <td>150</td>\n",
       "      <td>258</td>\n",
       "      <td>2.6</td>\n",
       "      <td>60</td>\n",
       "      <td>157</td>\n",
       "    </tr>\n",
       "    <tr>\n",
       "      <th>7</th>\n",
       "      <td>150</td>\n",
       "      <td>276</td>\n",
       "      <td>0.6</td>\n",
       "      <td>57</td>\n",
       "      <td>112</td>\n",
       "    </tr>\n",
       "    <tr>\n",
       "      <th>8</th>\n",
       "      <td>170</td>\n",
       "      <td>326</td>\n",
       "      <td>3.4</td>\n",
       "      <td>59</td>\n",
       "      <td>140</td>\n",
       "    </tr>\n",
       "    <tr>\n",
       "      <th>9</th>\n",
       "      <td>120</td>\n",
       "      <td>219</td>\n",
       "      <td>1.6</td>\n",
       "      <td>50</td>\n",
       "      <td>158</td>\n",
       "    </tr>\n",
       "    <tr>\n",
       "      <th>10</th>\n",
       "      <td>120</td>\n",
       "      <td>302</td>\n",
       "      <td>0.4</td>\n",
       "      <td>66</td>\n",
       "      <td>151</td>\n",
       "    </tr>\n",
       "    <tr>\n",
       "      <th>11</th>\n",
       "      <td>140</td>\n",
       "      <td>226</td>\n",
       "      <td>0.0</td>\n",
       "      <td>42</td>\n",
       "      <td>178</td>\n",
       "    </tr>\n",
       "    <tr>\n",
       "      <th>12</th>\n",
       "      <td>140</td>\n",
       "      <td>335</td>\n",
       "      <td>0.0</td>\n",
       "      <td>64</td>\n",
       "      <td>158</td>\n",
       "    </tr>\n",
       "    <tr>\n",
       "      <th>13</th>\n",
       "      <td>138</td>\n",
       "      <td>236</td>\n",
       "      <td>0.2</td>\n",
       "      <td>45</td>\n",
       "      <td>152</td>\n",
       "    </tr>\n",
       "    <tr>\n",
       "      <th>14</th>\n",
       "      <td>120</td>\n",
       "      <td>231</td>\n",
       "      <td>3.8</td>\n",
       "      <td>38</td>\n",
       "      <td>182</td>\n",
       "    </tr>\n",
       "    <tr>\n",
       "      <th>15</th>\n",
       "      <td>144</td>\n",
       "      <td>200</td>\n",
       "      <td>0.9</td>\n",
       "      <td>50</td>\n",
       "      <td>126</td>\n",
       "    </tr>\n",
       "    <tr>\n",
       "      <th>16</th>\n",
       "      <td>130</td>\n",
       "      <td>234</td>\n",
       "      <td>0.6</td>\n",
       "      <td>45</td>\n",
       "      <td>175</td>\n",
       "    </tr>\n",
       "    <tr>\n",
       "      <th>17</th>\n",
       "      <td>130</td>\n",
       "      <td>253</td>\n",
       "      <td>1.4</td>\n",
       "      <td>60</td>\n",
       "      <td>144</td>\n",
       "    </tr>\n",
       "    <tr>\n",
       "      <th>18</th>\n",
       "      <td>130</td>\n",
       "      <td>204</td>\n",
       "      <td>0.0</td>\n",
       "      <td>29</td>\n",
       "      <td>202</td>\n",
       "    </tr>\n",
       "    <tr>\n",
       "      <th>19</th>\n",
       "      <td>136</td>\n",
       "      <td>319</td>\n",
       "      <td>0.0</td>\n",
       "      <td>58</td>\n",
       "      <td>152</td>\n",
       "    </tr>\n",
       "    <tr>\n",
       "      <th>20</th>\n",
       "      <td>160</td>\n",
       "      <td>302</td>\n",
       "      <td>0.4</td>\n",
       "      <td>71</td>\n",
       "      <td>162</td>\n",
       "    </tr>\n",
       "    <tr>\n",
       "      <th>21</th>\n",
       "      <td>108</td>\n",
       "      <td>233</td>\n",
       "      <td>0.1</td>\n",
       "      <td>52</td>\n",
       "      <td>147</td>\n",
       "    </tr>\n",
       "    <tr>\n",
       "      <th>22</th>\n",
       "      <td>106</td>\n",
       "      <td>223</td>\n",
       "      <td>0.3</td>\n",
       "      <td>67</td>\n",
       "      <td>142</td>\n",
       "    </tr>\n",
       "    <tr>\n",
       "      <th>23</th>\n",
       "      <td>160</td>\n",
       "      <td>228</td>\n",
       "      <td>2.3</td>\n",
       "      <td>66</td>\n",
       "      <td>138</td>\n",
       "    </tr>\n",
       "    <tr>\n",
       "      <th>24</th>\n",
       "      <td>156</td>\n",
       "      <td>245</td>\n",
       "      <td>0.0</td>\n",
       "      <td>70</td>\n",
       "      <td>143</td>\n",
       "    </tr>\n",
       "    <tr>\n",
       "      <th>25</th>\n",
       "      <td>120</td>\n",
       "      <td>211</td>\n",
       "      <td>1.5</td>\n",
       "      <td>68</td>\n",
       "      <td>115</td>\n",
       "    </tr>\n",
       "    <tr>\n",
       "      <th>26</th>\n",
       "      <td>128</td>\n",
       "      <td>303</td>\n",
       "      <td>0.0</td>\n",
       "      <td>57</td>\n",
       "      <td>159</td>\n",
       "    </tr>\n",
       "    <tr>\n",
       "      <th>27</th>\n",
       "      <td>128</td>\n",
       "      <td>205</td>\n",
       "      <td>0.0</td>\n",
       "      <td>52</td>\n",
       "      <td>184</td>\n",
       "    </tr>\n",
       "    <tr>\n",
       "      <th>28</th>\n",
       "      <td>140</td>\n",
       "      <td>185</td>\n",
       "      <td>3.0</td>\n",
       "      <td>60</td>\n",
       "      <td>155</td>\n",
       "    </tr>\n",
       "    <tr>\n",
       "      <th>29</th>\n",
       "      <td>110</td>\n",
       "      <td>175</td>\n",
       "      <td>0.6</td>\n",
       "      <td>51</td>\n",
       "      <td>123</td>\n",
       "    </tr>\n",
       "    <tr>\n",
       "      <th>...</th>\n",
       "      <td>...</td>\n",
       "      <td>...</td>\n",
       "      <td>...</td>\n",
       "      <td>...</td>\n",
       "      <td>...</td>\n",
       "    </tr>\n",
       "    <tr>\n",
       "      <th>150</th>\n",
       "      <td>108</td>\n",
       "      <td>309</td>\n",
       "      <td>0.0</td>\n",
       "      <td>54</td>\n",
       "      <td>156</td>\n",
       "    </tr>\n",
       "    <tr>\n",
       "      <th>151</th>\n",
       "      <td>125</td>\n",
       "      <td>273</td>\n",
       "      <td>0.5</td>\n",
       "      <td>54</td>\n",
       "      <td>152</td>\n",
       "    </tr>\n",
       "    <tr>\n",
       "      <th>152</th>\n",
       "      <td>120</td>\n",
       "      <td>198</td>\n",
       "      <td>1.6</td>\n",
       "      <td>35</td>\n",
       "      <td>130</td>\n",
       "    </tr>\n",
       "    <tr>\n",
       "      <th>153</th>\n",
       "      <td>112</td>\n",
       "      <td>290</td>\n",
       "      <td>0.0</td>\n",
       "      <td>44</td>\n",
       "      <td>153</td>\n",
       "    </tr>\n",
       "    <tr>\n",
       "      <th>154</th>\n",
       "      <td>130</td>\n",
       "      <td>263</td>\n",
       "      <td>1.2</td>\n",
       "      <td>62</td>\n",
       "      <td>97</td>\n",
       "    </tr>\n",
       "    <tr>\n",
       "      <th>155</th>\n",
       "      <td>160</td>\n",
       "      <td>273</td>\n",
       "      <td>0.0</td>\n",
       "      <td>59</td>\n",
       "      <td>125</td>\n",
       "    </tr>\n",
       "    <tr>\n",
       "      <th>156</th>\n",
       "      <td>140</td>\n",
       "      <td>239</td>\n",
       "      <td>1.8</td>\n",
       "      <td>69</td>\n",
       "      <td>151</td>\n",
       "    </tr>\n",
       "    <tr>\n",
       "      <th>157</th>\n",
       "      <td>130</td>\n",
       "      <td>275</td>\n",
       "      <td>0.2</td>\n",
       "      <td>48</td>\n",
       "      <td>139</td>\n",
       "    </tr>\n",
       "    <tr>\n",
       "      <th>158</th>\n",
       "      <td>120</td>\n",
       "      <td>226</td>\n",
       "      <td>0.0</td>\n",
       "      <td>44</td>\n",
       "      <td>169</td>\n",
       "    </tr>\n",
       "    <tr>\n",
       "      <th>159</th>\n",
       "      <td>130</td>\n",
       "      <td>206</td>\n",
       "      <td>2.4</td>\n",
       "      <td>60</td>\n",
       "      <td>132</td>\n",
       "    </tr>\n",
       "    <tr>\n",
       "      <th>160</th>\n",
       "      <td>130</td>\n",
       "      <td>266</td>\n",
       "      <td>0.6</td>\n",
       "      <td>49</td>\n",
       "      <td>171</td>\n",
       "    </tr>\n",
       "    <tr>\n",
       "      <th>161</th>\n",
       "      <td>117</td>\n",
       "      <td>230</td>\n",
       "      <td>1.4</td>\n",
       "      <td>60</td>\n",
       "      <td>160</td>\n",
       "    </tr>\n",
       "    <tr>\n",
       "      <th>162</th>\n",
       "      <td>160</td>\n",
       "      <td>164</td>\n",
       "      <td>6.2</td>\n",
       "      <td>62</td>\n",
       "      <td>145</td>\n",
       "    </tr>\n",
       "    <tr>\n",
       "      <th>163</th>\n",
       "      <td>142</td>\n",
       "      <td>309</td>\n",
       "      <td>0.0</td>\n",
       "      <td>45</td>\n",
       "      <td>147</td>\n",
       "    </tr>\n",
       "    <tr>\n",
       "      <th>164</th>\n",
       "      <td>142</td>\n",
       "      <td>226</td>\n",
       "      <td>0.0</td>\n",
       "      <td>53</td>\n",
       "      <td>111</td>\n",
       "    </tr>\n",
       "    <tr>\n",
       "      <th>165</th>\n",
       "      <td>152</td>\n",
       "      <td>277</td>\n",
       "      <td>0.0</td>\n",
       "      <td>67</td>\n",
       "      <td>172</td>\n",
       "    </tr>\n",
       "    <tr>\n",
       "      <th>166</th>\n",
       "      <td>132</td>\n",
       "      <td>207</td>\n",
       "      <td>0.0</td>\n",
       "      <td>57</td>\n",
       "      <td>168</td>\n",
       "    </tr>\n",
       "    <tr>\n",
       "      <th>167</th>\n",
       "      <td>120</td>\n",
       "      <td>249</td>\n",
       "      <td>0.8</td>\n",
       "      <td>46</td>\n",
       "      <td>144</td>\n",
       "    </tr>\n",
       "    <tr>\n",
       "      <th>168</th>\n",
       "      <td>145</td>\n",
       "      <td>233</td>\n",
       "      <td>2.3</td>\n",
       "      <td>63</td>\n",
       "      <td>150</td>\n",
       "    </tr>\n",
       "    <tr>\n",
       "      <th>169</th>\n",
       "      <td>110</td>\n",
       "      <td>211</td>\n",
       "      <td>1.8</td>\n",
       "      <td>64</td>\n",
       "      <td>144</td>\n",
       "    </tr>\n",
       "    <tr>\n",
       "      <th>170</th>\n",
       "      <td>150</td>\n",
       "      <td>270</td>\n",
       "      <td>0.8</td>\n",
       "      <td>58</td>\n",
       "      <td>111</td>\n",
       "    </tr>\n",
       "    <tr>\n",
       "      <th>171</th>\n",
       "      <td>112</td>\n",
       "      <td>212</td>\n",
       "      <td>0.1</td>\n",
       "      <td>66</td>\n",
       "      <td>132</td>\n",
       "    </tr>\n",
       "    <tr>\n",
       "      <th>172</th>\n",
       "      <td>118</td>\n",
       "      <td>219</td>\n",
       "      <td>1.2</td>\n",
       "      <td>39</td>\n",
       "      <td>140</td>\n",
       "    </tr>\n",
       "    <tr>\n",
       "      <th>173</th>\n",
       "      <td>140</td>\n",
       "      <td>299</td>\n",
       "      <td>1.6</td>\n",
       "      <td>51</td>\n",
       "      <td>173</td>\n",
       "    </tr>\n",
       "    <tr>\n",
       "      <th>174</th>\n",
       "      <td>140</td>\n",
       "      <td>239</td>\n",
       "      <td>1.2</td>\n",
       "      <td>54</td>\n",
       "      <td>160</td>\n",
       "    </tr>\n",
       "    <tr>\n",
       "      <th>175</th>\n",
       "      <td>125</td>\n",
       "      <td>254</td>\n",
       "      <td>0.2</td>\n",
       "      <td>67</td>\n",
       "      <td>163</td>\n",
       "    </tr>\n",
       "    <tr>\n",
       "      <th>176</th>\n",
       "      <td>180</td>\n",
       "      <td>327</td>\n",
       "      <td>3.4</td>\n",
       "      <td>55</td>\n",
       "      <td>117</td>\n",
       "    </tr>\n",
       "    <tr>\n",
       "      <th>177</th>\n",
       "      <td>125</td>\n",
       "      <td>309</td>\n",
       "      <td>1.8</td>\n",
       "      <td>64</td>\n",
       "      <td>131</td>\n",
       "    </tr>\n",
       "    <tr>\n",
       "      <th>178</th>\n",
       "      <td>124</td>\n",
       "      <td>255</td>\n",
       "      <td>0.0</td>\n",
       "      <td>48</td>\n",
       "      <td>175</td>\n",
       "    </tr>\n",
       "    <tr>\n",
       "      <th>179</th>\n",
       "      <td>160</td>\n",
       "      <td>201</td>\n",
       "      <td>0.0</td>\n",
       "      <td>54</td>\n",
       "      <td>163</td>\n",
       "    </tr>\n",
       "  </tbody>\n",
       "</table>\n",
       "<p>180 rows × 5 columns</p>\n",
       "</div>"
      ],
      "text/plain": [
       "     resting_blood_pressure  serum_cholesterol_mg_per_dl  \\\n",
       "0                       128                          308   \n",
       "1                       110                          214   \n",
       "2                       125                          304   \n",
       "3                       152                          223   \n",
       "4                       178                          270   \n",
       "5                       130                          180   \n",
       "6                       150                          258   \n",
       "7                       150                          276   \n",
       "8                       170                          326   \n",
       "9                       120                          219   \n",
       "10                      120                          302   \n",
       "11                      140                          226   \n",
       "12                      140                          335   \n",
       "13                      138                          236   \n",
       "14                      120                          231   \n",
       "15                      144                          200   \n",
       "16                      130                          234   \n",
       "17                      130                          253   \n",
       "18                      130                          204   \n",
       "19                      136                          319   \n",
       "20                      160                          302   \n",
       "21                      108                          233   \n",
       "22                      106                          223   \n",
       "23                      160                          228   \n",
       "24                      156                          245   \n",
       "25                      120                          211   \n",
       "26                      128                          303   \n",
       "27                      128                          205   \n",
       "28                      140                          185   \n",
       "29                      110                          175   \n",
       "..                      ...                          ...   \n",
       "150                     108                          309   \n",
       "151                     125                          273   \n",
       "152                     120                          198   \n",
       "153                     112                          290   \n",
       "154                     130                          263   \n",
       "155                     160                          273   \n",
       "156                     140                          239   \n",
       "157                     130                          275   \n",
       "158                     120                          226   \n",
       "159                     130                          206   \n",
       "160                     130                          266   \n",
       "161                     117                          230   \n",
       "162                     160                          164   \n",
       "163                     142                          309   \n",
       "164                     142                          226   \n",
       "165                     152                          277   \n",
       "166                     132                          207   \n",
       "167                     120                          249   \n",
       "168                     145                          233   \n",
       "169                     110                          211   \n",
       "170                     150                          270   \n",
       "171                     112                          212   \n",
       "172                     118                          219   \n",
       "173                     140                          299   \n",
       "174                     140                          239   \n",
       "175                     125                          254   \n",
       "176                     180                          327   \n",
       "177                     125                          309   \n",
       "178                     124                          255   \n",
       "179                     160                          201   \n",
       "\n",
       "     oldpeak_eq_st_depression  age  max_heart_rate_achieved  \n",
       "0                         0.0   45                      170  \n",
       "1                         1.6   54                      158  \n",
       "2                         0.0   77                      162  \n",
       "3                         0.0   40                      181  \n",
       "4                         4.2   59                      145  \n",
       "5                         0.0   42                      150  \n",
       "6                         2.6   60                      157  \n",
       "7                         0.6   57                      112  \n",
       "8                         3.4   59                      140  \n",
       "9                         1.6   50                      158  \n",
       "10                        0.4   66                      151  \n",
       "11                        0.0   42                      178  \n",
       "12                        0.0   64                      158  \n",
       "13                        0.2   45                      152  \n",
       "14                        3.8   38                      182  \n",
       "15                        0.9   50                      126  \n",
       "16                        0.6   45                      175  \n",
       "17                        1.4   60                      144  \n",
       "18                        0.0   29                      202  \n",
       "19                        0.0   58                      152  \n",
       "20                        0.4   71                      162  \n",
       "21                        0.1   52                      147  \n",
       "22                        0.3   67                      142  \n",
       "23                        2.3   66                      138  \n",
       "24                        0.0   70                      143  \n",
       "25                        1.5   68                      115  \n",
       "26                        0.0   57                      159  \n",
       "27                        0.0   52                      184  \n",
       "28                        3.0   60                      155  \n",
       "29                        0.6   51                      123  \n",
       "..                        ...  ...                      ...  \n",
       "150                       0.0   54                      156  \n",
       "151                       0.5   54                      152  \n",
       "152                       1.6   35                      130  \n",
       "153                       0.0   44                      153  \n",
       "154                       1.2   62                       97  \n",
       "155                       0.0   59                      125  \n",
       "156                       1.8   69                      151  \n",
       "157                       0.2   48                      139  \n",
       "158                       0.0   44                      169  \n",
       "159                       2.4   60                      132  \n",
       "160                       0.6   49                      171  \n",
       "161                       1.4   60                      160  \n",
       "162                       6.2   62                      145  \n",
       "163                       0.0   45                      147  \n",
       "164                       0.0   53                      111  \n",
       "165                       0.0   67                      172  \n",
       "166                       0.0   57                      168  \n",
       "167                       0.8   46                      144  \n",
       "168                       2.3   63                      150  \n",
       "169                       1.8   64                      144  \n",
       "170                       0.8   58                      111  \n",
       "171                       0.1   66                      132  \n",
       "172                       1.2   39                      140  \n",
       "173                       1.6   51                      173  \n",
       "174                       1.2   54                      160  \n",
       "175                       0.2   67                      163  \n",
       "176                       3.4   55                      117  \n",
       "177                       1.8   64                      131  \n",
       "178                       0.0   48                      175  \n",
       "179                       0.0   54                      163  \n",
       "\n",
       "[180 rows x 5 columns]"
      ]
     },
     "execution_count": 80,
     "metadata": {},
     "output_type": "execute_result"
    }
   ],
   "source": [
    "df_train_onehot[new_num_cols]"
   ]
  },
  {
   "cell_type": "code",
   "execution_count": 128,
   "metadata": {},
   "outputs": [
    {
     "data": {
      "text/plain": [
       "(90, 13)"
      ]
     },
     "execution_count": 128,
     "metadata": {},
     "output_type": "execute_result"
    }
   ],
   "source": [
    "X_preds.shape"
   ]
  },
  {
   "cell_type": "code",
   "execution_count": null,
   "metadata": {},
   "outputs": [],
   "source": []
  }
 ],
 "metadata": {
  "kernelspec": {
   "display_name": "Python 3",
   "language": "python",
   "name": "python3"
  },
  "language_info": {
   "codemirror_mode": {
    "name": "ipython",
    "version": 3
   },
   "file_extension": ".py",
   "mimetype": "text/x-python",
   "name": "python",
   "nbconvert_exporter": "python",
   "pygments_lexer": "ipython3",
   "version": "3.7.3"
  }
 },
 "nbformat": 4,
 "nbformat_minor": 2
}
