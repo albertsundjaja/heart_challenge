{
 "cells": [
  {
   "cell_type": "code",
   "execution_count": 1,
   "metadata": {},
   "outputs": [],
   "source": [
    "import pandas as pd\n",
    "import numpy as np\n",
    "import torch as th\n",
    "from torch.utils.data import TensorDataset, DataLoader\n",
    "from sklearn.model_selection import train_test_split\n",
    "from sklearn.preprocessing import LabelEncoder\n",
    "from sklearn.metrics import log_loss"
   ]
  },
  {
   "cell_type": "code",
   "execution_count": 2,
   "metadata": {},
   "outputs": [],
   "source": [
    "df = pd.read_csv('train_values.csv')\n",
    "df_label = pd.read_csv('train_labels.csv')\n",
    "df_test = pd.read_csv('test_values.csv')"
   ]
  },
  {
   "cell_type": "markdown",
   "metadata": {},
   "source": [
    "## Data Assessment"
   ]
  },
  {
   "cell_type": "code",
   "execution_count": 3,
   "metadata": {},
   "outputs": [
    {
     "name": "stdout",
     "output_type": "stream",
     "text": [
      "<class 'pandas.core.frame.DataFrame'>\n",
      "RangeIndex: 180 entries, 0 to 179\n",
      "Data columns (total 14 columns):\n",
      "patient_id                              180 non-null object\n",
      "slope_of_peak_exercise_st_segment       180 non-null int64\n",
      "thal                                    180 non-null object\n",
      "resting_blood_pressure                  180 non-null int64\n",
      "chest_pain_type                         180 non-null int64\n",
      "num_major_vessels                       180 non-null int64\n",
      "fasting_blood_sugar_gt_120_mg_per_dl    180 non-null int64\n",
      "resting_ekg_results                     180 non-null int64\n",
      "serum_cholesterol_mg_per_dl             180 non-null int64\n",
      "oldpeak_eq_st_depression                180 non-null float64\n",
      "sex                                     180 non-null int64\n",
      "age                                     180 non-null int64\n",
      "max_heart_rate_achieved                 180 non-null int64\n",
      "exercise_induced_angina                 180 non-null int64\n",
      "dtypes: float64(1), int64(11), object(2)\n",
      "memory usage: 19.8+ KB\n"
     ]
    }
   ],
   "source": [
    "df.info()"
   ]
  },
  {
   "cell_type": "code",
   "execution_count": 4,
   "metadata": {},
   "outputs": [
    {
     "name": "stdout",
     "output_type": "stream",
     "text": [
      "<class 'pandas.core.frame.DataFrame'>\n",
      "RangeIndex: 180 entries, 0 to 179\n",
      "Data columns (total 2 columns):\n",
      "patient_id               180 non-null object\n",
      "heart_disease_present    180 non-null int64\n",
      "dtypes: int64(1), object(1)\n",
      "memory usage: 2.9+ KB\n"
     ]
    }
   ],
   "source": [
    "df_label.info()"
   ]
  },
  {
   "cell_type": "code",
   "execution_count": 5,
   "metadata": {},
   "outputs": [
    {
     "data": {
      "text/plain": [
       "normal               98\n",
       "reversible_defect    74\n",
       "fixed_defect          8\n",
       "Name: thal, dtype: int64"
      ]
     },
     "execution_count": 5,
     "metadata": {},
     "output_type": "execute_result"
    }
   ],
   "source": [
    "df['thal'].value_counts()"
   ]
  },
  {
   "cell_type": "code",
   "execution_count": 6,
   "metadata": {},
   "outputs": [
    {
     "data": {
      "text/html": [
       "<div>\n",
       "<style scoped>\n",
       "    .dataframe tbody tr th:only-of-type {\n",
       "        vertical-align: middle;\n",
       "    }\n",
       "\n",
       "    .dataframe tbody tr th {\n",
       "        vertical-align: top;\n",
       "    }\n",
       "\n",
       "    .dataframe thead th {\n",
       "        text-align: right;\n",
       "    }\n",
       "</style>\n",
       "<table border=\"1\" class=\"dataframe\">\n",
       "  <thead>\n",
       "    <tr style=\"text-align: right;\">\n",
       "      <th></th>\n",
       "      <th>slope_of_peak_exercise_st_segment</th>\n",
       "      <th>resting_blood_pressure</th>\n",
       "      <th>chest_pain_type</th>\n",
       "      <th>num_major_vessels</th>\n",
       "      <th>fasting_blood_sugar_gt_120_mg_per_dl</th>\n",
       "      <th>resting_ekg_results</th>\n",
       "      <th>serum_cholesterol_mg_per_dl</th>\n",
       "      <th>oldpeak_eq_st_depression</th>\n",
       "      <th>sex</th>\n",
       "      <th>age</th>\n",
       "      <th>max_heart_rate_achieved</th>\n",
       "      <th>exercise_induced_angina</th>\n",
       "    </tr>\n",
       "  </thead>\n",
       "  <tbody>\n",
       "    <tr>\n",
       "      <th>count</th>\n",
       "      <td>180.000000</td>\n",
       "      <td>180.000000</td>\n",
       "      <td>180.000000</td>\n",
       "      <td>180.000000</td>\n",
       "      <td>180.000000</td>\n",
       "      <td>180.000000</td>\n",
       "      <td>180.000000</td>\n",
       "      <td>180.000000</td>\n",
       "      <td>180.000000</td>\n",
       "      <td>180.000000</td>\n",
       "      <td>180.000000</td>\n",
       "      <td>180.000000</td>\n",
       "    </tr>\n",
       "    <tr>\n",
       "      <th>mean</th>\n",
       "      <td>1.550000</td>\n",
       "      <td>131.311111</td>\n",
       "      <td>3.155556</td>\n",
       "      <td>0.694444</td>\n",
       "      <td>0.161111</td>\n",
       "      <td>1.050000</td>\n",
       "      <td>249.211111</td>\n",
       "      <td>1.010000</td>\n",
       "      <td>0.688889</td>\n",
       "      <td>54.811111</td>\n",
       "      <td>149.483333</td>\n",
       "      <td>0.316667</td>\n",
       "    </tr>\n",
       "    <tr>\n",
       "      <th>std</th>\n",
       "      <td>0.618838</td>\n",
       "      <td>17.010443</td>\n",
       "      <td>0.938454</td>\n",
       "      <td>0.969347</td>\n",
       "      <td>0.368659</td>\n",
       "      <td>0.998742</td>\n",
       "      <td>52.717969</td>\n",
       "      <td>1.121357</td>\n",
       "      <td>0.464239</td>\n",
       "      <td>9.334737</td>\n",
       "      <td>22.063513</td>\n",
       "      <td>0.466474</td>\n",
       "    </tr>\n",
       "    <tr>\n",
       "      <th>min</th>\n",
       "      <td>1.000000</td>\n",
       "      <td>94.000000</td>\n",
       "      <td>1.000000</td>\n",
       "      <td>0.000000</td>\n",
       "      <td>0.000000</td>\n",
       "      <td>0.000000</td>\n",
       "      <td>126.000000</td>\n",
       "      <td>0.000000</td>\n",
       "      <td>0.000000</td>\n",
       "      <td>29.000000</td>\n",
       "      <td>96.000000</td>\n",
       "      <td>0.000000</td>\n",
       "    </tr>\n",
       "    <tr>\n",
       "      <th>25%</th>\n",
       "      <td>1.000000</td>\n",
       "      <td>120.000000</td>\n",
       "      <td>3.000000</td>\n",
       "      <td>0.000000</td>\n",
       "      <td>0.000000</td>\n",
       "      <td>0.000000</td>\n",
       "      <td>213.750000</td>\n",
       "      <td>0.000000</td>\n",
       "      <td>0.000000</td>\n",
       "      <td>48.000000</td>\n",
       "      <td>132.000000</td>\n",
       "      <td>0.000000</td>\n",
       "    </tr>\n",
       "    <tr>\n",
       "      <th>50%</th>\n",
       "      <td>1.000000</td>\n",
       "      <td>130.000000</td>\n",
       "      <td>3.000000</td>\n",
       "      <td>0.000000</td>\n",
       "      <td>0.000000</td>\n",
       "      <td>2.000000</td>\n",
       "      <td>245.500000</td>\n",
       "      <td>0.800000</td>\n",
       "      <td>1.000000</td>\n",
       "      <td>55.000000</td>\n",
       "      <td>152.000000</td>\n",
       "      <td>0.000000</td>\n",
       "    </tr>\n",
       "    <tr>\n",
       "      <th>75%</th>\n",
       "      <td>2.000000</td>\n",
       "      <td>140.000000</td>\n",
       "      <td>4.000000</td>\n",
       "      <td>1.000000</td>\n",
       "      <td>0.000000</td>\n",
       "      <td>2.000000</td>\n",
       "      <td>281.250000</td>\n",
       "      <td>1.600000</td>\n",
       "      <td>1.000000</td>\n",
       "      <td>62.000000</td>\n",
       "      <td>166.250000</td>\n",
       "      <td>1.000000</td>\n",
       "    </tr>\n",
       "    <tr>\n",
       "      <th>max</th>\n",
       "      <td>3.000000</td>\n",
       "      <td>180.000000</td>\n",
       "      <td>4.000000</td>\n",
       "      <td>3.000000</td>\n",
       "      <td>1.000000</td>\n",
       "      <td>2.000000</td>\n",
       "      <td>564.000000</td>\n",
       "      <td>6.200000</td>\n",
       "      <td>1.000000</td>\n",
       "      <td>77.000000</td>\n",
       "      <td>202.000000</td>\n",
       "      <td>1.000000</td>\n",
       "    </tr>\n",
       "  </tbody>\n",
       "</table>\n",
       "</div>"
      ],
      "text/plain": [
       "       slope_of_peak_exercise_st_segment  resting_blood_pressure  \\\n",
       "count                         180.000000              180.000000   \n",
       "mean                            1.550000              131.311111   \n",
       "std                             0.618838               17.010443   \n",
       "min                             1.000000               94.000000   \n",
       "25%                             1.000000              120.000000   \n",
       "50%                             1.000000              130.000000   \n",
       "75%                             2.000000              140.000000   \n",
       "max                             3.000000              180.000000   \n",
       "\n",
       "       chest_pain_type  num_major_vessels  \\\n",
       "count       180.000000         180.000000   \n",
       "mean          3.155556           0.694444   \n",
       "std           0.938454           0.969347   \n",
       "min           1.000000           0.000000   \n",
       "25%           3.000000           0.000000   \n",
       "50%           3.000000           0.000000   \n",
       "75%           4.000000           1.000000   \n",
       "max           4.000000           3.000000   \n",
       "\n",
       "       fasting_blood_sugar_gt_120_mg_per_dl  resting_ekg_results  \\\n",
       "count                            180.000000           180.000000   \n",
       "mean                               0.161111             1.050000   \n",
       "std                                0.368659             0.998742   \n",
       "min                                0.000000             0.000000   \n",
       "25%                                0.000000             0.000000   \n",
       "50%                                0.000000             2.000000   \n",
       "75%                                0.000000             2.000000   \n",
       "max                                1.000000             2.000000   \n",
       "\n",
       "       serum_cholesterol_mg_per_dl  oldpeak_eq_st_depression         sex  \\\n",
       "count                   180.000000                180.000000  180.000000   \n",
       "mean                    249.211111                  1.010000    0.688889   \n",
       "std                      52.717969                  1.121357    0.464239   \n",
       "min                     126.000000                  0.000000    0.000000   \n",
       "25%                     213.750000                  0.000000    0.000000   \n",
       "50%                     245.500000                  0.800000    1.000000   \n",
       "75%                     281.250000                  1.600000    1.000000   \n",
       "max                     564.000000                  6.200000    1.000000   \n",
       "\n",
       "              age  max_heart_rate_achieved  exercise_induced_angina  \n",
       "count  180.000000               180.000000               180.000000  \n",
       "mean    54.811111               149.483333                 0.316667  \n",
       "std      9.334737                22.063513                 0.466474  \n",
       "min     29.000000                96.000000                 0.000000  \n",
       "25%     48.000000               132.000000                 0.000000  \n",
       "50%     55.000000               152.000000                 0.000000  \n",
       "75%     62.000000               166.250000                 1.000000  \n",
       "max     77.000000               202.000000                 1.000000  "
      ]
     },
     "execution_count": 6,
     "metadata": {},
     "output_type": "execute_result"
    }
   ],
   "source": [
    "df.describe()"
   ]
  },
  {
   "cell_type": "code",
   "execution_count": 7,
   "metadata": {},
   "outputs": [
    {
     "data": {
      "text/plain": [
       "1    93\n",
       "2    75\n",
       "3    12\n",
       "Name: slope_of_peak_exercise_st_segment, dtype: int64"
      ]
     },
     "execution_count": 7,
     "metadata": {},
     "output_type": "execute_result"
    }
   ],
   "source": [
    "df['slope_of_peak_exercise_st_segment'].value_counts()"
   ]
  },
  {
   "cell_type": "code",
   "execution_count": 8,
   "metadata": {},
   "outputs": [
    {
     "data": {
      "text/plain": [
       "130    26\n",
       "140    22\n",
       "120    21\n",
       "110    11\n",
       "150    10\n",
       "160     9\n",
       "112     8\n",
       "128     8\n",
       "125     7\n",
       "108     5\n",
       "124     5\n",
       "135     4\n",
       "118     4\n",
       "145     4\n",
       "132     3\n",
       "180     3\n",
       "138     3\n",
       "134     2\n",
       "178     2\n",
       "126     2\n",
       "142     2\n",
       "100     2\n",
       "152     2\n",
       "136     2\n",
       "115     2\n",
       "172     1\n",
       "102     1\n",
       "105     1\n",
       "106     1\n",
       "117     1\n",
       "170     1\n",
       "156     1\n",
       "155     1\n",
       "122     1\n",
       "144     1\n",
       "94      1\n",
       "Name: resting_blood_pressure, dtype: int64"
      ]
     },
     "execution_count": 8,
     "metadata": {},
     "output_type": "execute_result"
    }
   ],
   "source": [
    "df['resting_blood_pressure'].value_counts()"
   ]
  },
  {
   "cell_type": "code",
   "execution_count": 9,
   "metadata": {},
   "outputs": [
    {
     "data": {
      "text/plain": [
       "4    82\n",
       "3    57\n",
       "2    28\n",
       "1    13\n",
       "Name: chest_pain_type, dtype: int64"
      ]
     },
     "execution_count": 9,
     "metadata": {},
     "output_type": "execute_result"
    }
   ],
   "source": [
    "df['chest_pain_type'].value_counts()"
   ]
  },
  {
   "cell_type": "code",
   "execution_count": 10,
   "metadata": {},
   "outputs": [
    {
     "data": {
      "text/plain": [
       "0    106\n",
       "1     37\n",
       "2     23\n",
       "3     14\n",
       "Name: num_major_vessels, dtype: int64"
      ]
     },
     "execution_count": 10,
     "metadata": {},
     "output_type": "execute_result"
    }
   ],
   "source": [
    "df['num_major_vessels'].value_counts()"
   ]
  },
  {
   "cell_type": "code",
   "execution_count": 11,
   "metadata": {},
   "outputs": [
    {
     "data": {
      "text/plain": [
       "0    151\n",
       "1     29\n",
       "Name: fasting_blood_sugar_gt_120_mg_per_dl, dtype: int64"
      ]
     },
     "execution_count": 11,
     "metadata": {},
     "output_type": "execute_result"
    }
   ],
   "source": [
    "df['fasting_blood_sugar_gt_120_mg_per_dl'].value_counts()"
   ]
  },
  {
   "cell_type": "code",
   "execution_count": 12,
   "metadata": {},
   "outputs": [
    {
     "data": {
      "text/plain": [
       "2    94\n",
       "0    85\n",
       "1     1\n",
       "Name: resting_ekg_results, dtype: int64"
      ]
     },
     "execution_count": 12,
     "metadata": {},
     "output_type": "execute_result"
    }
   ],
   "source": [
    "df['resting_ekg_results'].value_counts()"
   ]
  },
  {
   "cell_type": "code",
   "execution_count": 13,
   "metadata": {},
   "outputs": [
    {
     "data": {
      "text/plain": [
       "4    82\n",
       "3    57\n",
       "2    28\n",
       "1    13\n",
       "Name: chest_pain_type, dtype: int64"
      ]
     },
     "execution_count": 13,
     "metadata": {},
     "output_type": "execute_result"
    }
   ],
   "source": [
    "df['chest_pain_type'].value_counts()"
   ]
  },
  {
   "cell_type": "code",
   "execution_count": 14,
   "metadata": {},
   "outputs": [
    {
     "data": {
      "text/plain": [
       "204    4\n",
       "239    4\n",
       "219    3\n",
       "254    3\n",
       "309    3\n",
       "226    3\n",
       "303    3\n",
       "211    3\n",
       "282    3\n",
       "233    3\n",
       "234    3\n",
       "256    3\n",
       "263    3\n",
       "277    2\n",
       "265    2\n",
       "203    2\n",
       "199    2\n",
       "197    2\n",
       "188    2\n",
       "177    2\n",
       "258    2\n",
       "149    2\n",
       "330    2\n",
       "308    2\n",
       "283    2\n",
       "266    2\n",
       "304    2\n",
       "267    2\n",
       "302    2\n",
       "299    2\n",
       "      ..\n",
       "215    1\n",
       "218    1\n",
       "200    1\n",
       "201    1\n",
       "213    1\n",
       "205    1\n",
       "206    1\n",
       "207    1\n",
       "209    1\n",
       "180    1\n",
       "175    1\n",
       "321    1\n",
       "126    1\n",
       "322    1\n",
       "325    1\n",
       "326    1\n",
       "327    1\n",
       "335    1\n",
       "353    1\n",
       "360    1\n",
       "141    1\n",
       "174    1\n",
       "222    1\n",
       "160    1\n",
       "417    1\n",
       "164    1\n",
       "167    1\n",
       "168    1\n",
       "220    1\n",
       "172    1\n",
       "Name: serum_cholesterol_mg_per_dl, Length: 118, dtype: int64"
      ]
     },
     "execution_count": 14,
     "metadata": {},
     "output_type": "execute_result"
    }
   ],
   "source": [
    "df['serum_cholesterol_mg_per_dl'].value_counts()"
   ]
  },
  {
   "cell_type": "code",
   "execution_count": 15,
   "metadata": {},
   "outputs": [
    {
     "data": {
      "text/plain": [
       "0.0    56\n",
       "1.4    11\n",
       "1.6    10\n",
       "1.2     9\n",
       "1.0     7\n",
       "0.2     7\n",
       "0.6     7\n",
       "0.4     7\n",
       "0.8     7\n",
       "1.8     6\n",
       "2.0     5\n",
       "0.1     5\n",
       "0.5     4\n",
       "2.2     4\n",
       "2.4     3\n",
       "1.5     3\n",
       "1.9     3\n",
       "2.6     3\n",
       "2.8     2\n",
       "3.0     2\n",
       "2.3     2\n",
       "0.9     2\n",
       "4.2     2\n",
       "0.3     2\n",
       "3.4     2\n",
       "1.1     1\n",
       "2.5     1\n",
       "1.3     1\n",
       "3.8     1\n",
       "3.2     1\n",
       "5.6     1\n",
       "3.1     1\n",
       "0.7     1\n",
       "6.2     1\n",
       "Name: oldpeak_eq_st_depression, dtype: int64"
      ]
     },
     "execution_count": 15,
     "metadata": {},
     "output_type": "execute_result"
    }
   ],
   "source": [
    "df['oldpeak_eq_st_depression'].value_counts()"
   ]
  },
  {
   "cell_type": "code",
   "execution_count": 16,
   "metadata": {},
   "outputs": [
    {
     "data": {
      "text/plain": [
       "1    124\n",
       "0     56\n",
       "Name: sex, dtype: int64"
      ]
     },
     "execution_count": 16,
     "metadata": {},
     "output_type": "execute_result"
    }
   ],
   "source": [
    "df['sex'].value_counts()"
   ]
  },
  {
   "cell_type": "code",
   "execution_count": 17,
   "metadata": {},
   "outputs": [
    {
     "data": {
      "text/plain": [
       "54    12\n",
       "58    10\n",
       "64     9\n",
       "51     9\n",
       "44     9\n",
       "57     8\n",
       "60     7\n",
       "62     7\n",
       "59     6\n",
       "55     6\n",
       "65     6\n",
       "48     6\n",
       "67     6\n",
       "41     6\n",
       "52     5\n",
       "45     5\n",
       "63     5\n",
       "49     4\n",
       "42     4\n",
       "50     4\n",
       "53     4\n",
       "56     4\n",
       "66     4\n",
       "61     3\n",
       "46     3\n",
       "68     3\n",
       "70     3\n",
       "71     3\n",
       "40     3\n",
       "47     2\n",
       "69     2\n",
       "43     2\n",
       "39     2\n",
       "35     2\n",
       "34     1\n",
       "37     1\n",
       "77     1\n",
       "38     1\n",
       "74     1\n",
       "29     1\n",
       "Name: age, dtype: int64"
      ]
     },
     "execution_count": 17,
     "metadata": {},
     "output_type": "execute_result"
    }
   ],
   "source": [
    "df['age'].value_counts()"
   ]
  },
  {
   "cell_type": "code",
   "execution_count": 18,
   "metadata": {},
   "outputs": [
    {
     "data": {
      "text/plain": [
       "162    10\n",
       "132     6\n",
       "142     6\n",
       "150     5\n",
       "170     5\n",
       "172     5\n",
       "173     5\n",
       "152     5\n",
       "125     5\n",
       "165     4\n",
       "145     4\n",
       "122     4\n",
       "158     4\n",
       "147     4\n",
       "151     4\n",
       "154     3\n",
       "155     3\n",
       "131     3\n",
       "160     3\n",
       "163     3\n",
       "179     3\n",
       "130     3\n",
       "168     3\n",
       "144     3\n",
       "140     3\n",
       "111     3\n",
       "175     3\n",
       "126     3\n",
       "169     3\n",
       "138     2\n",
       "       ..\n",
       "181     2\n",
       "182     2\n",
       "103     2\n",
       "161     2\n",
       "115     1\n",
       "202     1\n",
       "113     1\n",
       "112     1\n",
       "120     1\n",
       "108     1\n",
       "106     1\n",
       "105     1\n",
       "99      1\n",
       "97      1\n",
       "117     1\n",
       "149     1\n",
       "121     1\n",
       "123     1\n",
       "133     1\n",
       "134     1\n",
       "137     1\n",
       "141     1\n",
       "192     1\n",
       "167     1\n",
       "177     1\n",
       "180     1\n",
       "184     1\n",
       "186     1\n",
       "188     1\n",
       "96      1\n",
       "Name: max_heart_rate_achieved, Length: 73, dtype: int64"
      ]
     },
     "execution_count": 18,
     "metadata": {},
     "output_type": "execute_result"
    }
   ],
   "source": [
    "df['max_heart_rate_achieved'].value_counts()"
   ]
  },
  {
   "cell_type": "code",
   "execution_count": 19,
   "metadata": {},
   "outputs": [
    {
     "data": {
      "text/plain": [
       "0    123\n",
       "1     57\n",
       "Name: exercise_induced_angina, dtype: int64"
      ]
     },
     "execution_count": 19,
     "metadata": {},
     "output_type": "execute_result"
    }
   ],
   "source": [
    "df['exercise_induced_angina'].value_counts()"
   ]
  },
  {
   "cell_type": "markdown",
   "metadata": {},
   "source": [
    "### Quality\n",
    "\n",
    "* the column `thal` is a string and needs to be encoded\n",
    "* the column `fasting_blood_sugar_gt_120_mg_per_dl` is a boolean, convert it to bool datatype to avoid confusion\n",
    "* the column `sex` is a boolean, convert it to bool datatype to avoid confusion\n",
    "* the column `exercise_induced_angina` is a boolean, convert it to bool datatype to avoid confusion\n"
   ]
  },
  {
   "cell_type": "markdown",
   "metadata": {},
   "source": [
    "### Tidyness\n",
    "\n",
    "the data doesn't have structural issue"
   ]
  },
  {
   "cell_type": "code",
   "execution_count": 20,
   "metadata": {},
   "outputs": [],
   "source": [
    "## Categorical column\n",
    "\n",
    "category_cols = ['chest_pain_type', 'fasting_blood_sugar_gt_120_mg_per_dl', 'resting_ekg_results', 'sex',\n",
    "                'exercise_induced_angina']\n",
    "\n",
    "## Numeric columns\n",
    "\n",
    "numerical_cols = ['slope_of_peak_exercise_st_segment', 'resting_blood_pressure', 'num_major_vessels',\n",
    "                 'serum_cholesterol_mg_per_dl', 'oldpeak_eq_st_depression', 'age', 'max_heart_rate_achieved']"
   ]
  },
  {
   "cell_type": "markdown",
   "metadata": {},
   "source": [
    "## Cleaning"
   ]
  },
  {
   "cell_type": "code",
   "execution_count": 21,
   "metadata": {},
   "outputs": [],
   "source": [
    "df_clean = df.copy()\n",
    "df_test_clean = df_test.copy()"
   ]
  },
  {
   "cell_type": "code",
   "execution_count": 22,
   "metadata": {},
   "outputs": [],
   "source": [
    "# encode strings in thal column"
   ]
  },
  {
   "cell_type": "code",
   "execution_count": 23,
   "metadata": {},
   "outputs": [],
   "source": [
    "lbl_encoder = LabelEncoder()"
   ]
  },
  {
   "cell_type": "code",
   "execution_count": 24,
   "metadata": {},
   "outputs": [
    {
     "data": {
      "text/plain": [
       "normal               98\n",
       "reversible_defect    74\n",
       "fixed_defect          8\n",
       "Name: thal, dtype: int64"
      ]
     },
     "execution_count": 24,
     "metadata": {},
     "output_type": "execute_result"
    }
   ],
   "source": [
    "df['thal'].value_counts()"
   ]
  },
  {
   "cell_type": "code",
   "execution_count": 25,
   "metadata": {},
   "outputs": [
    {
     "data": {
      "text/plain": [
       "normal               54\n",
       "reversible_defect    30\n",
       "fixed_defect          6\n",
       "Name: thal, dtype: int64"
      ]
     },
     "execution_count": 25,
     "metadata": {},
     "output_type": "execute_result"
    }
   ],
   "source": [
    "df_test['thal'].value_counts()"
   ]
  },
  {
   "cell_type": "code",
   "execution_count": 26,
   "metadata": {},
   "outputs": [],
   "source": [
    "lbl_encoder.fit(df_clean['thal'])\n",
    "df_clean['thal'] = lbl_encoder.transform(df_clean['thal'])"
   ]
  },
  {
   "cell_type": "code",
   "execution_count": 27,
   "metadata": {},
   "outputs": [],
   "source": [
    "df_test_clean['thal'] = lbl_encoder.transform(df_test_clean['thal'])"
   ]
  },
  {
   "cell_type": "code",
   "execution_count": 28,
   "metadata": {},
   "outputs": [],
   "source": [
    "# fix data type in blood sugar, sex and exercise induced"
   ]
  },
  {
   "cell_type": "code",
   "execution_count": 29,
   "metadata": {},
   "outputs": [],
   "source": [
    "df_clean['fasting_blood_sugar_gt_120_mg_per_dl'] = df_clean['fasting_blood_sugar_gt_120_mg_per_dl'].astype(bool)"
   ]
  },
  {
   "cell_type": "code",
   "execution_count": 30,
   "metadata": {},
   "outputs": [],
   "source": [
    "df_test_clean['fasting_blood_sugar_gt_120_mg_per_dl'] = df_test_clean['fasting_blood_sugar_gt_120_mg_per_dl'].astype(bool)"
   ]
  },
  {
   "cell_type": "code",
   "execution_count": 31,
   "metadata": {},
   "outputs": [],
   "source": [
    "df_clean['sex'] = df_clean['sex'].astype(bool)"
   ]
  },
  {
   "cell_type": "code",
   "execution_count": 32,
   "metadata": {},
   "outputs": [],
   "source": [
    "df_test_clean['sex'] = df_test_clean['sex'].astype(bool)"
   ]
  },
  {
   "cell_type": "code",
   "execution_count": 33,
   "metadata": {},
   "outputs": [],
   "source": [
    "df_clean['exercise_induced_angina'] = df_clean['exercise_induced_angina'].astype(bool)"
   ]
  },
  {
   "cell_type": "code",
   "execution_count": 34,
   "metadata": {},
   "outputs": [],
   "source": [
    "df_test_clean['exercise_induced_angina'] = df_test_clean['exercise_induced_angina'].astype(bool)"
   ]
  },
  {
   "cell_type": "markdown",
   "metadata": {},
   "source": [
    "## Try fitting a simple model"
   ]
  },
  {
   "cell_type": "code",
   "execution_count": 35,
   "metadata": {},
   "outputs": [],
   "source": [
    "from sklearn.tree import DecisionTreeClassifier\n",
    "from sklearn.model_selection import train_test_split, GridSearchCV"
   ]
  },
  {
   "cell_type": "code",
   "execution_count": 36,
   "metadata": {},
   "outputs": [],
   "source": [
    "df_train = df_clean.merge(df_label, on='patient_id', how='left')"
   ]
  },
  {
   "cell_type": "code",
   "execution_count": 37,
   "metadata": {},
   "outputs": [
    {
     "data": {
      "text/html": [
       "<div>\n",
       "<style scoped>\n",
       "    .dataframe tbody tr th:only-of-type {\n",
       "        vertical-align: middle;\n",
       "    }\n",
       "\n",
       "    .dataframe tbody tr th {\n",
       "        vertical-align: top;\n",
       "    }\n",
       "\n",
       "    .dataframe thead th {\n",
       "        text-align: right;\n",
       "    }\n",
       "</style>\n",
       "<table border=\"1\" class=\"dataframe\">\n",
       "  <thead>\n",
       "    <tr style=\"text-align: right;\">\n",
       "      <th></th>\n",
       "      <th>patient_id</th>\n",
       "      <th>slope_of_peak_exercise_st_segment</th>\n",
       "      <th>thal</th>\n",
       "      <th>resting_blood_pressure</th>\n",
       "      <th>chest_pain_type</th>\n",
       "      <th>num_major_vessels</th>\n",
       "      <th>fasting_blood_sugar_gt_120_mg_per_dl</th>\n",
       "      <th>resting_ekg_results</th>\n",
       "      <th>serum_cholesterol_mg_per_dl</th>\n",
       "      <th>oldpeak_eq_st_depression</th>\n",
       "      <th>sex</th>\n",
       "      <th>age</th>\n",
       "      <th>max_heart_rate_achieved</th>\n",
       "      <th>exercise_induced_angina</th>\n",
       "      <th>heart_disease_present</th>\n",
       "    </tr>\n",
       "  </thead>\n",
       "  <tbody>\n",
       "    <tr>\n",
       "      <th>0</th>\n",
       "      <td>0z64un</td>\n",
       "      <td>1</td>\n",
       "      <td>1</td>\n",
       "      <td>128</td>\n",
       "      <td>2</td>\n",
       "      <td>0</td>\n",
       "      <td>False</td>\n",
       "      <td>2</td>\n",
       "      <td>308</td>\n",
       "      <td>0.0</td>\n",
       "      <td>True</td>\n",
       "      <td>45</td>\n",
       "      <td>170</td>\n",
       "      <td>False</td>\n",
       "      <td>0</td>\n",
       "    </tr>\n",
       "    <tr>\n",
       "      <th>1</th>\n",
       "      <td>ryoo3j</td>\n",
       "      <td>2</td>\n",
       "      <td>1</td>\n",
       "      <td>110</td>\n",
       "      <td>3</td>\n",
       "      <td>0</td>\n",
       "      <td>False</td>\n",
       "      <td>0</td>\n",
       "      <td>214</td>\n",
       "      <td>1.6</td>\n",
       "      <td>False</td>\n",
       "      <td>54</td>\n",
       "      <td>158</td>\n",
       "      <td>False</td>\n",
       "      <td>0</td>\n",
       "    </tr>\n",
       "    <tr>\n",
       "      <th>2</th>\n",
       "      <td>yt1s1x</td>\n",
       "      <td>1</td>\n",
       "      <td>1</td>\n",
       "      <td>125</td>\n",
       "      <td>4</td>\n",
       "      <td>3</td>\n",
       "      <td>False</td>\n",
       "      <td>2</td>\n",
       "      <td>304</td>\n",
       "      <td>0.0</td>\n",
       "      <td>True</td>\n",
       "      <td>77</td>\n",
       "      <td>162</td>\n",
       "      <td>True</td>\n",
       "      <td>1</td>\n",
       "    </tr>\n",
       "    <tr>\n",
       "      <th>3</th>\n",
       "      <td>l2xjde</td>\n",
       "      <td>1</td>\n",
       "      <td>2</td>\n",
       "      <td>152</td>\n",
       "      <td>4</td>\n",
       "      <td>0</td>\n",
       "      <td>False</td>\n",
       "      <td>0</td>\n",
       "      <td>223</td>\n",
       "      <td>0.0</td>\n",
       "      <td>True</td>\n",
       "      <td>40</td>\n",
       "      <td>181</td>\n",
       "      <td>False</td>\n",
       "      <td>1</td>\n",
       "    </tr>\n",
       "    <tr>\n",
       "      <th>4</th>\n",
       "      <td>oyt4ek</td>\n",
       "      <td>3</td>\n",
       "      <td>2</td>\n",
       "      <td>178</td>\n",
       "      <td>1</td>\n",
       "      <td>0</td>\n",
       "      <td>False</td>\n",
       "      <td>2</td>\n",
       "      <td>270</td>\n",
       "      <td>4.2</td>\n",
       "      <td>True</td>\n",
       "      <td>59</td>\n",
       "      <td>145</td>\n",
       "      <td>False</td>\n",
       "      <td>0</td>\n",
       "    </tr>\n",
       "  </tbody>\n",
       "</table>\n",
       "</div>"
      ],
      "text/plain": [
       "  patient_id  slope_of_peak_exercise_st_segment  thal  resting_blood_pressure  \\\n",
       "0     0z64un                                  1     1                     128   \n",
       "1     ryoo3j                                  2     1                     110   \n",
       "2     yt1s1x                                  1     1                     125   \n",
       "3     l2xjde                                  1     2                     152   \n",
       "4     oyt4ek                                  3     2                     178   \n",
       "\n",
       "   chest_pain_type  num_major_vessels  fasting_blood_sugar_gt_120_mg_per_dl  \\\n",
       "0                2                  0                                 False   \n",
       "1                3                  0                                 False   \n",
       "2                4                  3                                 False   \n",
       "3                4                  0                                 False   \n",
       "4                1                  0                                 False   \n",
       "\n",
       "   resting_ekg_results  serum_cholesterol_mg_per_dl  oldpeak_eq_st_depression  \\\n",
       "0                    2                          308                       0.0   \n",
       "1                    0                          214                       1.6   \n",
       "2                    2                          304                       0.0   \n",
       "3                    0                          223                       0.0   \n",
       "4                    2                          270                       4.2   \n",
       "\n",
       "     sex  age  max_heart_rate_achieved  exercise_induced_angina  \\\n",
       "0   True   45                      170                    False   \n",
       "1  False   54                      158                    False   \n",
       "2   True   77                      162                     True   \n",
       "3   True   40                      181                    False   \n",
       "4   True   59                      145                    False   \n",
       "\n",
       "   heart_disease_present  \n",
       "0                      0  \n",
       "1                      0  \n",
       "2                      1  \n",
       "3                      1  \n",
       "4                      0  "
      ]
     },
     "execution_count": 37,
     "metadata": {},
     "output_type": "execute_result"
    }
   ],
   "source": [
    "df_train.head()"
   ]
  },
  {
   "cell_type": "code",
   "execution_count": 38,
   "metadata": {},
   "outputs": [],
   "source": [
    "X = df_train.drop(['patient_id', 'heart_disease_present'], axis=1)\n",
    "y = df_train['heart_disease_present']"
   ]
  },
  {
   "cell_type": "code",
   "execution_count": 82,
   "metadata": {},
   "outputs": [
    {
     "data": {
      "text/plain": [
       "0    100\n",
       "1     80\n",
       "Name: heart_disease_present, dtype: int64"
      ]
     },
     "execution_count": 82,
     "metadata": {},
     "output_type": "execute_result"
    }
   ],
   "source": [
    "y.value_counts()"
   ]
  },
  {
   "cell_type": "code",
   "execution_count": 39,
   "metadata": {},
   "outputs": [],
   "source": [
    "X_train, X_test, y_train, y_test = train_test_split(X, y, test_size=0.2, stratify=y)"
   ]
  },
  {
   "cell_type": "code",
   "execution_count": 80,
   "metadata": {},
   "outputs": [],
   "source": [
    "tree_clf = DecisionTreeClassifier(max_depth=9)"
   ]
  },
  {
   "cell_type": "code",
   "execution_count": 83,
   "metadata": {},
   "outputs": [
    {
     "data": {
      "text/plain": [
       "DecisionTreeClassifier(class_weight=None, criterion='gini', max_depth=9,\n",
       "                       max_features=None, max_leaf_nodes=None,\n",
       "                       min_impurity_decrease=0.0, min_impurity_split=None,\n",
       "                       min_samples_leaf=1, min_samples_split=2,\n",
       "                       min_weight_fraction_leaf=0.0, presort=False,\n",
       "                       random_state=None, splitter='best')"
      ]
     },
     "execution_count": 83,
     "metadata": {},
     "output_type": "execute_result"
    }
   ],
   "source": [
    "tree_clf.fit(X_train, y_train)"
   ]
  },
  {
   "cell_type": "code",
   "execution_count": 87,
   "metadata": {},
   "outputs": [
    {
     "data": {
      "text/plain": [
       "0.8888888888888888"
      ]
     },
     "execution_count": 87,
     "metadata": {},
     "output_type": "execute_result"
    }
   ],
   "source": [
    "tree_clf.score(X_test, y_test)"
   ]
  },
  {
   "cell_type": "code",
   "execution_count": 104,
   "metadata": {},
   "outputs": [],
   "source": [
    "y_preds = tree_clf.predict_proba(X_test)[:,1]"
   ]
  },
  {
   "cell_type": "code",
   "execution_count": 105,
   "metadata": {},
   "outputs": [
    {
     "data": {
      "text/plain": [
       "3.837664032696471"
      ]
     },
     "execution_count": 105,
     "metadata": {},
     "output_type": "execute_result"
    }
   ],
   "source": [
    "# metrics used in competition\n",
    "log_loss(y_test, y_preds)"
   ]
  },
  {
   "cell_type": "code",
   "execution_count": 107,
   "metadata": {},
   "outputs": [],
   "source": [
    "# Use GridSearchCV for parameter tuning"
   ]
  },
  {
   "cell_type": "code",
   "execution_count": 108,
   "metadata": {},
   "outputs": [],
   "source": [
    "tree = DecisionTreeClassifier()\n",
    "params = {\n",
    "    \"max_depth\":[3,6,9,12,15],\n",
    "    \"min_samples_leaf\":[2,3,4,5,6,7,8]\n",
    "}"
   ]
  },
  {
   "cell_type": "code",
   "execution_count": 109,
   "metadata": {},
   "outputs": [],
   "source": [
    "grid_cv = GridSearchCV(tree, params, cv=5)"
   ]
  },
  {
   "cell_type": "code",
   "execution_count": 110,
   "metadata": {},
   "outputs": [
    {
     "name": "stderr",
     "output_type": "stream",
     "text": [
      "/Users/grandia/anaconda3/envs/pysyft/lib/python3.7/site-packages/sklearn/model_selection/_search.py:813: DeprecationWarning: The default of the `iid` parameter will change from True to False in version 0.22 and will be removed in 0.24. This will change numeric results when test-set sizes are unequal.\n",
      "  DeprecationWarning)\n"
     ]
    },
    {
     "data": {
      "text/plain": [
       "GridSearchCV(cv=5, error_score='raise-deprecating',\n",
       "             estimator=DecisionTreeClassifier(class_weight=None,\n",
       "                                              criterion='gini', max_depth=None,\n",
       "                                              max_features=None,\n",
       "                                              max_leaf_nodes=None,\n",
       "                                              min_impurity_decrease=0.0,\n",
       "                                              min_impurity_split=None,\n",
       "                                              min_samples_leaf=1,\n",
       "                                              min_samples_split=2,\n",
       "                                              min_weight_fraction_leaf=0.0,\n",
       "                                              presort=False, random_state=None,\n",
       "                                              splitter='best'),\n",
       "             iid='warn', n_jobs=None,\n",
       "             param_grid={'max_depth': [3, 6, 9, 12, 15],\n",
       "                         'min_samples_leaf': [2, 3, 4, 5, 6, 7, 8]},\n",
       "             pre_dispatch='2*n_jobs', refit=True, return_train_score=False,\n",
       "             scoring=None, verbose=0)"
      ]
     },
     "execution_count": 110,
     "metadata": {},
     "output_type": "execute_result"
    }
   ],
   "source": [
    "grid_cv.fit(X_train, y_train)"
   ]
  },
  {
   "cell_type": "code",
   "execution_count": 111,
   "metadata": {},
   "outputs": [
    {
     "data": {
      "text/plain": [
       "{'max_depth': 6, 'min_samples_leaf': 3}"
      ]
     },
     "execution_count": 111,
     "metadata": {},
     "output_type": "execute_result"
    }
   ],
   "source": [
    "grid_cv.best_params_"
   ]
  },
  {
   "cell_type": "code",
   "execution_count": 119,
   "metadata": {},
   "outputs": [
    {
     "name": "stdout",
     "output_type": "stream",
     "text": [
      "3.954645366042257\n"
     ]
    }
   ],
   "source": [
    "y_preds = grid_cv.predict_proba(X_test)\n",
    "print(log_loss(y_test, y_preds))"
   ]
  },
  {
   "cell_type": "markdown",
   "metadata": {},
   "source": [
    "## Random Forest"
   ]
  },
  {
   "cell_type": "code",
   "execution_count": 115,
   "metadata": {},
   "outputs": [],
   "source": [
    "from sklearn.ensemble import RandomForestClassifier"
   ]
  },
  {
   "cell_type": "code",
   "execution_count": 117,
   "metadata": {},
   "outputs": [],
   "source": [
    "rf = RandomForestClassifier(n_estimators = 100, max_depth=9)"
   ]
  },
  {
   "cell_type": "code",
   "execution_count": 118,
   "metadata": {},
   "outputs": [
    {
     "data": {
      "text/plain": [
       "RandomForestClassifier(bootstrap=True, class_weight=None, criterion='gini',\n",
       "                       max_depth=9, max_features='auto', max_leaf_nodes=None,\n",
       "                       min_impurity_decrease=0.0, min_impurity_split=None,\n",
       "                       min_samples_leaf=1, min_samples_split=2,\n",
       "                       min_weight_fraction_leaf=0.0, n_estimators=100,\n",
       "                       n_jobs=None, oob_score=False, random_state=None,\n",
       "                       verbose=0, warm_start=False)"
      ]
     },
     "execution_count": 118,
     "metadata": {},
     "output_type": "execute_result"
    }
   ],
   "source": [
    "rf.fit(X_train, y_train)"
   ]
  },
  {
   "cell_type": "code",
   "execution_count": 120,
   "metadata": {},
   "outputs": [
    {
     "name": "stdout",
     "output_type": "stream",
     "text": [
      "0.38415713516996086\n"
     ]
    }
   ],
   "source": [
    "y_preds = rf.predict_proba(X_test)\n",
    "print(log_loss(y_test, y_preds))"
   ]
  },
  {
   "cell_type": "code",
   "execution_count": 121,
   "metadata": {},
   "outputs": [],
   "source": [
    "rf = RandomForestClassifier(n_estimators=1000)\n",
    "params = {\n",
    "    \"max_depth\":[3,6,9,12,15],\n",
    "    \"min_samples_leaf\":[2,3,4,5,6,7,8]\n",
    "}\n",
    "grid_rf = GridSearchCV(rf, params, cv=5)"
   ]
  },
  {
   "cell_type": "code",
   "execution_count": 122,
   "metadata": {},
   "outputs": [
    {
     "name": "stderr",
     "output_type": "stream",
     "text": [
      "/Users/grandia/anaconda3/envs/pysyft/lib/python3.7/site-packages/sklearn/model_selection/_search.py:813: DeprecationWarning: The default of the `iid` parameter will change from True to False in version 0.22 and will be removed in 0.24. This will change numeric results when test-set sizes are unequal.\n",
      "  DeprecationWarning)\n"
     ]
    },
    {
     "data": {
      "text/plain": [
       "GridSearchCV(cv=5, error_score='raise-deprecating',\n",
       "             estimator=RandomForestClassifier(bootstrap=True, class_weight=None,\n",
       "                                              criterion='gini', max_depth=None,\n",
       "                                              max_features='auto',\n",
       "                                              max_leaf_nodes=None,\n",
       "                                              min_impurity_decrease=0.0,\n",
       "                                              min_impurity_split=None,\n",
       "                                              min_samples_leaf=1,\n",
       "                                              min_samples_split=2,\n",
       "                                              min_weight_fraction_leaf=0.0,\n",
       "                                              n_estimators=1000, n_jobs=None,\n",
       "                                              oob_score=False,\n",
       "                                              random_state=None, verbose=0,\n",
       "                                              warm_start=False),\n",
       "             iid='warn', n_jobs=None,\n",
       "             param_grid={'max_depth': [3, 6, 9, 12, 15],\n",
       "                         'min_samples_leaf': [2, 3, 4, 5, 6, 7, 8]},\n",
       "             pre_dispatch='2*n_jobs', refit=True, return_train_score=False,\n",
       "             scoring=None, verbose=0)"
      ]
     },
     "execution_count": 122,
     "metadata": {},
     "output_type": "execute_result"
    }
   ],
   "source": [
    "grid_rf.fit(X_train, y_train)"
   ]
  },
  {
   "cell_type": "code",
   "execution_count": 124,
   "metadata": {},
   "outputs": [
    {
     "data": {
      "text/plain": [
       "{'max_depth': 3, 'min_samples_leaf': 8}"
      ]
     },
     "execution_count": 124,
     "metadata": {},
     "output_type": "execute_result"
    }
   ],
   "source": [
    "grid_rf.best_params_"
   ]
  },
  {
   "cell_type": "code",
   "execution_count": 123,
   "metadata": {},
   "outputs": [
    {
     "name": "stdout",
     "output_type": "stream",
     "text": [
      "0.4255896998055528\n"
     ]
    }
   ],
   "source": [
    "y_preds = grid_rf.predict_proba(X_test)\n",
    "print(log_loss(y_test, y_preds))"
   ]
  },
  {
   "cell_type": "markdown",
   "metadata": {},
   "source": [
    "## XGBoost"
   ]
  },
  {
   "cell_type": "code",
   "execution_count": 125,
   "metadata": {},
   "outputs": [],
   "source": [
    "import xgboost as xgb"
   ]
  },
  {
   "cell_type": "code",
   "execution_count": null,
   "metadata": {},
   "outputs": [],
   "source": [
    "xg = xgb.XGB"
   ]
  },
  {
   "cell_type": "code",
   "execution_count": 126,
   "metadata": {},
   "outputs": [],
   "source": [
    "params = {\"objective\":\"binary:logistic\", \"max_depth\":9}"
   ]
  },
  {
   "cell_type": "code",
   "execution_count": null,
   "metadata": {},
   "outputs": [],
   "source": []
  },
  {
   "cell_type": "code",
   "execution_count": null,
   "metadata": {},
   "outputs": [],
   "source": []
  },
  {
   "cell_type": "code",
   "execution_count": 90,
   "metadata": {},
   "outputs": [],
   "source": [
    "X_predict = df_test_clean.drop(['patient_id'], axis=1)"
   ]
  },
  {
   "cell_type": "code",
   "execution_count": 92,
   "metadata": {},
   "outputs": [
    {
     "data": {
      "text/plain": [
       "array([0, 0, 1, 1, 1, 0, 1, 1, 0, 0, 1, 0, 0, 1, 0, 0, 0, 1, 1, 0, 1, 0,\n",
       "       0, 0, 0, 1, 0, 0, 1, 0, 1, 0, 1, 1, 0, 0, 0, 1, 0, 0, 1, 0, 1, 0,\n",
       "       1, 0, 0, 1, 1, 1, 1, 0, 1, 0, 0, 0, 1, 0, 0, 1, 0, 1, 0, 1, 1, 1,\n",
       "       1, 0, 1, 0, 1, 1, 1, 1, 1, 1, 1, 1, 1, 1, 1, 0, 0, 1, 0, 1, 1, 0,\n",
       "       0, 0])"
      ]
     },
     "execution_count": 92,
     "metadata": {},
     "output_type": "execute_result"
    }
   ],
   "source": [
    "preds = tree_clf.predict(X_predict)"
   ]
  },
  {
   "cell_type": "code",
   "execution_count": null,
   "metadata": {},
   "outputs": [],
   "source": []
  },
  {
   "cell_type": "code",
   "execution_count": null,
   "metadata": {
    "collapsed": true
   },
   "outputs": [],
   "source": [
    "df_test = pd.concat([df_test.drop(['thal'],axis=1), pd.get_dummies(df_test['thal'], prefix='thal')], axis=1)\n",
    "df_test = pd.concat([df_test.drop(['chest_pain_type'],axis=1), pd.get_dummies(df_test['chest_pain_type'], prefix='chest')], axis=1)\n",
    "df_test = pd.concat([df_test.drop(['sex'],axis=1), pd.get_dummies(df_test['sex'], prefix='sex')], axis=1)\n",
    "df_test = pd.concat([df_test.drop(['exercise_induced_angina'],axis=1), pd.get_dummies(df_test['exercise_induced_angina'], prefix='exercise')], axis=1)\n",
    "df_test = pd.concat([df_test.drop(['fasting_blood_sugar_gt_120_mg_per_dl'],axis=1), pd.get_dummies(df_test['fasting_blood_sugar_gt_120_mg_per_dl'], prefix='blood')], axis=1)\n",
    "df_test = pd.concat([df_test.drop(['slope_of_peak_exercise_st_segment'],axis=1), pd.get_dummies(df_test['slope_of_peak_exercise_st_segment'], prefix='slope')], axis=1)"
   ]
  },
  {
   "cell_type": "code",
   "execution_count": 337,
   "metadata": {
    "collapsed": true
   },
   "outputs": [],
   "source": [
    "df['patient_id'] = df['patient_id'].astype(str)\n",
    "df_label['patient_id'] = df_label['patient_id'].astype(str)"
   ]
  },
  {
   "cell_type": "code",
   "execution_count": 338,
   "metadata": {},
   "outputs": [
    {
     "name": "stdout",
     "output_type": "stream",
     "text": [
      "<class 'pandas.core.frame.DataFrame'>\n",
      "RangeIndex: 180 entries, 0 to 179\n",
      "Data columns (total 2 columns):\n",
      "patient_id               180 non-null object\n",
      "heart_disease_present    180 non-null int64\n",
      "dtypes: int64(1), object(1)\n",
      "memory usage: 2.9+ KB\n"
     ]
    }
   ],
   "source": [
    "df_label.info()"
   ]
  },
  {
   "cell_type": "code",
   "execution_count": 339,
   "metadata": {},
   "outputs": [
    {
     "data": {
      "text/plain": [
       "Index(['patient_id', 'resting_blood_pressure', 'num_major_vessels',\n",
       "       'resting_ekg_results', 'serum_cholesterol_mg_per_dl',\n",
       "       'oldpeak_eq_st_depression', 'age', 'max_heart_rate_achieved',\n",
       "       'heart_disease_present', 'thal_fixed_defect', 'thal_normal',\n",
       "       'thal_reversible_defect', 'chest_1', 'chest_2', 'chest_3', 'chest_4',\n",
       "       'sex_0', 'sex_1', 'exercise_0', 'exercise_1', 'blood_0', 'blood_1',\n",
       "       'slope_1', 'slope_2', 'slope_3'],\n",
       "      dtype='object')"
      ]
     },
     "execution_count": 339,
     "metadata": {},
     "output_type": "execute_result"
    }
   ],
   "source": [
    "df_join.columns"
   ]
  },
  {
   "cell_type": "code",
   "execution_count": 340,
   "metadata": {
    "collapsed": true
   },
   "outputs": [],
   "source": [
    "df_join = pd.merge(df,df_label, on='patient_id')"
   ]
  },
  {
   "cell_type": "code",
   "execution_count": 70,
   "metadata": {},
   "outputs": [
    {
     "data": {
      "text/plain": [
       "Index(['patient_id', 'resting_blood_pressure', 'num_major_vessels',\n",
       "       'resting_ekg_results', 'serum_cholesterol_mg_per_dl',\n",
       "       'oldpeak_eq_st_depression', 'age', 'max_heart_rate_achieved',\n",
       "       'heart_disease_present', 'thal_fixed_defect', 'thal_normal',\n",
       "       'thal_reversible_defect', 'chest_1', 'chest_2', 'chest_3', 'chest_4',\n",
       "       'sex_0', 'sex_1', 'exercise_0', 'exercise_1', 'blood_0', 'blood_1',\n",
       "       'slope_1', 'slope_2', 'slope_3'],\n",
       "      dtype='object')"
      ]
     },
     "execution_count": 70,
     "metadata": {},
     "output_type": "execute_result"
    }
   ],
   "source": [
    "df_join.columns"
   ]
  },
  {
   "cell_type": "code",
   "execution_count": 341,
   "metadata": {
    "collapsed": true
   },
   "outputs": [],
   "source": [
    "df_join = pd.concat([df_join.drop(['thal'],axis=1), pd.get_dummies(df_join['thal'], prefix='thal')], axis=1)\n",
    "df_join = pd.concat([df_join.drop(['chest_pain_type'],axis=1), pd.get_dummies(df_join['chest_pain_type'], prefix='chest')], axis=1)\n",
    "df_join = pd.concat([df_join.drop(['sex'],axis=1), pd.get_dummies(df_join['sex'], prefix='sex')], axis=1)\n",
    "df_join = pd.concat([df_join.drop(['exercise_induced_angina'],axis=1), pd.get_dummies(df_join['exercise_induced_angina'], prefix='exercise')], axis=1)\n",
    "df_join = pd.concat([df_join.drop(['fasting_blood_sugar_gt_120_mg_per_dl'],axis=1), pd.get_dummies(df_join['fasting_blood_sugar_gt_120_mg_per_dl'], prefix='blood')], axis=1)\n",
    "df_join = pd.concat([df_join.drop(['slope_of_peak_exercise_st_segment'],axis=1), pd.get_dummies(df_join['slope_of_peak_exercise_st_segment'], prefix='slope')], axis=1)"
   ]
  },
  {
   "cell_type": "code",
   "execution_count": 426,
   "metadata": {
    "collapsed": true
   },
   "outputs": [],
   "source": [
    "X = df_join.drop(['patient_id','heart_disease_present'],axis=1)\n",
    "y = df_join['heart_disease_present']"
   ]
  },
  {
   "cell_type": "code",
   "execution_count": 633,
   "metadata": {
    "collapsed": true
   },
   "outputs": [],
   "source": [
    "X_train, X_test, y_train, y_test = train_test_split(X,y, test_size = 0.2, random_state=42, stratify=y)"
   ]
  },
  {
   "cell_type": "code",
   "execution_count": 634,
   "metadata": {
    "collapsed": true
   },
   "outputs": [],
   "source": [
    "from sklearn.preprocessing import MinMaxScaler\n",
    "\n",
    "scaler = MinMaxScaler()\n",
    "scaler.fit(X)\n",
    "X_train = scaler.transform(X_train)\n",
    "X_test = scaler.transform(X_test)"
   ]
  },
  {
   "cell_type": "code",
   "execution_count": null,
   "metadata": {
    "collapsed": true
   },
   "outputs": [],
   "source": []
  },
  {
   "cell_type": "code",
   "execution_count": 635,
   "metadata": {
    "collapsed": true
   },
   "outputs": [],
   "source": [
    "features = th.tensor(X_train)\n",
    "labels = th.tensor(y_train.values)\n",
    "dataset = TensorDataset(features, labels)\n",
    "trainloader = DataLoader(dataset, batch_size=32, shuffle=True)"
   ]
  },
  {
   "cell_type": "code",
   "execution_count": 636,
   "metadata": {
    "collapsed": true
   },
   "outputs": [],
   "source": [
    "features_test = th.tensor(X_test)\n",
    "labels_test = th.tensor(y_test.values)\n",
    "dataset_test = TensorDataset(features_test, labels_test)\n",
    "testloader = DataLoader(dataset_test)"
   ]
  },
  {
   "cell_type": "code",
   "execution_count": 343,
   "metadata": {
    "collapsed": true
   },
   "outputs": [],
   "source": [
    "features = th.tensor(X.drop(['patient_id'], axis=1).values)\n",
    "labels = th.tensor(y.values)\n",
    "dataset = TensorDataset(features, labels)\n",
    "trainloader = DataLoader(dataset, batch_size=32, shuffle=True)"
   ]
  },
  {
   "cell_type": "code",
   "execution_count": 699,
   "metadata": {
    "collapsed": true
   },
   "outputs": [],
   "source": [
    "from torch import nn, optim\n",
    "import torch.nn.functional as F\n",
    "\n",
    "def MinMax(x):\n",
    "    scaler = MinMaxScaler()\n",
    "    scaled_x = scaler.fit_transform(x.detach().numpy())\n",
    "    return th.tensor(x)\n",
    "    \n",
    "\n",
    "class Classifier(nn.Module):\n",
    "    def __init__(self):\n",
    "        super().__init__()\n",
    "        self.fc1 = nn.Linear(23, 512)\n",
    "        self.fc2 = nn.Linear(512, 64)\n",
    "        self.fc3 = nn.Linear(64, 1)\n",
    "        self.dropout1 = nn.Dropout(p=0.5)\n",
    "        self.dropout2 = nn.Dropout(p=0.25)\n",
    "    \n",
    "    def forward(self, x):\n",
    "        x = x.float()\n",
    "        x = self.fc1(x)\n",
    "        x = F.leaky_relu(x)\n",
    "        x = self.dropout1(x)\n",
    "        x = self.fc2(x)\n",
    "        x = F.leaky_relu(x)\n",
    "        x = self.dropout2(x)\n",
    "        x = self.fc3(x)\n",
    "        x = th.sigmoid(x)\n",
    "        return x"
   ]
  },
  {
   "cell_type": "code",
   "execution_count": 700,
   "metadata": {
    "collapsed": true
   },
   "outputs": [],
   "source": [
    "model = Classifier()"
   ]
  },
  {
   "cell_type": "code",
   "execution_count": 701,
   "metadata": {
    "collapsed": true
   },
   "outputs": [],
   "source": [
    "criterion = nn.BCELoss()\n",
    "optimizer = optim.Adam(model.parameters(), lr=0.005)"
   ]
  },
  {
   "cell_type": "code",
   "execution_count": 702,
   "metadata": {
    "collapsed": true
   },
   "outputs": [],
   "source": [
    "import warnings\n",
    "warnings.filterwarnings(\"ignore\")"
   ]
  },
  {
   "cell_type": "code",
   "execution_count": 703,
   "metadata": {},
   "outputs": [
    {
     "name": "stdout",
     "output_type": "stream",
     "text": [
      "Training loss: 0.5973690390586853\n",
      "Validation loss: 0.38778427243232727\n",
      "Accuracy: 0.8888888955116272\n",
      "Training loss: 0.45341333746910095\n",
      "Validation loss: 0.3275359570980072\n",
      "Accuracy: 0.8333333134651184\n",
      "Training loss: 0.38610807061195374\n",
      "Validation loss: 0.31084132194519043\n",
      "Accuracy: 0.8611111044883728\n",
      "Training loss: 0.3759234338998795\n",
      "Validation loss: 0.3644234240055084\n",
      "Accuracy: 0.8333333134651184\n",
      "Training loss: 0.373495489358902\n",
      "Validation loss: 0.3436714708805084\n",
      "Accuracy: 0.8611111044883728\n",
      "Training loss: 0.3899455785751343\n",
      "Validation loss: 0.45251432061195374\n",
      "Accuracy: 0.7777777910232544\n",
      "Training loss: 0.3044384211301804\n",
      "Validation loss: 0.3349950611591339\n",
      "Accuracy: 0.8611111044883728\n",
      "Training loss: 0.321978497505188\n",
      "Validation loss: 0.37746962904930115\n",
      "Accuracy: 0.8333333134651184\n",
      "Training loss: 0.31181941032409666\n",
      "Validation loss: 0.34159979224205017\n",
      "Accuracy: 0.8611111044883728\n",
      "Training loss: 0.2791659295558929\n",
      "Validation loss: 0.4511624872684479\n",
      "Accuracy: 0.8055555820465088\n",
      "Training loss: 0.27836254239082336\n",
      "Validation loss: 0.4016822874546051\n",
      "Accuracy: 0.8055555820465088\n",
      "Training loss: 0.2871267944574356\n",
      "Validation loss: 0.3315110504627228\n",
      "Accuracy: 0.8055555820465088\n",
      "Training loss: 0.2383561834692955\n",
      "Validation loss: 0.3494263291358948\n",
      "Accuracy: 0.8333333134651184\n",
      "Training loss: 0.24824028164148332\n",
      "Validation loss: 0.5136224031448364\n",
      "Accuracy: 0.7777777910232544\n",
      "Training loss: 0.30565532445907595\n",
      "Validation loss: 0.39629802107810974\n",
      "Accuracy: 0.8055555820465088\n",
      "Training loss: 0.2968195974826813\n",
      "Validation loss: 0.3555028736591339\n",
      "Accuracy: 0.8888888955116272\n",
      "Training loss: 0.24382277876138686\n",
      "Validation loss: 0.4132062494754791\n",
      "Accuracy: 0.8611111044883728\n",
      "Training loss: 0.2562865406274796\n",
      "Validation loss: 0.4411190450191498\n",
      "Accuracy: 0.8055555820465088\n",
      "Training loss: 0.27224921584129336\n",
      "Validation loss: 0.4068710505962372\n",
      "Accuracy: 0.8055555820465088\n",
      "Training loss: 0.2016974776983261\n",
      "Validation loss: 0.35757702589035034\n",
      "Accuracy: 0.8611111044883728\n",
      "Training loss: 0.20215035676956178\n",
      "Validation loss: 0.4692753255367279\n",
      "Accuracy: 0.8333333134651184\n",
      "Training loss: 0.22852019667625428\n",
      "Validation loss: 0.5042812824249268\n",
      "Accuracy: 0.7777777910232544\n",
      "Training loss: 0.18887118846178055\n",
      "Validation loss: 0.4208139479160309\n",
      "Accuracy: 0.8611111044883728\n",
      "Training loss: 0.19495096504688264\n",
      "Validation loss: 0.546484649181366\n",
      "Accuracy: 0.7777777910232544\n",
      "Training loss: 0.17041491195559502\n",
      "Validation loss: 0.497304230928421\n",
      "Accuracy: 0.8055555820465088\n",
      "Training loss: 0.15736492574214936\n",
      "Validation loss: 0.5177521705627441\n",
      "Accuracy: 0.75\n",
      "Training loss: 0.13606142103672028\n",
      "Validation loss: 0.6408815979957581\n",
      "Accuracy: 0.75\n",
      "Training loss: 0.210167396068573\n",
      "Validation loss: 0.389361172914505\n",
      "Accuracy: 0.8888888955116272\n",
      "Training loss: 0.23268930613994598\n",
      "Validation loss: 0.47945860028266907\n",
      "Accuracy: 0.8055555820465088\n",
      "Training loss: 0.17557457238435745\n",
      "Validation loss: 0.4653867483139038\n",
      "Accuracy: 0.8055555820465088\n",
      "Training loss: 0.18662387132644653\n",
      "Validation loss: 0.3937843441963196\n",
      "Accuracy: 0.8055555820465088\n",
      "Training loss: 0.17126546204090118\n",
      "Validation loss: 0.33832964301109314\n",
      "Accuracy: 0.8333333134651184\n",
      "Training loss: 0.1509706936776638\n",
      "Validation loss: 0.5993531942367554\n",
      "Accuracy: 0.8333333134651184\n",
      "Training loss: 0.13698863387107849\n",
      "Validation loss: 0.4934881627559662\n",
      "Accuracy: 0.7777777910232544\n",
      "Training loss: 0.17567993253469466\n",
      "Validation loss: 0.4370666444301605\n",
      "Accuracy: 0.7777777910232544\n",
      "Training loss: 0.12915047854185105\n",
      "Validation loss: 0.8459351658821106\n",
      "Accuracy: 0.6944444179534912\n",
      "Training loss: 0.1401817873120308\n",
      "Validation loss: 0.5485079288482666\n",
      "Accuracy: 0.8055555820465088\n",
      "Training loss: 0.14132588654756545\n",
      "Validation loss: 0.64395672082901\n",
      "Accuracy: 0.7777777910232544\n",
      "Training loss: 0.14361642450094222\n",
      "Validation loss: 0.7462590932846069\n",
      "Accuracy: 0.7777777910232544\n",
      "Training loss: 0.16455106437206268\n",
      "Validation loss: 0.7315585613250732\n",
      "Accuracy: 0.8055555820465088\n",
      "Training loss: 0.1026862345635891\n",
      "Validation loss: 0.6022233963012695\n",
      "Accuracy: 0.7777777910232544\n",
      "Training loss: 0.10967930033802986\n",
      "Validation loss: 0.4838566184043884\n",
      "Accuracy: 0.8333333134651184\n",
      "Training loss: 0.12358761057257653\n",
      "Validation loss: 0.5996193289756775\n",
      "Accuracy: 0.8333333134651184\n",
      "Training loss: 0.14841992408037186\n",
      "Validation loss: 1.0160101652145386\n",
      "Accuracy: 0.8055555820465088\n",
      "Training loss: 0.10245725177228451\n",
      "Validation loss: 0.9294880628585815\n",
      "Accuracy: 0.7777777910232544\n",
      "Training loss: 0.11567557752132415\n",
      "Validation loss: 0.5042700171470642\n",
      "Accuracy: 0.8333333134651184\n",
      "Training loss: 0.13324782140553\n",
      "Validation loss: 0.6040748953819275\n",
      "Accuracy: 0.8333333134651184\n",
      "Training loss: 0.16883062571287155\n",
      "Validation loss: 0.9271584749221802\n",
      "Accuracy: 0.7777777910232544\n",
      "Training loss: 0.1366834219545126\n",
      "Validation loss: 0.7840177416801453\n",
      "Accuracy: 0.8055555820465088\n",
      "Training loss: 0.13765618130564689\n",
      "Validation loss: 0.8675692081451416\n",
      "Accuracy: 0.8333333134651184\n",
      "Training loss: 0.09628764428198337\n",
      "Validation loss: 0.9550842642784119\n",
      "Accuracy: 0.7222222089767456\n",
      "Training loss: 0.09941464141011239\n",
      "Validation loss: 0.7087936401367188\n",
      "Accuracy: 0.75\n",
      "Training loss: 0.1252759262919426\n",
      "Validation loss: 0.6372272372245789\n",
      "Accuracy: 0.8333333134651184\n",
      "Training loss: 0.09672977812588215\n",
      "Validation loss: 0.8526861667633057\n",
      "Accuracy: 0.7777777910232544\n",
      "Training loss: 0.07710242867469788\n",
      "Validation loss: 0.7621579766273499\n",
      "Accuracy: 0.7777777910232544\n",
      "Training loss: 0.11285154968500137\n",
      "Validation loss: 0.6469922661781311\n",
      "Accuracy: 0.8055555820465088\n",
      "Training loss: 0.06412524729967117\n",
      "Validation loss: 0.48190557956695557\n",
      "Accuracy: 0.8333333134651184\n",
      "Training loss: 0.09085814654827118\n",
      "Validation loss: 0.8542177081108093\n",
      "Accuracy: 0.75\n",
      "Training loss: 0.08531029745936394\n",
      "Validation loss: 0.732059121131897\n",
      "Accuracy: 0.75\n",
      "Training loss: 0.09330202583223582\n",
      "Validation loss: 0.7771027684211731\n",
      "Accuracy: 0.7777777910232544\n",
      "Training loss: 0.10710222870111466\n",
      "Validation loss: 1.0474685430526733\n",
      "Accuracy: 0.8055555820465088\n",
      "Training loss: 0.0744170643389225\n",
      "Validation loss: 1.6902871131896973\n",
      "Accuracy: 0.6944444179534912\n",
      "Training loss: 0.09439676124602556\n",
      "Validation loss: 0.8700085878372192\n",
      "Accuracy: 0.8611111044883728\n",
      "Training loss: 0.04944947548210621\n",
      "Validation loss: 0.569631040096283\n",
      "Accuracy: 0.8333333134651184\n",
      "Training loss: 0.07124504968523979\n",
      "Validation loss: 1.216597080230713\n",
      "Accuracy: 0.8055555820465088\n",
      "Training loss: 0.0818109542131424\n",
      "Validation loss: 0.942708432674408\n",
      "Accuracy: 0.8055555820465088\n",
      "Training loss: 0.07474009543657303\n",
      "Validation loss: 0.7264609932899475\n",
      "Accuracy: 0.8611111044883728\n",
      "Training loss: 0.08609075527638196\n",
      "Validation loss: 1.941590428352356\n",
      "Accuracy: 0.75\n",
      "Training loss: 0.11967580914497375\n",
      "Validation loss: 0.9961614608764648\n",
      "Accuracy: 0.8055555820465088\n",
      "Training loss: 0.09805582314729691\n",
      "Validation loss: 0.531723141670227\n",
      "Accuracy: 0.8888888955116272\n",
      "Training loss: 0.11171599887311459\n",
      "Validation loss: 0.6915890574455261\n",
      "Accuracy: 0.8611111044883728\n",
      "Training loss: 0.051574937999248505\n",
      "Validation loss: 0.7503445148468018\n",
      "Accuracy: 0.7777777910232544\n",
      "Training loss: 0.07967561110854149\n",
      "Validation loss: 0.6511561870574951\n",
      "Accuracy: 0.8888888955116272\n",
      "Training loss: 0.052689479663968086\n",
      "Validation loss: 0.6138641834259033\n",
      "Accuracy: 0.8611111044883728\n",
      "Training loss: 0.08573587238788605\n",
      "Validation loss: 1.298835277557373\n",
      "Accuracy: 0.8055555820465088\n",
      "Training loss: 0.10197810381650925\n",
      "Validation loss: 1.3371824026107788\n",
      "Accuracy: 0.7777777910232544\n",
      "Training loss: 0.08961318880319595\n",
      "Validation loss: 0.8411253094673157\n",
      "Accuracy: 0.8055555820465088\n",
      "Training loss: 0.09586631506681442\n",
      "Validation loss: 0.8057104349136353\n",
      "Accuracy: 0.8611111044883728\n",
      "Training loss: 0.07238326147198677\n",
      "Validation loss: 0.8854207992553711\n",
      "Accuracy: 0.8055555820465088\n",
      "Training loss: 0.08227178119122983\n",
      "Validation loss: 1.1910561323165894\n",
      "Accuracy: 0.75\n",
      "Training loss: 0.03672702070325613\n",
      "Validation loss: 0.724568247795105\n",
      "Accuracy: 0.7777777910232544\n",
      "Training loss: 0.04904439114034176\n",
      "Validation loss: 0.8748989701271057\n",
      "Accuracy: 0.7777777910232544\n",
      "Training loss: 0.11593998316675425\n",
      "Validation loss: 0.8984686732292175\n",
      "Accuracy: 0.7777777910232544\n",
      "Training loss: 0.05388572476804256\n",
      "Validation loss: 0.8996354341506958\n",
      "Accuracy: 0.8055555820465088\n",
      "Training loss: 0.030844444409012794\n",
      "Validation loss: 1.2073715925216675\n",
      "Accuracy: 0.8055555820465088\n",
      "Training loss: 0.06314476169645786\n",
      "Validation loss: 0.9025196433067322\n",
      "Accuracy: 0.8333333134651184\n",
      "Training loss: 0.07159563377499581\n",
      "Validation loss: 0.971088171005249\n",
      "Accuracy: 0.8333333134651184\n",
      "Training loss: 0.04685552679002285\n",
      "Validation loss: 0.8911221623420715\n",
      "Accuracy: 0.8333333134651184\n",
      "Training loss: 0.05531771518290043\n",
      "Validation loss: 1.3944579362869263\n",
      "Accuracy: 0.75\n",
      "Training loss: 0.08797165416181088\n",
      "Validation loss: 1.503366470336914\n",
      "Accuracy: 0.7777777910232544\n",
      "Training loss: 0.07837560437619687\n",
      "Validation loss: 1.1610404253005981\n",
      "Accuracy: 0.8333333134651184\n",
      "Training loss: 0.029874182492494582\n",
      "Validation loss: 1.608249306678772\n",
      "Accuracy: 0.8333333134651184\n",
      "Training loss: 0.06392389684915542\n",
      "Validation loss: 1.4388651847839355\n",
      "Accuracy: 0.8333333134651184\n",
      "Training loss: 0.060092759504914287\n",
      "Validation loss: 0.9364051818847656\n",
      "Accuracy: 0.8888888955116272\n",
      "Training loss: 0.08625977020710707\n",
      "Validation loss: 1.490596055984497\n",
      "Accuracy: 0.75\n",
      "Training loss: 0.11768817007541657\n",
      "Validation loss: 0.7778492569923401\n",
      "Accuracy: 0.7777777910232544\n",
      "Training loss: 0.07174206860363483\n",
      "Validation loss: 0.7536770105361938\n",
      "Accuracy: 0.8888888955116272\n",
      "Training loss: 0.13604795634746553\n",
      "Validation loss: 0.7198297381401062\n",
      "Accuracy: 0.8333333134651184\n",
      "Training loss: 0.0404840056784451\n",
      "Validation loss: 1.3927180767059326\n",
      "Accuracy: 0.8055555820465088\n",
      "Training loss: 0.12505662366747855\n",
      "Validation loss: 0.5483601093292236\n",
      "Accuracy: 0.8333333134651184\n"
     ]
    }
   ],
   "source": [
    "epochs = 100\n",
    "\n",
    "for e in range(epochs):\n",
    "    running_loss = 0\n",
    "    for features, labels in trainloader:\n",
    "        features = features.float()\n",
    "        labels = labels.float()\n",
    "        output = model.forward(features)\n",
    "        loss = criterion(output, labels)\n",
    "        optimizer.zero_grad()\n",
    "        loss.backward()\n",
    "        optimizer.step()\n",
    "        running_loss += loss.item()\n",
    "    else:\n",
    "        test_loss = 0\n",
    "        accuracy = 0\n",
    "        with th.no_grad():\n",
    "            for features, labels in testloader:\n",
    "                features = features.float()\n",
    "                labels = labels.float()\n",
    "                output = model.forward(features)\n",
    "            \n",
    "                accuracy += th.mean((convertToProb(output.reshape(1)).float() == labels).float())\n",
    "                test_loss += criterion(output, labels)\n",
    "\n",
    "        print(f\"Training loss: {running_loss/len(trainloader)}\")\n",
    "        print(f\"Validation loss: {test_loss/len(testloader)}\")\n",
    "        print(f\"Accuracy: {accuracy/len(testloader)}\")"
   ]
  },
  {
   "cell_type": "code",
   "execution_count": 704,
   "metadata": {},
   "outputs": [
    {
     "data": {
      "text/plain": [
       "Classifier(\n",
       "  (fc1): Linear(in_features=23, out_features=512, bias=True)\n",
       "  (fc2): Linear(in_features=512, out_features=64, bias=True)\n",
       "  (fc3): Linear(in_features=64, out_features=1, bias=True)\n",
       "  (dropout1): Dropout(p=0.5)\n",
       "  (dropout2): Dropout(p=0.25)\n",
       ")"
      ]
     },
     "execution_count": 704,
     "metadata": {},
     "output_type": "execute_result"
    }
   ],
   "source": [
    "model.eval()"
   ]
  },
  {
   "cell_type": "code",
   "execution_count": 394,
   "metadata": {
    "collapsed": true
   },
   "outputs": [],
   "source": []
  },
  {
   "cell_type": "code",
   "execution_count": 705,
   "metadata": {
    "collapsed": true
   },
   "outputs": [],
   "source": [
    "preds = []\n",
    "for idx, row in df_test.iterrows():\n",
    "    test_feature = row.drop(['patient_id']).values\n",
    "    test_feature = scaler.transform(test_feature.reshape(1,-1))\n",
    "    test_feature = test_feature.astype(float)\n",
    "    test_tensor = th.tensor(test_feature)\n",
    "    with th.no_grad():\n",
    "        output = model.forward(test_tensor)\n",
    "        preds.append(output)"
   ]
  },
  {
   "cell_type": "code",
   "execution_count": 706,
   "metadata": {},
   "outputs": [
    {
     "data": {
      "text/plain": [
       "[tensor([[0.4779]]),\n",
       " tensor([[2.5147e-05]]),\n",
       " tensor([[1.0000]]),\n",
       " tensor([[0.0006]]),\n",
       " tensor([[1.0000]]),\n",
       " tensor([[3.9547e-06]]),\n",
       " tensor([[0.0001]]),\n",
       " tensor([[1.]]),\n",
       " tensor([[0.8109]]),\n",
       " tensor([[0.0221]]),\n",
       " tensor([[0.0024]]),\n",
       " tensor([[0.9974]]),\n",
       " tensor([[0.0961]]),\n",
       " tensor([[1.]]),\n",
       " tensor([[4.6887e-06]]),\n",
       " tensor([[1.3515e-07]]),\n",
       " tensor([[1.8679e-08]]),\n",
       " tensor([[2.2648e-07]]),\n",
       " tensor([[1.0000]]),\n",
       " tensor([[0.1702]]),\n",
       " tensor([[1.]]),\n",
       " tensor([[0.0005]]),\n",
       " tensor([[0.0002]]),\n",
       " tensor([[4.9976e-05]]),\n",
       " tensor([[0.1669]]),\n",
       " tensor([[1.0000]]),\n",
       " tensor([[1.9294e-08]]),\n",
       " tensor([[0.9520]]),\n",
       " tensor([[0.9986]]),\n",
       " tensor([[1.3542e-06]]),\n",
       " tensor([[1.]]),\n",
       " tensor([[0.9668]]),\n",
       " tensor([[0.0016]]),\n",
       " tensor([[0.9364]]),\n",
       " tensor([[0.5422]]),\n",
       " tensor([[0.0017]]),\n",
       " tensor([[0.7506]]),\n",
       " tensor([[0.0020]]),\n",
       " tensor([[0.0009]]),\n",
       " tensor([[7.4486e-06]]),\n",
       " tensor([[1.]]),\n",
       " tensor([[2.4595e-05]]),\n",
       " tensor([[0.9998]]),\n",
       " tensor([[0.0032]]),\n",
       " tensor([[1.0000]]),\n",
       " tensor([[1.6059e-06]]),\n",
       " tensor([[0.1095]]),\n",
       " tensor([[0.0405]]),\n",
       " tensor([[0.0002]]),\n",
       " tensor([[0.9999]]),\n",
       " tensor([[0.9969]]),\n",
       " tensor([[1.0681e-06]]),\n",
       " tensor([[1.]]),\n",
       " tensor([[4.2099e-06]]),\n",
       " tensor([[0.9998]]),\n",
       " tensor([[7.0430e-05]]),\n",
       " tensor([[1.]]),\n",
       " tensor([[7.0038e-05]]),\n",
       " tensor([[4.1226e-09]]),\n",
       " tensor([[0.4320]]),\n",
       " tensor([[0.0002]]),\n",
       " tensor([[1.0000]]),\n",
       " tensor([[0.6656]]),\n",
       " tensor([[1.]]),\n",
       " tensor([[0.0339]]),\n",
       " tensor([[0.9878]]),\n",
       " tensor([[1.0000]]),\n",
       " tensor([[0.0982]]),\n",
       " tensor([[0.9307]]),\n",
       " tensor([[0.1646]]),\n",
       " tensor([[0.0090]]),\n",
       " tensor([[1.]]),\n",
       " tensor([[0.9978]]),\n",
       " tensor([[1.]]),\n",
       " tensor([[1.]]),\n",
       " tensor([[1.]]),\n",
       " tensor([[1.0000]]),\n",
       " tensor([[1.0000]]),\n",
       " tensor([[0.0063]]),\n",
       " tensor([[0.0013]]),\n",
       " tensor([[0.7519]]),\n",
       " tensor([[3.8527e-08]]),\n",
       " tensor([[0.0003]]),\n",
       " tensor([[0.9923]]),\n",
       " tensor([[0.0060]]),\n",
       " tensor([[0.0001]]),\n",
       " tensor([[0.9958]]),\n",
       " tensor([[0.9636]]),\n",
       " tensor([[7.6506e-05]]),\n",
       " tensor([[0.0023]])]"
      ]
     },
     "execution_count": 706,
     "metadata": {},
     "output_type": "execute_result"
    }
   ],
   "source": [
    "preds"
   ]
  },
  {
   "cell_type": "code",
   "execution_count": 558,
   "metadata": {
    "collapsed": true
   },
   "outputs": [],
   "source": [
    "import csv\n",
    "with open('test.csv', 'w') as writeFile:\n",
    "    writer = csv.writer(writeFile)\n",
    "    writer.writerow([\"patient_id\",\"heart_disease_present\"])\n",
    "    for i in range(len(preds)):\n",
    "        patient_id = df_test.loc[i, \"patient_id\"]\n",
    "        pred = preds[i].numpy()[0][0]\n",
    "        writer.writerow([patient_id, pred])"
   ]
  },
  {
   "cell_type": "code",
   "execution_count": 396,
   "metadata": {},
   "outputs": [
    {
     "data": {
      "text/plain": [
       "'olalu7'"
      ]
     },
     "execution_count": 396,
     "metadata": {},
     "output_type": "execute_result"
    }
   ],
   "source": [
    "df_test.loc[0, 'patient_id']"
   ]
  },
  {
   "cell_type": "code",
   "execution_count": 584,
   "metadata": {
    "collapsed": true
   },
   "outputs": [],
   "source": [
    "def convertToProb(tensors):\n",
    "    return tensors >= 0.5\n"
   ]
  },
  {
   "cell_type": "code",
   "execution_count": null,
   "metadata": {
    "collapsed": true
   },
   "outputs": [],
   "source": []
  }
 ],
 "metadata": {
  "kernelspec": {
   "display_name": "Python 3",
   "language": "python",
   "name": "python3"
  },
  "language_info": {
   "codemirror_mode": {
    "name": "ipython",
    "version": 3
   },
   "file_extension": ".py",
   "mimetype": "text/x-python",
   "name": "python",
   "nbconvert_exporter": "python",
   "pygments_lexer": "ipython3",
   "version": "3.7.3"
  }
 },
 "nbformat": 4,
 "nbformat_minor": 2
}
