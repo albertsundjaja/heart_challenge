{
 "cells": [
  {
   "cell_type": "code",
   "execution_count": 14,
   "metadata": {},
   "outputs": [],
   "source": [
    "import pandas as pd\n",
    "import numpy as np\n",
    "from sklearn.model_selection import train_test_split\n",
    "from sklearn.preprocessing import LabelEncoder\n",
    "from sklearn.metrics import log_loss\n",
    "from sklearn.preprocessing import OneHotEncoder\n",
    "from sklearn.preprocessing import MinMaxScaler\n",
    "import xgboost as xgb"
   ]
  },
  {
   "cell_type": "code",
   "execution_count": 4,
   "metadata": {},
   "outputs": [],
   "source": [
    "df = pd.read_csv('train_values.csv')\n",
    "df_label = pd.read_csv('train_labels.csv')\n",
    "df_test = pd.read_csv('test_values.csv')"
   ]
  },
  {
   "cell_type": "code",
   "execution_count": 5,
   "metadata": {},
   "outputs": [],
   "source": [
    "## Categorical column\n",
    "## 'slope_of_peak_exercise_st_segment', 'num_major_vessels' are actually numerical\n",
    "## however, after testing, treating them as categorical gives better result\n",
    "\n",
    "category_cols = ['chest_pain_type', 'fasting_blood_sugar_gt_120_mg_per_dl', 'resting_ekg_results', 'sex',\n",
    "                'exercise_induced_angina', 'slope_of_peak_exercise_st_segment', 'num_major_vessels']\n",
    "\n",
    "## Numeric columns\n",
    "\n",
    "numerical_cols = ['resting_blood_pressure', 'serum_cholesterol_mg_per_dl', 'oldpeak_eq_st_depression', \n",
    "                  'age', 'max_heart_rate_achieved']"
   ]
  },
  {
   "cell_type": "markdown",
   "metadata": {},
   "source": [
    "### Quality\n",
    "\n",
    "* the column `thal` is a string and needs to be encoded\n",
    "* the column `fasting_blood_sugar_gt_120_mg_per_dl` is a boolean, convert it to bool datatype to avoid confusion\n",
    "* the column `sex` is a boolean, convert it to bool datatype to avoid confusion\n",
    "* the column `exercise_induced_angina` is a boolean, convert it to bool datatype to avoid confusion\n",
    "\n",
    "### Tidiness\n",
    "\n",
    "There is no structural issue with the data"
   ]
  },
  {
   "cell_type": "markdown",
   "metadata": {},
   "source": [
    "## cleaning"
   ]
  },
  {
   "cell_type": "code",
   "execution_count": 6,
   "metadata": {},
   "outputs": [],
   "source": [
    "df_clean = df.copy()\n",
    "df_test_clean = df_test.copy()"
   ]
  },
  {
   "cell_type": "code",
   "execution_count": 7,
   "metadata": {},
   "outputs": [],
   "source": [
    "lbl_encoder = LabelEncoder()\n",
    "lbl_encoder.fit(df_clean['thal'])\n",
    "df_clean['thal'] = lbl_encoder.transform(df_clean['thal'])\n",
    "df_test_clean['thal'] = lbl_encoder.transform(df_test_clean['thal'])\n",
    "\n",
    "df_clean['fasting_blood_sugar_gt_120_mg_per_dl'] = df_clean['fasting_blood_sugar_gt_120_mg_per_dl'].astype(bool)\n",
    "df_test_clean['fasting_blood_sugar_gt_120_mg_per_dl'] = df_test_clean['fasting_blood_sugar_gt_120_mg_per_dl'].astype(bool)\n",
    "df_clean['sex'] = df_clean['sex'].astype(bool)\n",
    "df_test_clean['sex'] = df_test_clean['sex'].astype(bool)\n",
    "df_clean['exercise_induced_angina'] = df_clean['exercise_induced_angina'].astype(bool)\n",
    "df_test_clean['exercise_induced_angina'] = df_test_clean['exercise_induced_angina'].astype(bool)"
   ]
  },
  {
   "cell_type": "code",
   "execution_count": 8,
   "metadata": {},
   "outputs": [],
   "source": [
    "df_train = df_clean.merge(df_label, on='patient_id', how='left')\n",
    "X_preds = df_test_clean.drop(['patient_id'], axis=1)"
   ]
  },
  {
   "cell_type": "markdown",
   "metadata": {},
   "source": [
    "## One Hot Encoding"
   ]
  },
  {
   "cell_type": "code",
   "execution_count": 9,
   "metadata": {},
   "outputs": [],
   "source": [
    "df_train_onehot = df_train.copy()\n",
    "X_preds_onehot = X_preds.copy()"
   ]
  },
  {
   "cell_type": "code",
   "execution_count": 10,
   "metadata": {},
   "outputs": [],
   "source": [
    "for col in category_cols:\n",
    "    #encoder = OneHotEncoder(sparse=False, drop='first', categories='auto')\n",
    "    encoder = OneHotEncoder(sparse=False, categories='auto')\n",
    "    encoder.fit(np.array(df_train_onehot[col]).reshape(-1,1))\n",
    "\n",
    "    feature_names = []\n",
    "    for val in encoder.categories_[0]:\n",
    "        feature_name = col + \"_\" + str(val)\n",
    "        feature_names.append(feature_name)\n",
    "    #feature_names.pop(0)    \n",
    "\n",
    "    onehot_cols = pd.DataFrame(encoder.transform(np.array(df_train_onehot[col]).reshape(-1,1)), columns=feature_names, index=df_train_onehot.index)\n",
    "    df_train_onehot.drop([col], axis=1, inplace=True)\n",
    "    df_train_onehot = pd.concat([df_train_onehot, onehot_cols], axis=1)\n",
    "\n",
    "    onehot_cols_test = pd.DataFrame(encoder.transform(np.array(X_preds_onehot[col]).reshape(-1,1)), columns=feature_names, index=X_preds_onehot.index)\n",
    "    X_preds_onehot.drop([col], axis=1, inplace=True)\n",
    "    X_preds_onehot = pd.concat([X_preds_onehot, onehot_cols_test], axis=1)"
   ]
  },
  {
   "cell_type": "markdown",
   "metadata": {},
   "source": [
    "## MinMax Scaling"
   ]
  },
  {
   "cell_type": "code",
   "execution_count": 11,
   "metadata": {},
   "outputs": [],
   "source": [
    "df_scaled = df_train_onehot.copy()\n",
    "X_pred_scaled = X_preds_onehot.copy()\n",
    "\n",
    "for col in numerical_cols:\n",
    "    scaler = StandardScaler()\n",
    "    df_scaled[col] = scaler.fit_transform(np.array(df_scaled[col]).reshape(-1,1))\n",
    "    X_pred_scaled[col] = scaler.transform(np.array(X_pred_scaled[col]).reshape(-1,1))"
   ]
  },
  {
   "cell_type": "code",
   "execution_count": 12,
   "metadata": {},
   "outputs": [],
   "source": [
    "X = df_scaled.drop(['patient_id','heart_disease_present'], axis=1)\n",
    "y = df_scaled['heart_disease_present']"
   ]
  },
  {
   "cell_type": "markdown",
   "metadata": {},
   "source": [
    "## XGBoost Classifier"
   ]
  },
  {
   "cell_type": "code",
   "execution_count": 15,
   "metadata": {},
   "outputs": [],
   "source": [
    "xg = xgb.XGBClassifier(n_estimators=100,\n",
    "                        tree_method='gpu_hist',\n",
    "                        n_jobs=4,\n",
    "                        n_gpus=1,\n",
    "                        max_depth=9,\n",
    "                        seed=1,\n",
    "                        learning_rate=0.05,\n",
    "                        subsample=0.5,\n",
    "                        colsample_bytree=0.5)"
   ]
  },
  {
   "cell_type": "code",
   "execution_count": 16,
   "metadata": {},
   "outputs": [
    {
     "data": {
      "text/plain": [
       "XGBClassifier(base_score=0.5, booster='gbtree', colsample_bylevel=1,\n",
       "              colsample_bynode=1, colsample_bytree=0.5, gamma=0,\n",
       "              learning_rate=0.05, max_delta_step=0, max_depth=9,\n",
       "              min_child_weight=1, missing=None, n_estimators=100, n_gpus=1,\n",
       "              n_jobs=4, nthread=None, objective='binary:logistic',\n",
       "              random_state=0, reg_alpha=0, reg_lambda=1, scale_pos_weight=1,\n",
       "              seed=1, silent=None, subsample=0.5, tree_method='gpu_hist',\n",
       "              verbosity=1)"
      ]
     },
     "execution_count": 16,
     "metadata": {},
     "output_type": "execute_result"
    }
   ],
   "source": [
    "xg.fit(X, y)"
   ]
  },
  {
   "cell_type": "code",
   "execution_count": 17,
   "metadata": {},
   "outputs": [],
   "source": [
    "predicts = xg.predict_proba(X_pred_scaled)[:,1]"
   ]
  },
  {
   "cell_type": "code",
   "execution_count": 18,
   "metadata": {},
   "outputs": [],
   "source": [
    "import csv\n",
    "with open('test.csv', 'w', newline='') as writeFile:\n",
    "    writer = csv.writer(writeFile)\n",
    "    writer.writerow([\"patient_id\",\"heart_disease_present\"])\n",
    "    for i in range(len(predicts)):\n",
    "        patient_id = df_test.loc[i, \"patient_id\"]\n",
    "        pred = predicts[i]\n",
    "        writer.writerow([patient_id, pred])"
   ]
  }
 ],
 "metadata": {
  "kernelspec": {
   "display_name": "Python 3",
   "language": "python",
   "name": "python3"
  },
  "language_info": {
   "codemirror_mode": {
    "name": "ipython",
    "version": 3
   },
   "file_extension": ".py",
   "mimetype": "text/x-python",
   "name": "python",
   "nbconvert_exporter": "python",
   "pygments_lexer": "ipython3",
   "version": "3.7.3"
  }
 },
 "nbformat": 4,
 "nbformat_minor": 2
}
